{
 "cells": [
  {
   "metadata": {},
   "cell_type": "markdown",
   "source": "# Chapter 11 - Testing Your Code",
   "id": "482269d26a1ff1b0"
  },
  {
   "metadata": {},
   "cell_type": "code",
   "outputs": [],
   "execution_count": null,
   "source": "from IPython.display import Code",
   "id": "26133320e8cb325c"
  },
  {
   "metadata": {},
   "cell_type": "markdown",
   "source": "### __Testing a Function__",
   "id": "f324257b154d938c"
  },
  {
   "metadata": {},
   "cell_type": "code",
   "outputs": [],
   "execution_count": null,
   "source": [
    "# Testing a Function - name_function_pass.py\n",
    "def get_formatted_name(first, last):\n",
    "    \"\"\"Generate a neatly formatted full name.\"\"\"\n",
    "    full_name = f\"{first} {last}\"\n",
    "    return full_name.title()\n"
   ],
   "id": "72ab4066b36de910"
  },
  {
   "metadata": {},
   "cell_type": "code",
   "outputs": [],
   "execution_count": null,
   "source": [
    "# Testing a Function - names.py\n",
    "from name_function_pass import get_formatted_name\n",
    "\n",
    "print(\"Enter 'q' at any time to quit\")\n",
    "while True:\n",
    "    first = input(\"\\nFirst name: \")\n",
    "    if first == \"q\":\n",
    "        break\n",
    "    last = input(\"Last name: \")\n",
    "    if last == \"q\":\n",
    "        break\n",
    "\n",
    "    formatted_name = get_formatted_name(first, last)\n",
    "    print(f\"\\tNeatly formatted name: {formatted_name}\")\n"
   ],
   "id": "c46784c8e4396119"
  },
  {
   "metadata": {},
   "cell_type": "markdown",
   "source": "#### &emsp;Unit Test and Test Cases",
   "id": "eea98213b03b7522"
  },
  {
   "metadata": {},
   "cell_type": "markdown",
   "source": "#### &emsp;A Passing Test",
   "id": "dd5056c677dc8663"
  },
  {
   "metadata": {},
   "cell_type": "code",
   "outputs": [],
   "execution_count": null,
   "source": [
    "# A Passing Test - test_name_function.py\n",
    "import unittest\n",
    "from name_function_pass import get_formatted_name\n",
    "\n",
    "class NamesTestCase(unittest.TestCase):\n",
    "    \"\"\"Test for name_function_pass.py\"\"\"\n",
    "\n",
    "    def test_first_last_name(self):\n",
    "        \"\"\"Do names like 'Janis Joplin' work?\"\"\"\n",
    "        formatted_name = get_formatted_name('janis', 'joplin')\n",
    "        self.assertEqual(formatted_name, 'Janis Joplin')\n",
    "\n",
    "if __name__ == '__main__':\n",
    "    unittest.main()\n"
   ],
   "id": "db0775e72644a849"
  },
  {
   "metadata": {},
   "cell_type": "markdown",
   "source": "#### &emsp;A Failing Test",
   "id": "65507b49567174"
  },
  {
   "metadata": {},
   "cell_type": "code",
   "outputs": [],
   "execution_count": null,
   "source": [
    "# A Failing Test - name_function_fail.py\n",
    "def get_formatted_name(first, middle, last):\n",
    "    \"\"\"Generate a neatly formatted full name.\"\"\"\n",
    "    full_name = f\"{first} {middle} {last}\"\n",
    "    return full_name.title()\n"
   ],
   "id": "5a4ed5f4392d90b3"
  },
  {
   "metadata": {},
   "cell_type": "code",
   "outputs": [],
   "execution_count": null,
   "source": [
    "# A Passing Test - test_name_function.py\n",
    "import unittest\n",
    "from name_function_fail import get_formatted_name # Changed file here\n",
    "\n",
    "class NamesTestCase(unittest.TestCase):\n",
    "    \"\"\"Test for name_function_pass.py\"\"\"\n",
    "\n",
    "    def test_first_last_name(self):\n",
    "        \"\"\"Do names like 'Janis Joplin' work?\"\"\"\n",
    "        formatted_name = get_formatted_name('janis', 'joplin')\n",
    "        self.assertEqual(formatted_name, 'Janis Joplin')\n",
    "\n",
    "if __name__ == '__main__':\n",
    "    unittest.main()\n"
   ],
   "id": "da3145804606208a"
  },
  {
   "metadata": {},
   "cell_type": "markdown",
   "source": "#### &emsp;Responding to a Failed Test",
   "id": "1495a42aa57dfdbf"
  },
  {
   "metadata": {},
   "cell_type": "code",
   "outputs": [],
   "execution_count": null,
   "source": [
    "# Responding to a Failed Test - name_function_fixed.py\n",
    "def get_formatted_name(first, last, middle =''):\n",
    "    \"\"\"Generate a neatly formatted full name.\"\"\"\n",
    "    if middle:\n",
    "        full_name = f\"{first} {middle} {last}\"\n",
    "    else:\n",
    "        full_name = f\"{first} {last}\"\n",
    "    return full_name.title()\n"
   ],
   "id": "450ac09dd16b79d3"
  },
  {
   "metadata": {},
   "cell_type": "code",
   "outputs": [],
   "execution_count": null,
   "source": [
    "# A Passing Test - test_name_function.py\n",
    "import unittest\n",
    "from name_function_fixed import get_formatted_name\n",
    "\n",
    "class NamesTestCase(unittest.TestCase):\n",
    "    \"\"\"Test for name_function_pass.py\"\"\"\n",
    "\n",
    "    def test_first_last_name(self):\n",
    "        \"\"\"Do names like 'Janis Joplin' work?\"\"\"\n",
    "        formatted_name = get_formatted_name('janis', 'joplin')\n",
    "        self.assertEqual(formatted_name, 'Janis Joplin')\n",
    "\n",
    "if __name__ == '__main__':\n",
    "    unittest.main()\n"
   ],
   "id": "4fa5eca828a0c448"
  },
  {
   "metadata": {},
   "cell_type": "markdown",
   "source": "#### &emsp;Adding New Tests",
   "id": "7ad75aebb2b01848"
  },
  {
   "metadata": {},
   "cell_type": "code",
   "outputs": [],
   "execution_count": null,
   "source": [
    "# Adding New Tests- test_name_function.py\n",
    "import unittest\n",
    "from name_function_fixed import get_formatted_name\n",
    "\n",
    "class NamesTestCase(unittest.TestCase):\n",
    "    \"\"\"Test for name_function_pass.py\"\"\"\n",
    "\n",
    "    def test_first_last_name(self):\n",
    "        \"\"\"Do names like 'Janis Joplin' work?\"\"\"\n",
    "        formatted_name = get_formatted_name('janis', 'joplin')\n",
    "        self.assertEqual(formatted_name, 'Janis Joplin')\n",
    "\n",
    "    def test_first_last_middle_name(self):\n",
    "        \"\"\"Do names like 'Wolfgang Amadeus Mozart' work?\"\"\"\n",
    "        formatted_name = get_formatted_name('wolfgang', 'mozart', 'amadeus')\n",
    "        self.assertEqual(formatted_name,  'Wolfgang Amadeus Mozart')\n",
    "\n",
    "if __name__ == '__main__':\n",
    "    unittest.main()\n"
   ],
   "id": "b0187a410268970e"
  },
  {
   "metadata": {},
   "cell_type": "markdown",
   "source": "#### &emsp;Exercise 11-1: City, Country",
   "id": "8bdfb5c9b8ca4c18"
  },
  {
   "metadata": {},
   "cell_type": "code",
   "outputs": [],
   "execution_count": null,
   "source": [
    "# City, Country - e01_city_functions.py\n",
    "def get_formatted_places(city, country):\n",
    "    \"\"\"Generate a neatly formatted place!.\"\"\"\n",
    "    place = f\"{city}, {country}\"\n",
    "    return place.title()\n"
   ],
   "id": "ab79a7e066c461c5"
  },
  {
   "metadata": {},
   "cell_type": "code",
   "outputs": [],
   "execution_count": null,
   "source": [
    "# City, Country - e01_test_cities.py\n",
    "import unittest\n",
    "from e01_city_functions import get_formatted_places\n",
    "\n",
    "class NamesTestCase(unittest.TestCase):\n",
    "    \"\"\"Test for name_function_pass.py\"\"\"\n",
    "\n",
    "    def test_city_country(self):\n",
    "        \"\"\"Do places like 'Santiago, Chile' work?\"\"\"\n",
    "        place = get_formatted_places('santiago', 'chile')\n",
    "        self.assertEqual(place, 'Santiago, Chile')\n",
    "\n",
    "if __name__ == '__main__':\n",
    "    unittest.main()\n"
   ],
   "id": "27c4812f12a6db13"
  },
  {
   "metadata": {},
   "cell_type": "markdown",
   "source": "#### &emsp;Exercise 11-2: Population",
   "id": "612cd1b01c0763d"
  },
  {
   "metadata": {},
   "cell_type": "code",
   "outputs": [],
   "execution_count": null,
   "source": "",
   "id": "8fd6248789657374"
  },
  {
   "metadata": {},
   "cell_type": "markdown",
   "source": "### __Testing a Class__",
   "id": "c8d74767a35ce0dd"
  },
  {
   "metadata": {},
   "cell_type": "code",
   "outputs": [],
   "execution_count": null,
   "source": "",
   "id": "8c8673961feb6b41"
  },
  {
   "metadata": {},
   "cell_type": "markdown",
   "source": "#### &emsp;A Variety of Assert Methods",
   "id": "66b5259d2b82601d"
  },
  {
   "metadata": {},
   "cell_type": "code",
   "outputs": [],
   "execution_count": null,
   "source": "",
   "id": "49a81381ade8f0d2"
  },
  {
   "metadata": {},
   "cell_type": "markdown",
   "source": "#### &emsp;A Class to Test",
   "id": "ea6829b08b7bf10e"
  },
  {
   "metadata": {},
   "cell_type": "code",
   "outputs": [],
   "execution_count": null,
   "source": "",
   "id": "c303ae20a03a8015"
  },
  {
   "metadata": {},
   "cell_type": "markdown",
   "source": "#### &emsp;Testing the AnonymousSurvey Class",
   "id": "dee896441b98acb7"
  },
  {
   "metadata": {},
   "cell_type": "code",
   "outputs": [],
   "execution_count": null,
   "source": "",
   "id": "cade1b619a39c31b"
  },
  {
   "metadata": {},
   "cell_type": "markdown",
   "source": "#### &emsp;The setUp() Method",
   "id": "e3ad7d8d5fa2c0ca"
  },
  {
   "metadata": {},
   "cell_type": "code",
   "outputs": [],
   "execution_count": null,
   "source": "",
   "id": "38c1b4be337f0a0d"
  },
  {
   "metadata": {},
   "cell_type": "markdown",
   "source": "#### &emsp;Exercise 11-3: Employee",
   "id": "c80daa1261784dc0"
  },
  {
   "metadata": {},
   "cell_type": "code",
   "outputs": [],
   "execution_count": null,
   "source": "",
   "id": "4be572dbc0e95ca6"
  },
  {
   "metadata": {},
   "cell_type": "markdown",
   "source": "### __Summary__",
   "id": "671ff1fec943e01a"
  }
 ],
 "metadata": {
  "kernelspec": {
   "display_name": "Python 3",
   "language": "python",
   "name": "python3"
  },
  "language_info": {
   "codemirror_mode": {
    "name": "ipython",
    "version": 2
   },
   "file_extension": ".py",
   "mimetype": "text/x-python",
   "name": "python",
   "nbconvert_exporter": "python",
   "pygments_lexer": "ipython2",
   "version": "2.7.6"
  }
 },
 "nbformat": 4,
 "nbformat_minor": 5
}
