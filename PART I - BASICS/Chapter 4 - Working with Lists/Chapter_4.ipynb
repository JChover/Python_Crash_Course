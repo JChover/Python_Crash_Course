{
 "cells": [
  {
   "metadata": {},
   "cell_type": "markdown",
   "source": "# __Chapter 4 - Working with Lists__",
   "id": "9e94531e8c85a084"
  },
  {
   "metadata": {},
   "cell_type": "markdown",
   "source": "### __Looping Through an Entire List__",
   "id": "5cb45afcbf704a8a"
  },
  {
   "metadata": {},
   "cell_type": "markdown",
   "source": "#### &emsp;A Closer Look at Looping",
   "id": "2b556fe2594fea1"
  },
  {
   "metadata": {},
   "cell_type": "markdown",
   "source": "#### &emsp;Doing More Work Within a for Loop",
   "id": "e765ab1d1ba2e538"
  },
  {
   "metadata": {},
   "cell_type": "markdown",
   "source": "#### &emsp;Doing Something After a for Loop",
   "id": "49c7f4d186cf2a41"
  },
  {
   "metadata": {},
   "cell_type": "markdown",
   "source": "### __Avoiding Indentation Errors__",
   "id": "b8187f00ff12f29d"
  },
  {
   "metadata": {},
   "cell_type": "markdown",
   "source": "#### &emsp;Forgetting to Indent",
   "id": "869e1919539954df"
  },
  {
   "metadata": {},
   "cell_type": "markdown",
   "source": "#### &emsp;Forgetting to Indent Additional Lines",
   "id": "399e6504888ed19e"
  },
  {
   "metadata": {},
   "cell_type": "markdown",
   "source": "#### &emsp;Indenting Unnecessarily",
   "id": "159fa3e2d9f4a873"
  },
  {
   "metadata": {},
   "cell_type": "markdown",
   "source": "#### &emsp;Indenting Unnecessarily Additional Lines",
   "id": "15c968dd8f363cb5"
  },
  {
   "metadata": {},
   "cell_type": "markdown",
   "source": "#### &emsp;Forgetting the Colon",
   "id": "cf21882965cb4418"
  },
  {
   "metadata": {},
   "cell_type": "markdown",
   "source": "#### &emsp;Exercise 4-1: Pizzas",
   "id": "490be21f58ab27d5"
  },
  {
   "metadata": {},
   "cell_type": "markdown",
   "source": "#### &emsp;Exercise 4-2: Animals",
   "id": "f202b6bbb912689d"
  },
  {
   "metadata": {},
   "cell_type": "markdown",
   "source": "### __Making Numerical Lists__",
   "id": "868680cff8a88dd7"
  },
  {
   "metadata": {},
   "cell_type": "markdown",
   "source": "#### &emsp;Using the range() Function",
   "id": "b57179654133ef09"
  },
  {
   "metadata": {},
   "cell_type": "markdown",
   "source": "#### &emsp;Using range() to Make a List of Numbers",
   "id": "2dd9c3c49c458e44"
  },
  {
   "metadata": {},
   "cell_type": "markdown",
   "source": "#### &emsp;Simple Statistics with a List of Numbers",
   "id": "76affb94b4219df8"
  },
  {
   "metadata": {},
   "cell_type": "markdown",
   "source": "#### &emsp;List Comprehensions",
   "id": "8adbbb9b86e4780d"
  },
  {
   "metadata": {},
   "cell_type": "markdown",
   "source": "#### &emsp;Exercise 4-3: Counting to Twenty",
   "id": "e43b0af495879a55"
  },
  {
   "metadata": {},
   "cell_type": "markdown",
   "source": "#### &emsp;Exercise 4-4: One Million",
   "id": "228910915db3c1c1"
  },
  {
   "metadata": {},
   "cell_type": "markdown",
   "source": "#### &emsp;Exercise 4-5: Summing a Million",
   "id": "57e01e9e1a13f267"
  },
  {
   "metadata": {},
   "cell_type": "markdown",
   "source": "#### &emsp;Exercise 4-6: Odd Numbers",
   "id": "8a45c049b5c19724"
  },
  {
   "metadata": {},
   "cell_type": "markdown",
   "source": "#### &emsp;Exercise 4-7: Threes",
   "id": "8aeda9062e9cfb6a"
  },
  {
   "metadata": {},
   "cell_type": "markdown",
   "source": "#### &emsp;Exercise 4-8: Cubes ",
   "id": "44a9bb8c5acc8266"
  },
  {
   "metadata": {},
   "cell_type": "markdown",
   "source": "#### &emsp;Exercise 4-9: Cube Comprehension",
   "id": "58412bdc12249acf"
  },
  {
   "metadata": {},
   "cell_type": "markdown",
   "source": "### __Working with Part of a List__",
   "id": "89a9635e9d4ddd72"
  },
  {
   "metadata": {},
   "cell_type": "markdown",
   "source": "#### &emsp;Slicing a List",
   "id": "c822ba12db9a693e"
  },
  {
   "metadata": {},
   "cell_type": "markdown",
   "source": "#### &emsp;Looping Through a Slice",
   "id": "d2faed7190011e6c"
  },
  {
   "metadata": {},
   "cell_type": "markdown",
   "source": "#### &emsp;Copying a List",
   "id": "dc42366f1bd20df"
  },
  {
   "metadata": {},
   "cell_type": "markdown",
   "source": "#### &emsp;Exercise 4-10: Slices",
   "id": "77c608a2493dfe2f"
  },
  {
   "metadata": {},
   "cell_type": "markdown",
   "source": "#### &emsp;Exercise 4-11: My Pizzas, Your Pizzas",
   "id": "fb9d8528bc5d6f58"
  },
  {
   "metadata": {},
   "cell_type": "markdown",
   "source": "#### &emsp;Exercise 4-12: More Loops",
   "id": "2eab78ad0d751c0f"
  },
  {
   "metadata": {},
   "cell_type": "markdown",
   "source": "### __Tuples__",
   "id": "84f38ce28eb2d1e7"
  },
  {
   "metadata": {},
   "cell_type": "markdown",
   "source": "#### &emsp;Defining a Tuple",
   "id": "f686185f0929965f"
  },
  {
   "metadata": {},
   "cell_type": "markdown",
   "source": "#### &emsp;Looping Through All Values in a Tuple",
   "id": "757b8590f7106117"
  },
  {
   "metadata": {},
   "cell_type": "markdown",
   "source": "#### &emsp;Writing over a Tuple",
   "id": "ad23768d3a7a663"
  },
  {
   "metadata": {},
   "cell_type": "markdown",
   "source": "#### &emsp;Exercise 4-13: Buffet",
   "id": "cce1cb9dfd88574c"
  },
  {
   "metadata": {},
   "cell_type": "markdown",
   "source": "### __Styling Your Code__",
   "id": "8c0aaf874c1cefcc"
  },
  {
   "metadata": {},
   "cell_type": "markdown",
   "source": "#### &emsp;The Style Guide",
   "id": "619dde9213acd2c6"
  },
  {
   "metadata": {},
   "cell_type": "markdown",
   "source": "#### &emsp;Indentation",
   "id": "4fad8f8dca785ea2"
  },
  {
   "metadata": {},
   "cell_type": "markdown",
   "source": "#### &emsp;Line Length",
   "id": "3f84ec22f57c4f9a"
  },
  {
   "metadata": {},
   "cell_type": "markdown",
   "source": "#### &emsp;Blank Lines",
   "id": "84f74eb6e980902d"
  },
  {
   "metadata": {},
   "cell_type": "markdown",
   "source": "#### &emsp;Other Style Guideliness",
   "id": "194e53aaf391d805"
  },
  {
   "metadata": {},
   "cell_type": "markdown",
   "source": "#### &emsp;Exercise 4-14: PEP 8",
   "id": "2a1d4a51eb029467"
  },
  {
   "metadata": {},
   "cell_type": "markdown",
   "source": "#### &emsp;Exercise 4-15: Code Review",
   "id": "251be5662d6a7221"
  },
  {
   "metadata": {},
   "cell_type": "markdown",
   "source": "### __Summary__",
   "id": "d333efbf75aafe4e"
  },
  {
   "metadata": {},
   "cell_type": "code",
   "outputs": [],
   "execution_count": null,
   "source": "",
   "id": "1df8f492d994c2f5"
  }
 ],
 "metadata": {
  "kernelspec": {
   "display_name": "Python 3",
   "language": "python",
   "name": "python3"
  },
  "language_info": {
   "codemirror_mode": {
    "name": "ipython",
    "version": 2
   },
   "file_extension": ".py",
   "mimetype": "text/x-python",
   "name": "python",
   "nbconvert_exporter": "python",
   "pygments_lexer": "ipython2",
   "version": "2.7.6"
  }
 },
 "nbformat": 4,
 "nbformat_minor": 5
}
