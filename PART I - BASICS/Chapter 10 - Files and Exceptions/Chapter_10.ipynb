{
 "cells": [
  {
   "metadata": {},
   "cell_type": "markdown",
   "source": "# Chapter 10 - Files and Exceptions",
   "id": "237aa962d87eba7f"
  },
  {
   "metadata": {},
   "cell_type": "code",
   "outputs": [],
   "execution_count": null,
   "source": "from IPython.display import Code",
   "id": "87bdc91b4323497f"
  },
  {
   "metadata": {},
   "cell_type": "markdown",
   "source": "### __Reading from a File__",
   "id": "88ec3ec11b31373f"
  },
  {
   "metadata": {},
   "cell_type": "markdown",
   "source": "#### &emsp;Reading an Entire file",
   "id": "91a075e9621e8b69"
  },
  {
   "metadata": {},
   "cell_type": "code",
   "outputs": [],
   "execution_count": null,
   "source": [
    "# Reading an Entire File - file_reader.py\n",
    "with open('pi_digits.txt') as file_object:\n",
    "    contents = file_object.read() # This leaves a blank space at the end.\n",
    "    print(contents) # We can do contents.rstrip() to remove the blank space.\n"
   ],
   "id": "5f0c6d8c0eee8c31"
  },
  {
   "metadata": {},
   "cell_type": "code",
   "outputs": [],
   "execution_count": null,
   "source": [
    "# This is pi_digits.txt\n",
    "3.1415926535\n",
    "  8979323846\n",
    "  2643383279"
   ],
   "id": "f16d76c7d7a8e76f"
  },
  {
   "metadata": {},
   "cell_type": "markdown",
   "source": "#### &emsp;File Paths",
   "id": "6e6a1db379b9f818"
  },
  {
   "metadata": {},
   "cell_type": "code",
   "outputs": [],
   "execution_count": null,
   "source": [
    "# Relative Path\n",
    "with open('text_files/filename.txt') as file_object:\n",
    "\n",
    "# Absolute Path\n",
    "file_path = '/home/ehmatthes/other_files/text_files/filename.txt'\n",
    "with open(file_path) as file_object:"
   ],
   "id": "fc67268b1c4ac854"
  },
  {
   "metadata": {},
   "cell_type": "markdown",
   "source": "#### &emsp;Reading Line by Line",
   "id": "5fc599b2cf24a609"
  },
  {
   "metadata": {},
   "cell_type": "code",
   "outputs": [],
   "execution_count": null,
   "source": [
    "# Reading Line by Line - file_reader.py\n",
    "filename = 'pi_digits.txt'\n",
    "\n",
    "with open(filename) as file_object:\n",
    "    for line in file_object:\n",
    "        print(line.rstrip())\n"
   ],
   "id": "28525beba29c2a85"
  },
  {
   "metadata": {},
   "cell_type": "markdown",
   "source": "#### &emsp;Making a List of Lines from a File",
   "id": "de03f0a52f06a650"
  },
  {
   "metadata": {},
   "cell_type": "code",
   "outputs": [],
   "execution_count": null,
   "source": [
    "# Making a List of Lines from a File - file_reader.py\n",
    "filename = 'pi_digits.txt'\n",
    "\n",
    "with open(filename) as file_object:\n",
    "    lines = file_object.readlines()\n",
    "\n",
    "for line in lines:\n",
    "    print(line.rstrip())\n"
   ],
   "id": "325d667dfa8c7a63"
  },
  {
   "metadata": {},
   "cell_type": "markdown",
   "source": "#### &emsp;Working with a File's Contents",
   "id": "9999aec224c97d76"
  },
  {
   "metadata": {},
   "cell_type": "code",
   "outputs": [],
   "execution_count": null,
   "source": [
    "# Working with a File’s Contents - pi_string.py\n",
    "filename = 'pi_digits.txt'\n",
    "\n",
    "with open(filename) as file_object:\n",
    "    lines = file_object.readlines()\n",
    "\n",
    "pi_string = ''\n",
    "for line in lines:\n",
    "    pi_string += line.strip() # strip instead of rstrip to remove spaces on the left also\n",
    "\n",
    "print(pi_string)\n",
    "print(len(pi_string))\n"
   ],
   "id": "fed0b55af6585771"
  },
  {
   "metadata": {},
   "cell_type": "markdown",
   "source": "#### &emsp;Large Files: One Million Digits",
   "id": "ec5fef82a6c36290"
  },
  {
   "metadata": {},
   "cell_type": "code",
   "outputs": [],
   "execution_count": null,
   "source": [
    "# Large Files: One Million Digits - pi_string.py\n",
    "filename = 'pi_million_digits.txt'\n",
    "\n",
    "with open(filename) as file_object:\n",
    "    lines = file_object.readlines()\n",
    "\n",
    "pi_string = ''\n",
    "for line in lines:\n",
    "    pi_string += line.strip() # strip instead of rstrip to remove spaces on the left also\n",
    "\n",
    "print(f\"{pi_string[:52]}...\") # To display only the first 50 decimals\n",
    "print(len(pi_string))\n"
   ],
   "id": "c1940527636eb3bd"
  },
  {
   "metadata": {},
   "cell_type": "markdown",
   "source": "#### &emsp;Is Your Birthday Contained in Pi?",
   "id": "1c4faafd4564b394"
  },
  {
   "metadata": {},
   "cell_type": "code",
   "outputs": [],
   "execution_count": null,
   "source": [
    "# Is Your Birthday Contained in Pi? - pi_string.py\n",
    "filename = 'pi_million_digits.txt'\n",
    "\n",
    "with open(filename) as file_object:\n",
    "    lines = file_object.readlines()\n",
    "\n",
    "pi_string = ''\n",
    "for line in lines:\n",
    "    pi_string += line.strip()\n",
    "\n",
    "birthday = input(\"Enter your birthday, in the form ddmmyyyy: \")\n",
    "if birthday in pi_string:\n",
    "    print(\"Your birthday appears in the first million digits of pi!\")\n",
    "else:\n",
    "    print(\"Your birthday does not appear in the first million digits of pi!\")\n"
   ],
   "id": "d5e3ad216b5a3df1"
  },
  {
   "metadata": {},
   "cell_type": "markdown",
   "source": "#### &emsp;Exercise 10-1: Learning Python",
   "id": "72e88d11b05ab4b2"
  },
  {
   "metadata": {},
   "cell_type": "code",
   "outputs": [],
   "execution_count": null,
   "source": [
    "# 10-1 Learning Python - e01_learning_python.py\n",
    "filename = 'e01_learning_python.txt'\n",
    "\n",
    "# Reading the Entire File\n",
    "with open(filename) as file_object:\n",
    "    content = file_object.read()\n",
    "    print(content)\n",
    "\n",
    "# Reading by Looping the file_object\n",
    "with open(filename) as file_object:\n",
    "    for line in file_object:\n",
    "        print(line.rstrip())\n",
    "\n",
    "# Reading by storing in a List\n",
    "with open(filename) as file_object:\n",
    "    lines = file_object.readlines()\n",
    "\n",
    "for line in lines:\n",
    "    print(line.rstrip())\n"
   ],
   "id": "46be44a2362839e9"
  },
  {
   "metadata": {},
   "cell_type": "markdown",
   "source": "#### &emsp;Exercise 10-2: Learning C",
   "id": "f1fc0274b8481227"
  },
  {
   "metadata": {},
   "cell_type": "code",
   "outputs": [],
   "execution_count": null,
   "source": [
    "# 10-2 Learning C - e02_learning_c.py\n",
    "filename = 'e01_learning_python.txt'\n",
    "\n",
    "with open(filename) as file_object:\n",
    "    p_lines = file_object.readlines()\n",
    "\n",
    "for line in p_lines:\n",
    "    c_line = line.replace('Python','C')\n",
    "    print(c_line.rstrip())\n"
   ],
   "id": "36135e5f6f36fed1"
  },
  {
   "metadata": {},
   "cell_type": "markdown",
   "source": "### __Writing to a File__",
   "id": "5695350d91836af2"
  },
  {
   "metadata": {},
   "cell_type": "markdown",
   "source": "#### &emsp;Writing to an Empty File",
   "id": "bc7ae730606ae2b6"
  },
  {
   "metadata": {},
   "cell_type": "code",
   "outputs": [],
   "execution_count": null,
   "source": [
    "# Writing to an Empty File - write_message.py\n",
    "filename = 'programming.txt'\n",
    "\n",
    "with open(filename, 'w') as file_object:\n",
    "    file_object.write(\"I love programming.\")"
   ],
   "id": "1c75c4aabacc025c"
  },
  {
   "metadata": {},
   "cell_type": "markdown",
   "source": "#### &emsp;Writing Multiple Lines",
   "id": "8634018b94c6e6fd"
  },
  {
   "metadata": {},
   "cell_type": "code",
   "outputs": [],
   "execution_count": null,
   "source": [
    "# Writing Multiple Lines - write_message.py\n",
    "filename = 'programming.txt'\n",
    "\n",
    "with open(filename, 'w') as file_object:\n",
    "    file_object.write(\"I love programming.\\n\") # Need to add \\n so each line is inserted correctly.\n",
    "    file_object.write(\"I love creating new games.\\n\")\n"
   ],
   "id": "3bc020f938cc98e3"
  },
  {
   "metadata": {},
   "cell_type": "markdown",
   "source": "#### &emsp;Appending to a File",
   "id": "f5d2b0005de75043"
  },
  {
   "metadata": {},
   "cell_type": "code",
   "outputs": [],
   "execution_count": null,
   "source": [
    "# Appending to a File - write_message.py\n",
    "filename = 'programming.txt'\n",
    "\n",
    "with open(filename, 'a') as file_object: # We use 'a' mode to append.\n",
    "    file_object.write(\"I also love finding meaning in large datasets.\\n\")\n",
    "    file_object.write(\"I love creating apps that can run in a browser.\\n\")\n"
   ],
   "id": "661875462ac948de"
  },
  {
   "metadata": {},
   "cell_type": "markdown",
   "source": "#### &emsp;Exercise 10-3: Guest",
   "id": "8a671f1aa119dd40"
  },
  {
   "metadata": {},
   "cell_type": "code",
   "outputs": [],
   "execution_count": null,
   "source": [
    "# 10-3 Guest - e03_guest.py\n",
    "filename = 'e03_guest.txt'\n",
    "\n",
    "with open(filename, 'w') as file_object:\n",
    "    name = input(\"What is your name?: \")\n",
    "    file_object.write(name)\n"
   ],
   "id": "1d3e75bfb24d8d65"
  },
  {
   "metadata": {},
   "cell_type": "markdown",
   "source": "#### &emsp;Exercise 10-4: Guest Book",
   "id": "5a61cb66eb4c967"
  },
  {
   "metadata": {},
   "cell_type": "code",
   "outputs": [],
   "execution_count": null,
   "source": [
    "# 10-4 Guest Book - e04_guest_book.py\n",
    "filename = 'e04_guest_book.txt'\n",
    "\n",
    "with open(filename, 'a') as file_object:\n",
    "    while True:\n",
    "        name = input(\"What is your name?(q to quit): \")\n",
    "        if name != 'q':\n",
    "            file_object.write(f\"{name}\\n\")\n",
    "            print(f\"Nice to meet you {name}!\\n\")\n",
    "        else:\n",
    "            print(\"Thank you!\")\n",
    "            break\n"
   ],
   "id": "4aa8613a86019762"
  },
  {
   "metadata": {},
   "cell_type": "markdown",
   "source": "#### &emsp;Exercise 10-5: Programming Poll",
   "id": "4ddaa66d7ac16b2f"
  },
  {
   "metadata": {},
   "cell_type": "code",
   "outputs": [],
   "execution_count": null,
   "source": [
    "# 10-5 Programming Poll - e05_programming_poll.py\n",
    "filename = 'e05_programming_poll.txt'\n",
    "\n",
    "with open(filename, 'a') as file_object:\n",
    "    while True:\n",
    "        response = input(\"Why do you like programming?(q to quit): \")\n",
    "        if response != 'q':\n",
    "            file_object.write(f\"{response}\\n\")\n",
    "        else:\n",
    "            print(\"Thank you!\")\n",
    "            break\n"
   ],
   "id": "869883b2bfcc9abd"
  },
  {
   "metadata": {},
   "cell_type": "markdown",
   "source": "### __Exceptions__",
   "id": "6f888c87cd4ba8aa"
  },
  {
   "metadata": {},
   "cell_type": "markdown",
   "source": "#### &emsp;Handling the ZeroDivisionError Exception",
   "id": "22c541988bf443de"
  },
  {
   "metadata": {},
   "cell_type": "code",
   "outputs": [],
   "execution_count": null,
   "source": [
    "# Handling the ZeroDivisionError Exception - division_calculator.py\n",
    "print(5/0) # Returns ZeroDivisionError: division by zero\n"
   ],
   "id": "658db42c105e5cf9"
  },
  {
   "metadata": {},
   "cell_type": "markdown",
   "source": "#### &emsp;Using try-except Blocks",
   "id": "c114bf4c0e24785b"
  },
  {
   "metadata": {},
   "cell_type": "code",
   "outputs": [],
   "execution_count": null,
   "source": [
    "# Using try-except Blocks - division_calculator.py\n",
    "try:\n",
    "    print(5/0)\n",
    "except ZeroDivisionError:\n",
    "    print(\"You can't divide by zero!\")\n"
   ],
   "id": "43107ee528b39dc3"
  },
  {
   "metadata": {},
   "cell_type": "markdown",
   "source": "#### &emsp;Using Exceptions to Prevent Crashes",
   "id": "76a7528860282bc8"
  },
  {
   "metadata": {},
   "cell_type": "code",
   "outputs": [],
   "execution_count": null,
   "source": [
    "# Using Exceptions to Prevent Crashes - division_calculator.py\n",
    "print(\"Give me two numbers, and I'll divide them(q to quit):\")\n",
    "\n",
    "while True:\n",
    "    first_number = input(\"\\nFirst number: \")\n",
    "    if first_number == 'q':\n",
    "        break\n",
    "    second_number = input(\"Second number: \")\n",
    "    if second_number == 'q':\n",
    "        break\n",
    "    answer = int(first_number) / int(second_number)\n",
    "    print(f\"Result: {answer}\")\n"
   ],
   "id": "b687dec6b06a97c0"
  },
  {
   "metadata": {},
   "cell_type": "markdown",
   "source": "If we divide by 0 in this program, ZeroDivisionError exception will be triggered and stop the program from keep running.",
   "id": "bd1472c132fde8aa"
  },
  {
   "metadata": {},
   "cell_type": "markdown",
   "source": "#### &emsp;The else Block",
   "id": "d0f22e7f1e6c11a4"
  },
  {
   "metadata": {},
   "cell_type": "code",
   "outputs": [],
   "execution_count": null,
   "source": [
    "# The else Block - division_calculator.py\n",
    "print(\"Give me two numbers, and I'll divide them(q to quit):\")\n",
    "\n",
    "while True:\n",
    "    first_number = input(\"\\nFirst number: \")\n",
    "    if first_number == 'q':\n",
    "        break\n",
    "    second_number = input(\"Second number: \")\n",
    "    if second_number == 'q':\n",
    "        break\n",
    "    try:\n",
    "        answer = int(first_number) / int(second_number)\n",
    "    except ZeroDivisionError:\n",
    "        print(\"You can't divide by zero!\")\n",
    "    else:\n",
    "        print(f\"Result: {answer}\")\n"
   ],
   "id": "c08adf5e548e4407"
  },
  {
   "metadata": {},
   "cell_type": "markdown",
   "source": "Now, by wrapping the line that performs the division with the try/except/else block even when we divide by 0 the program will keep running.",
   "id": "3905335a127b3cab"
  },
  {
   "metadata": {},
   "cell_type": "markdown",
   "source": "#### &emsp;Handling the FileNotFoundError Exception",
   "id": "a1d7c0efa625711d"
  },
  {
   "metadata": {},
   "cell_type": "code",
   "outputs": [],
   "execution_count": null,
   "source": [
    "# Handling the FileNotFoundError Exception - alice.py\n",
    "filename = 'alice.txt'\n",
    "\n",
    "with open(filename, encoding='utf-8') as f:\n",
    "    contents = f.read() # FileNotFoundError: [Errno 2] No such file or directory: 'alice.txt'\n"
   ],
   "id": "dd8cbdec6d4dc92"
  },
  {
   "metadata": {},
   "cell_type": "code",
   "outputs": [],
   "execution_count": null,
   "source": [
    "# Handling the FileNotFoundError Exception - alice.py\n",
    "filename = 'alice.txt'\n",
    "\n",
    "try:\n",
    "    with open(filename, encoding='utf-8') as f:\n",
    "        contents = f.read() # FileNotFoundError: [Errno 2] No such file or directory: 'alice.txt'\n",
    "except FileNotFoundError:\n",
    "    print(f\"Sorry, the file {filename} does not exist.\")\n"
   ],
   "id": "f69643267aede7d1"
  },
  {
   "metadata": {},
   "cell_type": "markdown",
   "source": "#### &emsp;Analyzing Text",
   "id": "3291f3bc5b552a7d"
  },
  {
   "metadata": {},
   "cell_type": "code",
   "outputs": [],
   "execution_count": null,
   "source": [
    "# Analyzing Text - alice.py\n",
    "filename = 'alice.txt'\n",
    "\n",
    "try:\n",
    "    with open(filename, encoding='utf-8') as f:\n",
    "        contents = f.read() # FileNotFoundError: [Errno 2] No such file or directory: 'alice.txt'\n",
    "except FileNotFoundError:\n",
    "    print(f\"Sorry, the file {filename} does not exist.\")\n",
    "else:\n",
    "    # Count the approximate number of words in the file.\n",
    "    words = contents.split()\n",
    "    num_words = len(words)\n",
    "    print(f\"The file {filename} has about {num_words} words.\")\n"
   ],
   "id": "7412046e0b3e4efe"
  },
  {
   "metadata": {},
   "cell_type": "markdown",
   "source": "#### &emsp;Working with Multiple files",
   "id": "e59c6c20eeae370a"
  },
  {
   "metadata": {},
   "cell_type": "code",
   "outputs": [],
   "execution_count": null,
   "source": [
    "# Working with Multiple Files - word_count.py\n",
    "def count_words(filename):\n",
    "    \"\"\"Count the approximate number of words in a file.\"\"\"\n",
    "    try:\n",
    "        with open(filename, encoding='utf-8') as f:\n",
    "            contents = f.read() # FileNotFoundError: [Errno 2] No such file or directory: 'alice.txt'\n",
    "    except FileNotFoundError:\n",
    "        print(f\"Sorry, the file {filename} does not exist.\")\n",
    "    else:\n",
    "        # Count the approximate number of words in the file.\n",
    "        words = contents.split()\n",
    "        num_words = len(words)\n",
    "        print(f\"The file {filename} has about {num_words} words.\")\n",
    "\n",
    "filenames = ['alice.txt', 'siddhartha.txt', 'moby_dick.txt', 'little_women.txt']\n",
    "for filename in filenames:\n",
    "    count_words(filename)\n"
   ],
   "id": "e1f05f8648f2f103"
  },
  {
   "metadata": {},
   "cell_type": "markdown",
   "source": "#### &emsp;Failing Silently",
   "id": "9e47c74a48f42640"
  },
  {
   "metadata": {},
   "cell_type": "code",
   "outputs": [],
   "execution_count": null,
   "source": [
    "# Failing Silently - word_count.py\n",
    "def count_words(filename):\n",
    "    \"\"\"Count the approximate number of words in a file.\"\"\"\n",
    "    try:\n",
    "        with open(filename, encoding='utf-8') as f:\n",
    "            contents = f.read() # FileNotFoundError: [Errno 2] No such file or directory: 'alice.txt'\n",
    "    except FileNotFoundError:\n",
    "        pass # By using the pass statement we will not inform of the exception and just keep going\n",
    "    else:\n",
    "        # Count the approximate number of words in the file.\n",
    "        words = contents.split()\n",
    "        num_words = len(words)\n",
    "        print(f\"The file {filename} has about {num_words} words.\")\n",
    "\n",
    "filenames = ['alice.txt', 'siddhartha.txt', 'moby_dick.txt', 'little_women.txt']\n",
    "for filename in filenames:\n",
    "    count_words(filename)\n"
   ],
   "id": "5b9b2d2a73f3b103"
  },
  {
   "metadata": {},
   "cell_type": "markdown",
   "source": "#### &emsp;Deciding Which Errors to Report",
   "id": "1aa75b756b576266"
  },
  {
   "metadata": {},
   "cell_type": "markdown",
   "source": "#### &emsp;Exercise 10-6: Addition",
   "id": "834875552bbfa129"
  },
  {
   "metadata": {
    "ExecuteTime": {
     "end_time": "2025-03-04T18:23:35.489063Z",
     "start_time": "2025-03-04T18:23:32.672146Z"
    }
   },
   "cell_type": "code",
   "source": [
    "# 10-06 Addition - e06_addition.py\n",
    "print(\"Give me two numbers, and I'll ADD them(q to quit):\")\n",
    "\n",
    "while True:\n",
    "    first_number = input(\"\\nFirst number: \")\n",
    "    if first_number == 'q':\n",
    "        break\n",
    "    second_number = input(\"Second number: \")\n",
    "    if second_number == 'q':\n",
    "        break\n",
    "    try:\n",
    "        answer = int(first_number) + int(second_number)\n",
    "    except ValueError:\n",
    "        print(\"You have to insert a number.!\")\n",
    "    else:\n",
    "        print(f\"Result: {answer}\")\n"
   ],
   "id": "4d25402a65669ef",
   "outputs": [
    {
     "name": "stdout",
     "output_type": "stream",
     "text": [
      "Give me two numbers, and I'll ADD them(q to quit):\n"
     ]
    },
    {
     "ename": "KeyboardInterrupt",
     "evalue": "Interrupted by user",
     "output_type": "error",
     "traceback": [
      "\u001B[31m---------------------------------------------------------------------------\u001B[39m",
      "\u001B[31mKeyboardInterrupt\u001B[39m                         Traceback (most recent call last)",
      "\u001B[36mCell\u001B[39m\u001B[36m \u001B[39m\u001B[32mIn[2]\u001B[39m\u001B[32m, line 5\u001B[39m\n\u001B[32m      2\u001B[39m \u001B[38;5;28mprint\u001B[39m(\u001B[33m\"\u001B[39m\u001B[33mGive me two numbers, and I\u001B[39m\u001B[33m'\u001B[39m\u001B[33mll ADD them(q to quit):\u001B[39m\u001B[33m\"\u001B[39m)\n\u001B[32m      4\u001B[39m \u001B[38;5;28;01mwhile\u001B[39;00m \u001B[38;5;28;01mTrue\u001B[39;00m:\n\u001B[32m----> \u001B[39m\u001B[32m5\u001B[39m     first_number = \u001B[38;5;28;43minput\u001B[39;49m\u001B[43m(\u001B[49m\u001B[33;43m\"\u001B[39;49m\u001B[38;5;130;43;01m\\n\u001B[39;49;00m\u001B[33;43mFirst number: \u001B[39;49m\u001B[33;43m\"\u001B[39;49m\u001B[43m)\u001B[49m\n\u001B[32m      6\u001B[39m     \u001B[38;5;28;01mif\u001B[39;00m first_number == \u001B[33m'\u001B[39m\u001B[33mq\u001B[39m\u001B[33m'\u001B[39m:\n\u001B[32m      7\u001B[39m         \u001B[38;5;28;01mbreak\u001B[39;00m\n",
      "\u001B[36mFile \u001B[39m\u001B[32m/Library/Frameworks/Python.framework/Versions/3.12/lib/python3.12/site-packages/ipykernel/kernelbase.py:1282\u001B[39m, in \u001B[36mKernel.raw_input\u001B[39m\u001B[34m(self, prompt)\u001B[39m\n\u001B[32m   1280\u001B[39m     msg = \u001B[33m\"\u001B[39m\u001B[33mraw_input was called, but this frontend does not support input requests.\u001B[39m\u001B[33m\"\u001B[39m\n\u001B[32m   1281\u001B[39m     \u001B[38;5;28;01mraise\u001B[39;00m StdinNotImplementedError(msg)\n\u001B[32m-> \u001B[39m\u001B[32m1282\u001B[39m \u001B[38;5;28;01mreturn\u001B[39;00m \u001B[38;5;28;43mself\u001B[39;49m\u001B[43m.\u001B[49m\u001B[43m_input_request\u001B[49m\u001B[43m(\u001B[49m\n\u001B[32m   1283\u001B[39m \u001B[43m    \u001B[49m\u001B[38;5;28;43mstr\u001B[39;49m\u001B[43m(\u001B[49m\u001B[43mprompt\u001B[49m\u001B[43m)\u001B[49m\u001B[43m,\u001B[49m\n\u001B[32m   1284\u001B[39m \u001B[43m    \u001B[49m\u001B[38;5;28;43mself\u001B[39;49m\u001B[43m.\u001B[49m\u001B[43m_parent_ident\u001B[49m\u001B[43m[\u001B[49m\u001B[33;43m\"\u001B[39;49m\u001B[33;43mshell\u001B[39;49m\u001B[33;43m\"\u001B[39;49m\u001B[43m]\u001B[49m\u001B[43m,\u001B[49m\n\u001B[32m   1285\u001B[39m \u001B[43m    \u001B[49m\u001B[38;5;28;43mself\u001B[39;49m\u001B[43m.\u001B[49m\u001B[43mget_parent\u001B[49m\u001B[43m(\u001B[49m\u001B[33;43m\"\u001B[39;49m\u001B[33;43mshell\u001B[39;49m\u001B[33;43m\"\u001B[39;49m\u001B[43m)\u001B[49m\u001B[43m,\u001B[49m\n\u001B[32m   1286\u001B[39m \u001B[43m    \u001B[49m\u001B[43mpassword\u001B[49m\u001B[43m=\u001B[49m\u001B[38;5;28;43;01mFalse\u001B[39;49;00m\u001B[43m,\u001B[49m\n\u001B[32m   1287\u001B[39m \u001B[43m\u001B[49m\u001B[43m)\u001B[49m\n",
      "\u001B[36mFile \u001B[39m\u001B[32m/Library/Frameworks/Python.framework/Versions/3.12/lib/python3.12/site-packages/ipykernel/kernelbase.py:1325\u001B[39m, in \u001B[36mKernel._input_request\u001B[39m\u001B[34m(self, prompt, ident, parent, password)\u001B[39m\n\u001B[32m   1322\u001B[39m \u001B[38;5;28;01mexcept\u001B[39;00m \u001B[38;5;167;01mKeyboardInterrupt\u001B[39;00m:\n\u001B[32m   1323\u001B[39m     \u001B[38;5;66;03m# re-raise KeyboardInterrupt, to truncate traceback\u001B[39;00m\n\u001B[32m   1324\u001B[39m     msg = \u001B[33m\"\u001B[39m\u001B[33mInterrupted by user\u001B[39m\u001B[33m\"\u001B[39m\n\u001B[32m-> \u001B[39m\u001B[32m1325\u001B[39m     \u001B[38;5;28;01mraise\u001B[39;00m \u001B[38;5;167;01mKeyboardInterrupt\u001B[39;00m(msg) \u001B[38;5;28;01mfrom\u001B[39;00m\u001B[38;5;250m \u001B[39m\u001B[38;5;28;01mNone\u001B[39;00m\n\u001B[32m   1326\u001B[39m \u001B[38;5;28;01mexcept\u001B[39;00m \u001B[38;5;167;01mException\u001B[39;00m:\n\u001B[32m   1327\u001B[39m     \u001B[38;5;28mself\u001B[39m.log.warning(\u001B[33m\"\u001B[39m\u001B[33mInvalid Message:\u001B[39m\u001B[33m\"\u001B[39m, exc_info=\u001B[38;5;28;01mTrue\u001B[39;00m)\n",
      "\u001B[31mKeyboardInterrupt\u001B[39m: Interrupted by user"
     ]
    }
   ],
   "execution_count": 2
  },
  {
   "metadata": {},
   "cell_type": "markdown",
   "source": "#### &emsp;Exercise 10-7: Addition Calculator",
   "id": "6ed9f448aa5cd733"
  },
  {
   "metadata": {},
   "cell_type": "code",
   "outputs": [],
   "execution_count": null,
   "source": [
    "# 10-07 Addition Calculator - e07_addition_calculator.py\n",
    "print(\"Give me two numbers, and I'll ADD them(q to quit):\")\n",
    "\n",
    "while True:\n",
    "    first_number = input(\"\\nFirst number: \")\n",
    "    if first_number == 'q':\n",
    "        break\n",
    "    second_number = input(\"Second number: \")\n",
    "    if second_number == 'q':\n",
    "        break\n",
    "    try:\n",
    "        answer = int(first_number) + int(second_number)\n",
    "    except ValueError:\n",
    "        print(\"You have to insert a number.!\")\n",
    "    else:\n",
    "        print(f\"Result: {answer}\")\n"
   ],
   "id": "cbc0b8034af40bae"
  },
  {
   "metadata": {},
   "cell_type": "markdown",
   "source": "#### &emsp;Exercise 10-8: Cats and Dogs",
   "id": "abbf212f2cf4472b"
  },
  {
   "metadata": {},
   "cell_type": "code",
   "outputs": [],
   "execution_count": null,
   "source": [
    "# 10-8 Cats and Dogs - e08_cats_and_dogs.py\n",
    "def name_pets(filename):\n",
    "    \"\"\"Print the names of the pets in the files.\"\"\"\n",
    "    try:\n",
    "        with open(filename) as f:\n",
    "            pets = f.readlines()\n",
    "    except FileNotFoundError:\n",
    "        print(f\"\\nSorry, the file {filename} does not exist.\")\n",
    "    else:\n",
    "        # Count the approximate number of words in the file.\n",
    "        print(f\"\\nThe file {filename} has the following names:\")\n",
    "        for pet in pets:\n",
    "            print(pet.rstrip())\n",
    "\n",
    "name_pets('e08_cats.txt')\n",
    "name_pets('e08_turtles.txt') # This triggers the except block as this file doesn't exist.\n",
    "name_pets('e08_dogs.txt')\n"
   ],
   "id": "2fa6a62b5b33d5ce"
  },
  {
   "metadata": {},
   "cell_type": "markdown",
   "source": "#### &emsp;Exercise 10-9: Silent Cats and Dogs",
   "id": "83c73cb03ba8e3bd"
  },
  {
   "metadata": {},
   "cell_type": "code",
   "outputs": [],
   "execution_count": null,
   "source": [
    "# 10-9 Silent Cats and Dogs - e09_silent_cats_and_dogs.py\n",
    "def name_pets(filename):\n",
    "    \"\"\"Print the names of the pets in the files.\"\"\"\n",
    "    try:\n",
    "        with open(filename) as f:\n",
    "            pets = f.readlines()\n",
    "    except FileNotFoundError:\n",
    "        pass # Whit pass we will not inform the user the except has been triggered.\n",
    "    else:\n",
    "        # Count the approximate number of words in the file.\n",
    "        print(f\"\\nThe file {filename} has the following names:\")\n",
    "        for pet in pets:\n",
    "            print(pet.rstrip())\n",
    "\n",
    "name_pets('e08_cats.txt')\n",
    "name_pets('e08_turtles.txt') # This triggers the except block as this file doesn't exist.\n",
    "name_pets('e08_dogs.txt')\n"
   ],
   "id": "e0cf1a33b9d97648"
  },
  {
   "metadata": {},
   "cell_type": "markdown",
   "source": "#### &emsp;Exercise 10-10: Common Words",
   "id": "a1a3b7ca2ede9e59"
  },
  {
   "metadata": {},
   "cell_type": "code",
   "outputs": [],
   "execution_count": null,
   "source": [
    "# 10-10 Common Words - e10_common_words.py\n",
    "def count_word_the(filename):\n",
    "    \"\"\"Count the approximate number of words in a file.\"\"\"\n",
    "    try:\n",
    "        with open(filename, encoding='utf-8') as f:\n",
    "            contents = f.read() # FileNotFoundError: [Errno 2] No such file or directory: 'alice.txt'\n",
    "    except FileNotFoundError:\n",
    "        print(f\"Sorry, the file {filename} does not exist.\")\n",
    "    else:\n",
    "        # Count the approximate number of words in the file.\n",
    "        the_words = contents.lower().count('the ')\n",
    "        print(f\"The file {filename} has about {the_words} 'the' words.\")\n",
    "\n",
    "filenames = ['alice.txt', 'siddhartha.txt', 'moby_dick.txt', 'little_women.txt']\n",
    "for filename in filenames:\n",
    "    count_word_the(filename)\n"
   ],
   "id": "2462223af5389f8e"
  },
  {
   "metadata": {},
   "cell_type": "markdown",
   "source": [
    "Results when searching for 'the':\n",
    "- The file alice.txt has about 2505 'the' words.\n",
    "- The file siddhartha.txt has about 3098 'the' words.\n",
    "- The file moby_dick.txt has about 20125 'the' words.\n",
    "- The file little_women.txt has about 11843 'the' words.\n",
    "\n",
    "Results when searching for 'the ':\n",
    "- The file alice.txt has about 1689 'the' words.\n",
    "- The file siddhartha.txt has about 2048 'the' words.\n",
    "- The file moby_dick.txt has about 13307 'the' words.\n",
    "- The file little_women.txt has about 7042 'the' words."
   ],
   "id": "44658faaf7fef7ad"
  },
  {
   "metadata": {},
   "cell_type": "markdown",
   "source": "### __Storing Data__",
   "id": "89b62a86248b65cc"
  },
  {
   "metadata": {},
   "cell_type": "markdown",
   "source": "#### &emsp;Using json.dump() and json.load()",
   "id": "ba911b5b7ea73d26"
  },
  {
   "metadata": {},
   "cell_type": "code",
   "outputs": [],
   "execution_count": null,
   "source": [
    "# Using json.dump() and json.load() - number_writer.py\n",
    "import json\n",
    "\n",
    "numbers = [2, 3, 5, 7, 11, 13]\n",
    "\n",
    "filename = 'numbers.json'\n",
    "with open(filename, 'w') as f:\n",
    "    json.dump(numbers, f)\n"
   ],
   "id": "8e3d604e96b6545d"
  },
  {
   "metadata": {},
   "cell_type": "code",
   "outputs": [],
   "execution_count": null,
   "source": "[2, 3, 5, 7, 11, 13] # numbers.json is created with this information inside",
   "id": "5cecf47be81bc1c6"
  },
  {
   "metadata": {},
   "cell_type": "code",
   "outputs": [],
   "execution_count": null,
   "source": [
    "# Using json.dump() and json.load() - number_reader.py\n",
    "import json\n",
    "\n",
    "filename = 'numbers.json'\n",
    "with open(filename) as f:\n",
    "    numbers = json.load(f)\n",
    "\n",
    "print(numbers)"
   ],
   "id": "c2ed2ea2fa66d8ca"
  },
  {
   "metadata": {},
   "cell_type": "markdown",
   "source": "#### &emsp;Saving and Reading User-Generated Data",
   "id": "81fa05f6784e31a2"
  },
  {
   "metadata": {},
   "cell_type": "code",
   "outputs": [],
   "execution_count": null,
   "source": [
    "# Saving and Reading User-Generated Data - remember_me.py\n",
    "import json\n",
    "\n",
    "username = input('What is your name?: ')\n",
    "\n",
    "filename = 'username.json'\n",
    "with open(filename, 'w') as f:\n",
    "    json.dump(username, f)\n",
    "    print(f\"We'll remember you when you come back, {username}!\")"
   ],
   "id": "49588d0f6642a718"
  },
  {
   "metadata": {},
   "cell_type": "code",
   "outputs": [],
   "execution_count": null,
   "source": [
    "# Saving and Reading User-Generated Data - greet_user.py\n",
    "import json\n",
    "\n",
    "filename = 'username.json'\n",
    "with open(filename) as f:\n",
    "    username = json.load(f)\n",
    "    print(f\"Welcome back, {username}!\")\n"
   ],
   "id": "db146867f90da848"
  },
  {
   "metadata": {},
   "cell_type": "markdown",
   "source": "Combining in one file...",
   "id": "32836e56c1f514f6"
  },
  {
   "metadata": {},
   "cell_type": "code",
   "outputs": [],
   "execution_count": null,
   "source": [
    "# Saving and Reading User-Generated Data (Combined)- remember_me.py\n",
    "import json\n",
    "\n",
    "# Load the username, if it has been stored previously.\n",
    "# Otherwise, prompt for the username and store it.\n",
    "filename = 'username.json'\n",
    "try:\n",
    "    with open(filename) as f:\n",
    "        username = json.load(f)\n",
    "except FileNotFoundError:\n",
    "    username = input('What is your name?: ')\n",
    "    with open(filename, 'w') as f:\n",
    "        json.dump(username, f)\n",
    "        print(f\"We'll remember you when you come back, {username}!\")\n",
    "else:\n",
    "    print(f\"Welcome back, {username}!\")\n"
   ],
   "id": "985bca2a01ea152c"
  },
  {
   "metadata": {},
   "cell_type": "markdown",
   "source": "#### &emsp;Refactoring",
   "id": "55dffc1e1dfd06e9"
  },
  {
   "metadata": {},
   "cell_type": "code",
   "outputs": [],
   "execution_count": null,
   "source": [
    "# Refactoring 1 - remember_me.py\n",
    "import json\n",
    "\n",
    "def greet_user():\n",
    "    \"\"\"Greet the user by name.\"\"\"\n",
    "    filename = 'username.json'\n",
    "    try:\n",
    "        with open(filename) as f:\n",
    "            username = json.load(f)\n",
    "    except FileNotFoundError:\n",
    "        username = input('What is your name?: ')\n",
    "        with open(filename, 'w') as f:\n",
    "            json.dump(username, f)\n",
    "            print(f\"We'll remember you when you come back, {username}!\")\n",
    "    else:\n",
    "        print(f\"Welcome back, {username}!\")\n",
    "\n",
    "greet_user()\n"
   ],
   "id": "7227c9d3ea23aca3"
  },
  {
   "metadata": {},
   "cell_type": "code",
   "outputs": [],
   "execution_count": null,
   "source": [
    "# Refactoring 2 - remember_me.py\n",
    "import json\n",
    "\n",
    "def get_stored_username():\n",
    "    \"\"\"Gets stored username if available.\"\"\"\n",
    "    filename = 'username.json'\n",
    "    try:\n",
    "        with open(filename) as f:\n",
    "            username = json.load(f)\n",
    "    except FileNotFoundError:\n",
    "        return None\n",
    "    else:\n",
    "        return username\n",
    "\n",
    "\n",
    "def greet_user():\n",
    "    \"\"\"Greet the user by name.\"\"\"\n",
    "    username = get_stored_username()\n",
    "    if username:\n",
    "        print(f\"Welcome back, {username}!\")\n",
    "    else:\n",
    "        username = input('What is your name?: ')\n",
    "        filename = 'username.json'\n",
    "        with open(filename, 'w') as f:\n",
    "            json.dump(username, f)\n",
    "            print(f\"We'll remember you when you come back, {username}!\")\n",
    "\n",
    "\n",
    "greet_user()\n"
   ],
   "id": "fc2399a813e81298"
  },
  {
   "metadata": {},
   "cell_type": "code",
   "outputs": [],
   "execution_count": null,
   "source": [
    "# Refactoring 3 - remember_me.py\n",
    "import json\n",
    "\n",
    "def get_stored_username():\n",
    "    \"\"\"Gets stored username if available.\"\"\"\n",
    "    filename = 'username.json'\n",
    "    try:\n",
    "        with open(filename) as f:\n",
    "            username = json.load(f)\n",
    "    except FileNotFoundError:\n",
    "        return None\n",
    "    else:\n",
    "        return username\n",
    "\n",
    "\n",
    "def get_new_username():\n",
    "    \"\"\"Prompt for a new username.\"\"\"\n",
    "    username = input('What is your name?: ')\n",
    "    filename = 'username.json'\n",
    "    with open(filename, 'w') as f:\n",
    "        json.dump(username, f)\n",
    "    return username\n",
    "\n",
    "\n",
    "def greet_user():\n",
    "    \"\"\"Greet the user by name.\"\"\"\n",
    "    username = get_stored_username()\n",
    "    if username:\n",
    "        print(f\"Welcome back, {username}!\")\n",
    "    else:\n",
    "        username = get_new_username()\n",
    "        print(f\"We'll remember you when you come back, {username}!\")\n",
    "\n",
    "\n",
    "greet_user()"
   ],
   "id": "274527fe6a4e7f80"
  },
  {
   "metadata": {},
   "cell_type": "markdown",
   "source": "#### &emsp;Exercise 10-11: Favorite Number",
   "id": "a223522619e10507"
  },
  {
   "metadata": {},
   "cell_type": "code",
   "outputs": [],
   "execution_count": null,
   "source": [
    "# 10-11 Favorite Number - e11_favorite_number.py\n",
    "import json\n",
    "\n",
    "filename = 'e11_favorite_number.json'\n",
    "number = input('What is your favorite number?: ')\n",
    "with open(filename, 'w') as f:\n",
    "    json.dump(number, f)\n",
    "    print(f\"Hmmm {number}...I will remember it!\")\n"
   ],
   "id": "6d88bd67bd14dfa2"
  },
  {
   "metadata": {},
   "cell_type": "code",
   "outputs": [],
   "execution_count": null,
   "source": [
    "# 10-11 Favorite Number - e11_favorite_number_get.py\n",
    "import json\n",
    "\n",
    "filename = 'e11_favorite_number.json'\n",
    "\n",
    "with open(filename) as f:\n",
    "    number = json.load(f)\n",
    "    print(f\"I know your favorite number! It’s {number}!\")\n"
   ],
   "id": "479c71b9b49d3744"
  },
  {
   "metadata": {},
   "cell_type": "markdown",
   "source": "#### &emsp;Exercise 10-12: Favorite Number Remembered",
   "id": "b0221ff7e9122d37"
  },
  {
   "metadata": {},
   "cell_type": "code",
   "outputs": [],
   "execution_count": null,
   "source": [
    "# 10-12 Favorite Number Remembered - e12_favorite_number_remembered.py\n",
    "import json\n",
    "\n",
    "filename = 'e11_favorite_number.json'\n",
    "try:\n",
    "    with open(filename) as f:\n",
    "        number = json.load(f)\n",
    "except FileNotFoundError:\n",
    "    number = input('What is your favorite number?: ')\n",
    "    with open(filename, 'w') as f:\n",
    "        json.dump(number, f)\n",
    "        print(f\"We'll remember your favorite number when you come back!\")\n",
    "else:\n",
    "    print(f\"Your favorite number is {number}!\")\n"
   ],
   "id": "6cc34b0fe9facf5b"
  },
  {
   "metadata": {},
   "cell_type": "markdown",
   "source": "#### &emsp;Exercise 10-13: Verify User",
   "id": "e580605fc49cdfad"
  },
  {
   "metadata": {},
   "cell_type": "code",
   "outputs": [],
   "execution_count": null,
   "source": [
    "# 10-13 Verify User - e13_verify_user.py\n",
    "import json\n",
    "\n",
    "def get_stored_username():\n",
    "    \"\"\"Gets stored username if available.\"\"\"\n",
    "    filename = 'e13_username.json'\n",
    "    try:\n",
    "        with open(filename) as f:\n",
    "            username = json.load(f)\n",
    "    except FileNotFoundError:\n",
    "        return None\n",
    "    else:\n",
    "        return username\n",
    "\n",
    "\n",
    "def get_new_username():\n",
    "    \"\"\"Prompt for a new username.\"\"\"\n",
    "    username = input('What is your name?: ')\n",
    "    filename = 'e13_username.json'\n",
    "    with open(filename, 'w') as f:\n",
    "        json.dump(username, f)\n",
    "    return username\n",
    "\n",
    "\n",
    "def greet_user():\n",
    "    \"\"\"Greet the user by name.\"\"\"\n",
    "    username = get_stored_username()\n",
    "    if username:\n",
    "        ask_user = input(f'Are you {username}?[Y/N]: ')\n",
    "        if ask_user.lower() == 'y':\n",
    "            print(f\"Welcome back, {username}!\")\n",
    "        elif ask_user.lower() == 'n':\n",
    "            username = get_new_username()\n",
    "            print(f\"We'll remember you when you come back, {username}!\")\n",
    "    else:\n",
    "        username = get_new_username()\n",
    "        print(f\"We'll remember you when you come back, {username}!\")\n",
    "\n",
    "\n",
    "greet_user()\n"
   ],
   "id": "a1d91172cd9cac2b"
  },
  {
   "metadata": {},
   "cell_type": "markdown",
   "source": "### __Summary__",
   "id": "b69f2debe9242045"
  }
 ],
 "metadata": {
  "kernelspec": {
   "display_name": "Python 3",
   "language": "python",
   "name": "python3"
  },
  "language_info": {
   "codemirror_mode": {
    "name": "ipython",
    "version": 2
   },
   "file_extension": ".py",
   "mimetype": "text/x-python",
   "name": "python",
   "nbconvert_exporter": "python",
   "pygments_lexer": "ipython2",
   "version": "2.7.6"
  }
 },
 "nbformat": 4,
 "nbformat_minor": 5
}
