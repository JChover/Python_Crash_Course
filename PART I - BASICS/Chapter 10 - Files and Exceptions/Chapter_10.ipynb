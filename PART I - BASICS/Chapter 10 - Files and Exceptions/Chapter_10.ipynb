{
 "cells": [
  {
   "metadata": {},
   "cell_type": "markdown",
   "source": "# Chapter 10 - Files and Exceptions",
   "id": "237aa962d87eba7f"
  },
  {
   "metadata": {},
   "cell_type": "code",
   "outputs": [],
   "execution_count": null,
   "source": "from IPython.display import Code",
   "id": "87bdc91b4323497f"
  },
  {
   "metadata": {},
   "cell_type": "markdown",
   "source": "### __Reading from a File__",
   "id": "88ec3ec11b31373f"
  },
  {
   "metadata": {},
   "cell_type": "markdown",
   "source": "#### &emsp;Reading an Entire file",
   "id": "91a075e9621e8b69"
  },
  {
   "metadata": {},
   "cell_type": "code",
   "outputs": [],
   "execution_count": null,
   "source": [
    "# Reading an Entire File - file_reader.py\n",
    "with open('pi_digits.txt') as file_object:\n",
    "    contents = file_object.read() # This leaves a blank space at the end.\n",
    "    print(contents) # We can do contents.rstrip() to remove the blank space.\n"
   ],
   "id": "5f0c6d8c0eee8c31"
  },
  {
   "metadata": {},
   "cell_type": "code",
   "outputs": [],
   "execution_count": null,
   "source": [
    "# This is pi_digits.txt\n",
    "3.1415926535\n",
    "  8979323846\n",
    "  2643383279"
   ],
   "id": "f16d76c7d7a8e76f"
  },
  {
   "metadata": {},
   "cell_type": "markdown",
   "source": "#### &emsp;File Paths",
   "id": "6e6a1db379b9f818"
  },
  {
   "metadata": {},
   "cell_type": "code",
   "outputs": [],
   "execution_count": null,
   "source": [
    "# Relative Path\n",
    "with open('text_files/filename.txt') as file_object:\n",
    "\n",
    "# Absolute Path\n",
    "file_path = '/home/ehmatthes/other_files/text_files/filename.txt'\n",
    "with open(file_path) as file_object:"
   ],
   "id": "fc67268b1c4ac854"
  },
  {
   "metadata": {},
   "cell_type": "markdown",
   "source": "#### &emsp;Reading Line by Line",
   "id": "5fc599b2cf24a609"
  },
  {
   "metadata": {},
   "cell_type": "code",
   "outputs": [],
   "execution_count": null,
   "source": "",
   "id": "28525beba29c2a85"
  },
  {
   "metadata": {},
   "cell_type": "markdown",
   "source": "#### &emsp;Making a List of Lines from a File",
   "id": "de03f0a52f06a650"
  },
  {
   "metadata": {},
   "cell_type": "code",
   "outputs": [],
   "execution_count": null,
   "source": "",
   "id": "325d667dfa8c7a63"
  },
  {
   "metadata": {},
   "cell_type": "markdown",
   "source": "#### &emsp;Working with a File's Contents",
   "id": "9999aec224c97d76"
  },
  {
   "metadata": {},
   "cell_type": "code",
   "outputs": [],
   "execution_count": null,
   "source": "",
   "id": "fed0b55af6585771"
  },
  {
   "metadata": {},
   "cell_type": "markdown",
   "source": "#### &emsp;Large Files: One Million Digits",
   "id": "ec5fef82a6c36290"
  },
  {
   "metadata": {},
   "cell_type": "code",
   "outputs": [],
   "execution_count": null,
   "source": "",
   "id": "c1940527636eb3bd"
  },
  {
   "metadata": {},
   "cell_type": "markdown",
   "source": "#### &emsp;Is Your Birthday Contained in Pi?",
   "id": "1c4faafd4564b394"
  },
  {
   "metadata": {},
   "cell_type": "code",
   "outputs": [],
   "execution_count": null,
   "source": "",
   "id": "d5e3ad216b5a3df1"
  },
  {
   "metadata": {},
   "cell_type": "markdown",
   "source": "#### &emsp;Exercise 10-1: Learning Python",
   "id": "72e88d11b05ab4b2"
  },
  {
   "metadata": {},
   "cell_type": "code",
   "outputs": [],
   "execution_count": null,
   "source": "",
   "id": "46be44a2362839e9"
  },
  {
   "metadata": {},
   "cell_type": "markdown",
   "source": "#### &emsp;Exercise 10-2: Learning C",
   "id": "f1fc0274b8481227"
  },
  {
   "metadata": {},
   "cell_type": "code",
   "outputs": [],
   "execution_count": null,
   "source": "",
   "id": "36135e5f6f36fed1"
  },
  {
   "metadata": {},
   "cell_type": "markdown",
   "source": "### __Writing to a File__",
   "id": "5695350d91836af2"
  },
  {
   "metadata": {},
   "cell_type": "code",
   "outputs": [],
   "execution_count": null,
   "source": "",
   "id": "4bb2091d5310c754"
  },
  {
   "metadata": {},
   "cell_type": "markdown",
   "source": "#### &emsp;Writing to an Empty File",
   "id": "bc7ae730606ae2b6"
  },
  {
   "metadata": {},
   "cell_type": "code",
   "outputs": [],
   "execution_count": null,
   "source": "",
   "id": "1c75c4aabacc025c"
  },
  {
   "metadata": {},
   "cell_type": "markdown",
   "source": "#### &emsp;Writing Multiple Lines",
   "id": "8634018b94c6e6fd"
  },
  {
   "metadata": {},
   "cell_type": "code",
   "outputs": [],
   "execution_count": null,
   "source": "",
   "id": "3bc020f938cc98e3"
  },
  {
   "metadata": {},
   "cell_type": "markdown",
   "source": "#### &emsp;Appending to a File",
   "id": "f5d2b0005de75043"
  },
  {
   "metadata": {},
   "cell_type": "code",
   "outputs": [],
   "execution_count": null,
   "source": "",
   "id": "661875462ac948de"
  },
  {
   "metadata": {},
   "cell_type": "markdown",
   "source": "#### &emsp;Exercise 10-3: Guest",
   "id": "8a671f1aa119dd40"
  },
  {
   "metadata": {},
   "cell_type": "code",
   "outputs": [],
   "execution_count": null,
   "source": "",
   "id": "1d3e75bfb24d8d65"
  },
  {
   "metadata": {},
   "cell_type": "markdown",
   "source": "#### &emsp;Exercise 10-4: Guest Book",
   "id": "5a61cb66eb4c967"
  },
  {
   "metadata": {},
   "cell_type": "code",
   "outputs": [],
   "execution_count": null,
   "source": "",
   "id": "4aa8613a86019762"
  },
  {
   "metadata": {},
   "cell_type": "markdown",
   "source": "#### &emsp;Exercise 10-5: Programming Poll",
   "id": "4ddaa66d7ac16b2f"
  },
  {
   "metadata": {},
   "cell_type": "code",
   "outputs": [],
   "execution_count": null,
   "source": "",
   "id": "869883b2bfcc9abd"
  },
  {
   "metadata": {},
   "cell_type": "markdown",
   "source": "### __Exceptions__",
   "id": "6f888c87cd4ba8aa"
  },
  {
   "metadata": {},
   "cell_type": "code",
   "outputs": [],
   "execution_count": null,
   "source": "",
   "id": "9fa521970fe8d613"
  },
  {
   "metadata": {},
   "cell_type": "markdown",
   "source": "#### &emsp;Handling the ZeroDivisionError Exception",
   "id": "22c541988bf443de"
  },
  {
   "metadata": {},
   "cell_type": "code",
   "outputs": [],
   "execution_count": null,
   "source": "",
   "id": "658db42c105e5cf9"
  },
  {
   "metadata": {},
   "cell_type": "markdown",
   "source": "#### &emsp;Using try-except Blocks",
   "id": "c114bf4c0e24785b"
  },
  {
   "metadata": {},
   "cell_type": "code",
   "outputs": [],
   "execution_count": null,
   "source": "",
   "id": "43107ee528b39dc3"
  },
  {
   "metadata": {},
   "cell_type": "markdown",
   "source": "#### &emsp;Using Exceptions to Prevent Crashes",
   "id": "76a7528860282bc8"
  },
  {
   "metadata": {},
   "cell_type": "code",
   "outputs": [],
   "execution_count": null,
   "source": "",
   "id": "b687dec6b06a97c0"
  },
  {
   "metadata": {},
   "cell_type": "markdown",
   "source": "#### &emsp;The else Block",
   "id": "d0f22e7f1e6c11a4"
  },
  {
   "metadata": {},
   "cell_type": "code",
   "outputs": [],
   "execution_count": null,
   "source": "",
   "id": "c08adf5e548e4407"
  },
  {
   "metadata": {},
   "cell_type": "markdown",
   "source": "#### &emsp;Handling the FileNotFoundError Exception",
   "id": "a1d7c0efa625711d"
  },
  {
   "metadata": {},
   "cell_type": "code",
   "outputs": [],
   "execution_count": null,
   "source": "",
   "id": "dd8cbdec6d4dc92"
  },
  {
   "metadata": {},
   "cell_type": "markdown",
   "source": "#### &emsp;Analyzing Text",
   "id": "3291f3bc5b552a7d"
  },
  {
   "metadata": {},
   "cell_type": "code",
   "outputs": [],
   "execution_count": null,
   "source": "",
   "id": "7412046e0b3e4efe"
  },
  {
   "metadata": {},
   "cell_type": "markdown",
   "source": "#### &emsp;Working with Multiple files",
   "id": "e59c6c20eeae370a"
  },
  {
   "metadata": {},
   "cell_type": "code",
   "outputs": [],
   "execution_count": null,
   "source": "",
   "id": "e1f05f8648f2f103"
  },
  {
   "metadata": {},
   "cell_type": "markdown",
   "source": "#### &emsp;Failing Silently",
   "id": "9e47c74a48f42640"
  },
  {
   "metadata": {},
   "cell_type": "code",
   "outputs": [],
   "execution_count": null,
   "source": "",
   "id": "5b9b2d2a73f3b103"
  },
  {
   "metadata": {},
   "cell_type": "markdown",
   "source": "#### &emsp;Deciding Which Errors to Report",
   "id": "1aa75b756b576266"
  },
  {
   "metadata": {},
   "cell_type": "code",
   "outputs": [],
   "execution_count": null,
   "source": "",
   "id": "6c5d284677a0f87b"
  },
  {
   "metadata": {},
   "cell_type": "markdown",
   "source": "#### &emsp;Exercise 10-6: Addition",
   "id": "834875552bbfa129"
  },
  {
   "metadata": {},
   "cell_type": "code",
   "outputs": [],
   "execution_count": null,
   "source": "",
   "id": "4d25402a65669ef"
  },
  {
   "metadata": {},
   "cell_type": "markdown",
   "source": "#### &emsp;Exercise 10-7: Addition Calculator",
   "id": "6ed9f448aa5cd733"
  },
  {
   "metadata": {},
   "cell_type": "code",
   "outputs": [],
   "execution_count": null,
   "source": "",
   "id": "cbc0b8034af40bae"
  },
  {
   "metadata": {},
   "cell_type": "markdown",
   "source": "#### &emsp;Exercise 10-8: Cats and Dogs",
   "id": "abbf212f2cf4472b"
  },
  {
   "metadata": {},
   "cell_type": "code",
   "outputs": [],
   "execution_count": null,
   "source": "",
   "id": "2fa6a62b5b33d5ce"
  },
  {
   "metadata": {},
   "cell_type": "markdown",
   "source": "#### &emsp;Exercise 10-9: Silent Cats and Dogs",
   "id": "83c73cb03ba8e3bd"
  },
  {
   "metadata": {},
   "cell_type": "code",
   "outputs": [],
   "execution_count": null,
   "source": "",
   "id": "e0cf1a33b9d97648"
  },
  {
   "metadata": {},
   "cell_type": "markdown",
   "source": "#### &emsp;Exercise 10-10: Common Words",
   "id": "a1a3b7ca2ede9e59"
  },
  {
   "metadata": {},
   "cell_type": "code",
   "outputs": [],
   "execution_count": null,
   "source": "",
   "id": "2462223af5389f8e"
  },
  {
   "metadata": {},
   "cell_type": "markdown",
   "source": "### __Storing Data__",
   "id": "89b62a86248b65cc"
  },
  {
   "metadata": {},
   "cell_type": "code",
   "outputs": [],
   "execution_count": null,
   "source": "",
   "id": "9317d665ec89f304"
  },
  {
   "metadata": {},
   "cell_type": "markdown",
   "source": "#### &emsp;Using json.dump() and json.load()",
   "id": "ba911b5b7ea73d26"
  },
  {
   "metadata": {},
   "cell_type": "code",
   "outputs": [],
   "execution_count": null,
   "source": "",
   "id": "8e3d604e96b6545d"
  },
  {
   "metadata": {},
   "cell_type": "markdown",
   "source": "#### &emsp;Saving and Reading User-Generated Data",
   "id": "81fa05f6784e31a2"
  },
  {
   "metadata": {},
   "cell_type": "code",
   "outputs": [],
   "execution_count": null,
   "source": "",
   "id": "49588d0f6642a718"
  },
  {
   "metadata": {},
   "cell_type": "markdown",
   "source": "#### &emsp;Refactoring",
   "id": "55dffc1e1dfd06e9"
  },
  {
   "metadata": {},
   "cell_type": "code",
   "outputs": [],
   "execution_count": null,
   "source": "",
   "id": "7227c9d3ea23aca3"
  },
  {
   "metadata": {},
   "cell_type": "markdown",
   "source": "#### &emsp;Exercise 10-11: Favorite Number",
   "id": "a223522619e10507"
  },
  {
   "metadata": {},
   "cell_type": "code",
   "outputs": [],
   "execution_count": null,
   "source": "",
   "id": "6d88bd67bd14dfa2"
  },
  {
   "metadata": {},
   "cell_type": "markdown",
   "source": "#### &emsp;Exercise 10-12: Favorite Number Remembered",
   "id": "b0221ff7e9122d37"
  },
  {
   "metadata": {},
   "cell_type": "code",
   "outputs": [],
   "execution_count": null,
   "source": "",
   "id": "6cc34b0fe9facf5b"
  },
  {
   "metadata": {},
   "cell_type": "markdown",
   "source": "#### &emsp;Exercise 10-13: Verify User",
   "id": "e580605fc49cdfad"
  },
  {
   "metadata": {},
   "cell_type": "code",
   "outputs": [],
   "execution_count": null,
   "source": "",
   "id": "a1d91172cd9cac2b"
  },
  {
   "metadata": {},
   "cell_type": "markdown",
   "source": "### __Summary__",
   "id": "b69f2debe9242045"
  }
 ],
 "metadata": {
  "kernelspec": {
   "display_name": "Python 3",
   "language": "python",
   "name": "python3"
  },
  "language_info": {
   "codemirror_mode": {
    "name": "ipython",
    "version": 2
   },
   "file_extension": ".py",
   "mimetype": "text/x-python",
   "name": "python",
   "nbconvert_exporter": "python",
   "pygments_lexer": "ipython2",
   "version": "2.7.6"
  }
 },
 "nbformat": 4,
 "nbformat_minor": 5
}
