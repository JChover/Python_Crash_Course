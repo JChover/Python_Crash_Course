{
 "cells": [
  {
   "metadata": {},
   "cell_type": "markdown",
   "source": "# Chapter 10 - Files and Exceptions",
   "id": "237aa962d87eba7f"
  },
  {
   "metadata": {},
   "cell_type": "code",
   "outputs": [],
   "execution_count": null,
   "source": "from IPython.display import Code",
   "id": "87bdc91b4323497f"
  },
  {
   "metadata": {},
   "cell_type": "markdown",
   "source": "### __Reading from a File__",
   "id": "88ec3ec11b31373f"
  },
  {
   "metadata": {},
   "cell_type": "markdown",
   "source": "#### &emsp;Reading an Entire file",
   "id": "91a075e9621e8b69"
  },
  {
   "metadata": {},
   "cell_type": "code",
   "outputs": [],
   "execution_count": null,
   "source": [
    "# Reading an Entire File - file_reader.py\n",
    "with open('pi_digits.txt') as file_object:\n",
    "    contents = file_object.read() # This leaves a blank space at the end.\n",
    "    print(contents) # We can do contents.rstrip() to remove the blank space.\n"
   ],
   "id": "5f0c6d8c0eee8c31"
  },
  {
   "metadata": {},
   "cell_type": "code",
   "outputs": [],
   "execution_count": null,
   "source": [
    "# This is pi_digits.txt\n",
    "3.1415926535\n",
    "  8979323846\n",
    "  2643383279"
   ],
   "id": "f16d76c7d7a8e76f"
  },
  {
   "metadata": {},
   "cell_type": "markdown",
   "source": "#### &emsp;File Paths",
   "id": "6e6a1db379b9f818"
  },
  {
   "metadata": {},
   "cell_type": "code",
   "outputs": [],
   "execution_count": null,
   "source": [
    "# Relative Path\n",
    "with open('text_files/filename.txt') as file_object:\n",
    "\n",
    "# Absolute Path\n",
    "file_path = '/home/ehmatthes/other_files/text_files/filename.txt'\n",
    "with open(file_path) as file_object:"
   ],
   "id": "fc67268b1c4ac854"
  },
  {
   "metadata": {},
   "cell_type": "markdown",
   "source": "#### &emsp;Reading Line by Line",
   "id": "5fc599b2cf24a609"
  },
  {
   "metadata": {},
   "cell_type": "code",
   "outputs": [],
   "execution_count": null,
   "source": [
    "# Reading Line by Line - file_reader.py\n",
    "filename = 'pi_digits.txt'\n",
    "\n",
    "with open(filename) as file_object:\n",
    "    for line in file_object:\n",
    "        print(line.rstrip())\n"
   ],
   "id": "28525beba29c2a85"
  },
  {
   "metadata": {},
   "cell_type": "markdown",
   "source": "#### &emsp;Making a List of Lines from a File",
   "id": "de03f0a52f06a650"
  },
  {
   "metadata": {},
   "cell_type": "code",
   "outputs": [],
   "execution_count": null,
   "source": [
    "# Making a List of Lines from a File - file_reader.py\n",
    "filename = 'pi_digits.txt'\n",
    "\n",
    "with open(filename) as file_object:\n",
    "    lines = file_object.readlines()\n",
    "\n",
    "for line in lines:\n",
    "    print(line.rstrip())\n"
   ],
   "id": "325d667dfa8c7a63"
  },
  {
   "metadata": {},
   "cell_type": "markdown",
   "source": "#### &emsp;Working with a File's Contents",
   "id": "9999aec224c97d76"
  },
  {
   "metadata": {},
   "cell_type": "code",
   "outputs": [],
   "execution_count": null,
   "source": [
    "# Working with a File’s Contents - pi_string.py\n",
    "filename = 'pi_digits.txt'\n",
    "\n",
    "with open(filename) as file_object:\n",
    "    lines = file_object.readlines()\n",
    "\n",
    "pi_string = ''\n",
    "for line in lines:\n",
    "    pi_string += line.strip() # strip instead of rstrip to remove spaces on the left also\n",
    "\n",
    "print(pi_string)\n",
    "print(len(pi_string))\n"
   ],
   "id": "fed0b55af6585771"
  },
  {
   "metadata": {},
   "cell_type": "markdown",
   "source": "#### &emsp;Large Files: One Million Digits",
   "id": "ec5fef82a6c36290"
  },
  {
   "metadata": {},
   "cell_type": "code",
   "outputs": [],
   "execution_count": null,
   "source": [
    "# Large Files: One Million Digits - pi_string.py\n",
    "filename = 'pi_million_digits.txt'\n",
    "\n",
    "with open(filename) as file_object:\n",
    "    lines = file_object.readlines()\n",
    "\n",
    "pi_string = ''\n",
    "for line in lines:\n",
    "    pi_string += line.strip() # strip instead of rstrip to remove spaces on the left also\n",
    "\n",
    "print(f\"{pi_string[:52]}...\") # To display only the first 50 decimals\n",
    "print(len(pi_string))\n"
   ],
   "id": "c1940527636eb3bd"
  },
  {
   "metadata": {},
   "cell_type": "markdown",
   "source": "#### &emsp;Is Your Birthday Contained in Pi?",
   "id": "1c4faafd4564b394"
  },
  {
   "metadata": {},
   "cell_type": "code",
   "outputs": [],
   "execution_count": null,
   "source": [
    "# Is Your Birthday Contained in Pi? - pi_string.py\n",
    "filename = 'pi_million_digits.txt'\n",
    "\n",
    "with open(filename) as file_object:\n",
    "    lines = file_object.readlines()\n",
    "\n",
    "pi_string = ''\n",
    "for line in lines:\n",
    "    pi_string += line.strip()\n",
    "\n",
    "birthday = input(\"Enter your birthday, in the form ddmmyyyy: \")\n",
    "if birthday in pi_string:\n",
    "    print(\"Your birthday appears in the first million digits of pi!\")\n",
    "else:\n",
    "    print(\"Your birthday does not appear in the first million digits of pi!\")\n"
   ],
   "id": "d5e3ad216b5a3df1"
  },
  {
   "metadata": {},
   "cell_type": "markdown",
   "source": "#### &emsp;Exercise 10-1: Learning Python",
   "id": "72e88d11b05ab4b2"
  },
  {
   "metadata": {},
   "cell_type": "code",
   "outputs": [],
   "execution_count": null,
   "source": [
    "# 10-1 Learning Python - e01_learning_python.py\n",
    "filename = 'e01_learning_python.txt'\n",
    "\n",
    "# Reading the Entire File\n",
    "with open(filename) as file_object:\n",
    "    content = file_object.read()\n",
    "    print(content)\n",
    "\n",
    "# Reading by Looping the file_object\n",
    "with open(filename) as file_object:\n",
    "    for line in file_object:\n",
    "        print(line.rstrip())\n",
    "\n",
    "# Reading by storing in a List\n",
    "with open(filename) as file_object:\n",
    "    lines = file_object.readlines()\n",
    "\n",
    "for line in lines:\n",
    "    print(line.rstrip())\n"
   ],
   "id": "46be44a2362839e9"
  },
  {
   "metadata": {},
   "cell_type": "markdown",
   "source": "#### &emsp;Exercise 10-2: Learning C",
   "id": "f1fc0274b8481227"
  },
  {
   "metadata": {},
   "cell_type": "code",
   "outputs": [],
   "execution_count": null,
   "source": [
    "# 10-2 Learning C - e02_learning_c.py\n",
    "filename = 'e01_learning_python.txt'\n",
    "\n",
    "with open(filename) as file_object:\n",
    "    p_lines = file_object.readlines()\n",
    "\n",
    "for line in p_lines:\n",
    "    c_line = line.replace('Python','C')\n",
    "    print(c_line.rstrip())\n"
   ],
   "id": "36135e5f6f36fed1"
  },
  {
   "metadata": {},
   "cell_type": "markdown",
   "source": "### __Writing to a File__",
   "id": "5695350d91836af2"
  },
  {
   "metadata": {},
   "cell_type": "markdown",
   "source": "#### &emsp;Writing to an Empty File",
   "id": "bc7ae730606ae2b6"
  },
  {
   "metadata": {},
   "cell_type": "code",
   "outputs": [],
   "execution_count": null,
   "source": [
    "# Writing to an Empty File - write_message.py\n",
    "filename = 'programming.txt'\n",
    "\n",
    "with open(filename, 'w') as file_object:\n",
    "    file_object.write(\"I love programming.\")"
   ],
   "id": "1c75c4aabacc025c"
  },
  {
   "metadata": {},
   "cell_type": "markdown",
   "source": "#### &emsp;Writing Multiple Lines",
   "id": "8634018b94c6e6fd"
  },
  {
   "metadata": {},
   "cell_type": "code",
   "outputs": [],
   "execution_count": null,
   "source": [
    "# Writing Multiple Lines - write_message.py\n",
    "filename = 'programming.txt'\n",
    "\n",
    "with open(filename, 'w') as file_object:\n",
    "    file_object.write(\"I love programming.\\n\") # Need to add \\n so each line is inserted correctly.\n",
    "    file_object.write(\"I love creating new games.\\n\")\n"
   ],
   "id": "3bc020f938cc98e3"
  },
  {
   "metadata": {},
   "cell_type": "markdown",
   "source": "#### &emsp;Appending to a File",
   "id": "f5d2b0005de75043"
  },
  {
   "metadata": {},
   "cell_type": "code",
   "outputs": [],
   "execution_count": null,
   "source": [
    "# Appending to a File - write_message.py\n",
    "filename = 'programming.txt'\n",
    "\n",
    "with open(filename, 'a') as file_object: # We use 'a' mode to append.\n",
    "    file_object.write(\"I also love finding meaning in large datasets.\\n\")\n",
    "    file_object.write(\"I love creating apps that can run in a browser.\\n\")\n"
   ],
   "id": "661875462ac948de"
  },
  {
   "metadata": {},
   "cell_type": "markdown",
   "source": "#### &emsp;Exercise 10-3: Guest",
   "id": "8a671f1aa119dd40"
  },
  {
   "metadata": {},
   "cell_type": "code",
   "outputs": [],
   "execution_count": null,
   "source": [
    "# 10-3 Guest - e03_guest.py\n",
    "filename = 'e03_guest.txt'\n",
    "\n",
    "with open(filename, 'w') as file_object:\n",
    "    name = input(\"What is your name?: \")\n",
    "    file_object.write(name)\n"
   ],
   "id": "1d3e75bfb24d8d65"
  },
  {
   "metadata": {},
   "cell_type": "markdown",
   "source": "#### &emsp;Exercise 10-4: Guest Book",
   "id": "5a61cb66eb4c967"
  },
  {
   "metadata": {},
   "cell_type": "code",
   "outputs": [],
   "execution_count": null,
   "source": [
    "# 10-4 Guest Book - e04_guest_book.py\n",
    "filename = 'e04_guest_book.txt'\n",
    "\n",
    "with open(filename, 'a') as file_object:\n",
    "    while True:\n",
    "        name = input(\"What is your name?(q to quit): \")\n",
    "        if name != 'q':\n",
    "            file_object.write(f\"{name}\\n\")\n",
    "            print(f\"Nice to meet you {name}!\\n\")\n",
    "        else:\n",
    "            print(\"Thank you!\")\n",
    "            break\n"
   ],
   "id": "4aa8613a86019762"
  },
  {
   "metadata": {},
   "cell_type": "markdown",
   "source": "#### &emsp;Exercise 10-5: Programming Poll",
   "id": "4ddaa66d7ac16b2f"
  },
  {
   "metadata": {},
   "cell_type": "code",
   "outputs": [],
   "execution_count": null,
   "source": [
    "# 10-5 Programming Poll - e05_programming_poll.py\n",
    "filename = 'e05_programming_poll.txt'\n",
    "\n",
    "with open(filename, 'a') as file_object:\n",
    "    while True:\n",
    "        response = input(\"Why do you like programming?(q to quit): \")\n",
    "        if response != 'q':\n",
    "            file_object.write(f\"{response}\\n\")\n",
    "        else:\n",
    "            print(\"Thank you!\")\n",
    "            break\n"
   ],
   "id": "869883b2bfcc9abd"
  },
  {
   "metadata": {},
   "cell_type": "markdown",
   "source": "### __Exceptions__",
   "id": "6f888c87cd4ba8aa"
  },
  {
   "metadata": {},
   "cell_type": "markdown",
   "source": "#### &emsp;Handling the ZeroDivisionError Exception",
   "id": "22c541988bf443de"
  },
  {
   "metadata": {},
   "cell_type": "code",
   "outputs": [],
   "execution_count": null,
   "source": [
    "# Handling the ZeroDivisionError Exception - division_calculator.py\n",
    "print(5/0) # Returns ZeroDivisionError: division by zero\n"
   ],
   "id": "658db42c105e5cf9"
  },
  {
   "metadata": {},
   "cell_type": "markdown",
   "source": "#### &emsp;Using try-except Blocks",
   "id": "c114bf4c0e24785b"
  },
  {
   "metadata": {},
   "cell_type": "code",
   "outputs": [],
   "execution_count": null,
   "source": [
    "# Using try-except Blocks - division_calculator.py\n",
    "try:\n",
    "    print(5/0)\n",
    "except ZeroDivisionError:\n",
    "    print(\"You can't divide by zero!\")\n"
   ],
   "id": "43107ee528b39dc3"
  },
  {
   "metadata": {},
   "cell_type": "markdown",
   "source": "#### &emsp;Using Exceptions to Prevent Crashes",
   "id": "76a7528860282bc8"
  },
  {
   "metadata": {},
   "cell_type": "code",
   "outputs": [],
   "execution_count": null,
   "source": [
    "# Using Exceptions to Prevent Crashes - division_calculator.py\n",
    "print(\"Give me two numbers, and I'll divide them(q to quit):\")\n",
    "\n",
    "while True:\n",
    "    first_number = input(\"\\nFirst number: \")\n",
    "    if first_number == 'q':\n",
    "        break\n",
    "    second_number = input(\"Second number: \")\n",
    "    if second_number == 'q':\n",
    "        break\n",
    "    answer = int(first_number) / int(second_number)\n",
    "    print(f\"Result: {answer}\")\n"
   ],
   "id": "b687dec6b06a97c0"
  },
  {
   "metadata": {},
   "cell_type": "markdown",
   "source": "If we divide by 0 in this program, ZeroDivisionError exception will be triggered and stop the program from keep running.",
   "id": "bd1472c132fde8aa"
  },
  {
   "metadata": {},
   "cell_type": "markdown",
   "source": "#### &emsp;The else Block",
   "id": "d0f22e7f1e6c11a4"
  },
  {
   "metadata": {},
   "cell_type": "code",
   "outputs": [],
   "execution_count": null,
   "source": [
    "# The else Block - division_calculator.py\n",
    "print(\"Give me two numbers, and I'll divide them(q to quit):\")\n",
    "\n",
    "while True:\n",
    "    first_number = input(\"\\nFirst number: \")\n",
    "    if first_number == 'q':\n",
    "        break\n",
    "    second_number = input(\"Second number: \")\n",
    "    if second_number == 'q':\n",
    "        break\n",
    "    try:\n",
    "        answer = int(first_number) / int(second_number)\n",
    "    except ZeroDivisionError:\n",
    "        print(\"You can't divide by zero!\")\n",
    "    else:\n",
    "        print(f\"Result: {answer}\")\n"
   ],
   "id": "c08adf5e548e4407"
  },
  {
   "metadata": {},
   "cell_type": "markdown",
   "source": "Now, by wrapping the line that performs the division with the try/except/else block even when we divide by 0 the program will keep running.",
   "id": "3905335a127b3cab"
  },
  {
   "metadata": {},
   "cell_type": "markdown",
   "source": "#### &emsp;Handling the FileNotFoundError Exception",
   "id": "a1d7c0efa625711d"
  },
  {
   "metadata": {},
   "cell_type": "code",
   "outputs": [],
   "execution_count": null,
   "source": [
    "# Handling the FileNotFoundError Exception - alice.py\n",
    "filename = 'alice.txt'\n",
    "\n",
    "with open(filename, encoding='utf-8') as f:\n",
    "    contents = f.read() # FileNotFoundError: [Errno 2] No such file or directory: 'alice.txt'\n"
   ],
   "id": "dd8cbdec6d4dc92"
  },
  {
   "metadata": {},
   "cell_type": "code",
   "outputs": [],
   "execution_count": null,
   "source": [
    "# Handling the FileNotFoundError Exception - alice.py\n",
    "filename = 'alice.txt'\n",
    "\n",
    "try:\n",
    "    with open(filename, encoding='utf-8') as f:\n",
    "        contents = f.read() # FileNotFoundError: [Errno 2] No such file or directory: 'alice.txt'\n",
    "except FileNotFoundError:\n",
    "    print(f\"Sorry, the file {filename} does not exist.\")\n"
   ],
   "id": "f69643267aede7d1"
  },
  {
   "metadata": {},
   "cell_type": "markdown",
   "source": "#### &emsp;Analyzing Text",
   "id": "3291f3bc5b552a7d"
  },
  {
   "metadata": {},
   "cell_type": "code",
   "outputs": [],
   "execution_count": null,
   "source": [
    "# Analyzing Text - alice.py\n",
    "filename = 'alice.txt'\n",
    "\n",
    "try:\n",
    "    with open(filename, encoding='utf-8') as f:\n",
    "        contents = f.read() # FileNotFoundError: [Errno 2] No such file or directory: 'alice.txt'\n",
    "except FileNotFoundError:\n",
    "    print(f\"Sorry, the file {filename} does not exist.\")\n",
    "else:\n",
    "    # Count the approximate number of words in the file.\n",
    "    words = contents.split()\n",
    "    num_words = len(words)\n",
    "    print(f\"There are {num_words} words in this file.\")\n"
   ],
   "id": "7412046e0b3e4efe"
  },
  {
   "metadata": {},
   "cell_type": "markdown",
   "source": "#### &emsp;Working with Multiple files",
   "id": "e59c6c20eeae370a"
  },
  {
   "metadata": {},
   "cell_type": "code",
   "outputs": [],
   "execution_count": null,
   "source": "",
   "id": "e1f05f8648f2f103"
  },
  {
   "metadata": {},
   "cell_type": "markdown",
   "source": "#### &emsp;Failing Silently",
   "id": "9e47c74a48f42640"
  },
  {
   "metadata": {},
   "cell_type": "code",
   "outputs": [],
   "execution_count": null,
   "source": "",
   "id": "5b9b2d2a73f3b103"
  },
  {
   "metadata": {},
   "cell_type": "markdown",
   "source": "#### &emsp;Deciding Which Errors to Report",
   "id": "1aa75b756b576266"
  },
  {
   "metadata": {},
   "cell_type": "code",
   "outputs": [],
   "execution_count": null,
   "source": "",
   "id": "6c5d284677a0f87b"
  },
  {
   "metadata": {},
   "cell_type": "markdown",
   "source": "#### &emsp;Exercise 10-6: Addition",
   "id": "834875552bbfa129"
  },
  {
   "metadata": {},
   "cell_type": "code",
   "outputs": [],
   "execution_count": null,
   "source": "",
   "id": "4d25402a65669ef"
  },
  {
   "metadata": {},
   "cell_type": "markdown",
   "source": "#### &emsp;Exercise 10-7: Addition Calculator",
   "id": "6ed9f448aa5cd733"
  },
  {
   "metadata": {},
   "cell_type": "code",
   "outputs": [],
   "execution_count": null,
   "source": "",
   "id": "cbc0b8034af40bae"
  },
  {
   "metadata": {},
   "cell_type": "markdown",
   "source": "#### &emsp;Exercise 10-8: Cats and Dogs",
   "id": "abbf212f2cf4472b"
  },
  {
   "metadata": {},
   "cell_type": "code",
   "outputs": [],
   "execution_count": null,
   "source": "",
   "id": "2fa6a62b5b33d5ce"
  },
  {
   "metadata": {},
   "cell_type": "markdown",
   "source": "#### &emsp;Exercise 10-9: Silent Cats and Dogs",
   "id": "83c73cb03ba8e3bd"
  },
  {
   "metadata": {},
   "cell_type": "code",
   "outputs": [],
   "execution_count": null,
   "source": "",
   "id": "e0cf1a33b9d97648"
  },
  {
   "metadata": {},
   "cell_type": "markdown",
   "source": "#### &emsp;Exercise 10-10: Common Words",
   "id": "a1a3b7ca2ede9e59"
  },
  {
   "metadata": {},
   "cell_type": "code",
   "outputs": [],
   "execution_count": null,
   "source": "",
   "id": "2462223af5389f8e"
  },
  {
   "metadata": {},
   "cell_type": "markdown",
   "source": "### __Storing Data__",
   "id": "89b62a86248b65cc"
  },
  {
   "metadata": {},
   "cell_type": "code",
   "outputs": [],
   "execution_count": null,
   "source": "",
   "id": "9317d665ec89f304"
  },
  {
   "metadata": {},
   "cell_type": "markdown",
   "source": "#### &emsp;Using json.dump() and json.load()",
   "id": "ba911b5b7ea73d26"
  },
  {
   "metadata": {},
   "cell_type": "code",
   "outputs": [],
   "execution_count": null,
   "source": "",
   "id": "8e3d604e96b6545d"
  },
  {
   "metadata": {},
   "cell_type": "markdown",
   "source": "#### &emsp;Saving and Reading User-Generated Data",
   "id": "81fa05f6784e31a2"
  },
  {
   "metadata": {},
   "cell_type": "code",
   "outputs": [],
   "execution_count": null,
   "source": "",
   "id": "49588d0f6642a718"
  },
  {
   "metadata": {},
   "cell_type": "markdown",
   "source": "#### &emsp;Refactoring",
   "id": "55dffc1e1dfd06e9"
  },
  {
   "metadata": {},
   "cell_type": "code",
   "outputs": [],
   "execution_count": null,
   "source": "",
   "id": "7227c9d3ea23aca3"
  },
  {
   "metadata": {},
   "cell_type": "markdown",
   "source": "#### &emsp;Exercise 10-11: Favorite Number",
   "id": "a223522619e10507"
  },
  {
   "metadata": {},
   "cell_type": "code",
   "outputs": [],
   "execution_count": null,
   "source": "",
   "id": "6d88bd67bd14dfa2"
  },
  {
   "metadata": {},
   "cell_type": "markdown",
   "source": "#### &emsp;Exercise 10-12: Favorite Number Remembered",
   "id": "b0221ff7e9122d37"
  },
  {
   "metadata": {},
   "cell_type": "code",
   "outputs": [],
   "execution_count": null,
   "source": "",
   "id": "6cc34b0fe9facf5b"
  },
  {
   "metadata": {},
   "cell_type": "markdown",
   "source": "#### &emsp;Exercise 10-13: Verify User",
   "id": "e580605fc49cdfad"
  },
  {
   "metadata": {},
   "cell_type": "code",
   "outputs": [],
   "execution_count": null,
   "source": "",
   "id": "a1d91172cd9cac2b"
  },
  {
   "metadata": {},
   "cell_type": "markdown",
   "source": "### __Summary__",
   "id": "b69f2debe9242045"
  }
 ],
 "metadata": {
  "kernelspec": {
   "display_name": "Python 3",
   "language": "python",
   "name": "python3"
  },
  "language_info": {
   "codemirror_mode": {
    "name": "ipython",
    "version": 2
   },
   "file_extension": ".py",
   "mimetype": "text/x-python",
   "name": "python",
   "nbconvert_exporter": "python",
   "pygments_lexer": "ipython2",
   "version": "2.7.6"
  }
 },
 "nbformat": 4,
 "nbformat_minor": 5
}
