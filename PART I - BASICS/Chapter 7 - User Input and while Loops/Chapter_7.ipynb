{
 "cells": [
  {
   "metadata": {},
   "cell_type": "markdown",
   "source": "# Chapter 7 - User Input and While Loops",
   "id": "5628e81ee79560b6"
  },
  {
   "metadata": {
    "ExecuteTime": {
     "end_time": "2024-07-01T17:56:25.283447Z",
     "start_time": "2024-07-01T17:56:25.276087Z"
    }
   },
   "cell_type": "code",
   "source": "from IPython.display import Code",
   "id": "afe5a2c1d9483ec1",
   "outputs": [],
   "execution_count": 1
  },
  {
   "metadata": {},
   "cell_type": "markdown",
   "source": "### __How the input() Function Works__",
   "id": "fc8ed882b11f6185"
  },
  {
   "metadata": {},
   "cell_type": "markdown",
   "source": "#### &emsp;Writing Clear Prompts",
   "id": "7eb9813054a787a1"
  },
  {
   "metadata": {},
   "cell_type": "markdown",
   "source": "#### &emsp;Using int() to Accept Numerical Input",
   "id": "9832517a35dbb9da"
  },
  {
   "metadata": {},
   "cell_type": "markdown",
   "source": "#### &emsp;The Modulo Operator",
   "id": "e51bd74448cc50e1"
  },
  {
   "metadata": {},
   "cell_type": "markdown",
   "source": "#### &emsp;Exercise 7-1: Rental Car",
   "id": "25ac24b0e08514c4"
  },
  {
   "metadata": {},
   "cell_type": "markdown",
   "source": "#### &emsp;Exercise 7-2: Restaurant Seating",
   "id": "bb6d992d29eb66c6"
  },
  {
   "metadata": {},
   "cell_type": "markdown",
   "source": "#### &emsp;Exercise 7-3: Multiples of Ten",
   "id": "3ca6e661edee78c8"
  },
  {
   "metadata": {},
   "cell_type": "markdown",
   "source": "### __Introducing while Loops__",
   "id": "c576dc6a546a245e"
  },
  {
   "metadata": {},
   "cell_type": "markdown",
   "source": "#### &emsp;The while Loop in Action",
   "id": "a6aaa39b85cbf5db"
  },
  {
   "metadata": {},
   "cell_type": "markdown",
   "source": "#### &emsp;Letting the User Choose When to Quit",
   "id": "555a33534bf3fa21"
  },
  {
   "metadata": {},
   "cell_type": "markdown",
   "source": "#### &emsp;Using a Flag",
   "id": "c7b2c58ea04dc4f"
  },
  {
   "metadata": {},
   "cell_type": "markdown",
   "source": "#### &emsp;Using break to Exit a Loop",
   "id": "e2780d0becf0e728"
  },
  {
   "metadata": {},
   "cell_type": "markdown",
   "source": "#### &emsp;Using continue in a Loop",
   "id": "2de4adffa7fb7927"
  },
  {
   "metadata": {},
   "cell_type": "markdown",
   "source": "#### &emsp;Avoiding Infinite Loops",
   "id": "d81ebccab274c88b"
  },
  {
   "metadata": {},
   "cell_type": "markdown",
   "source": "#### &emsp;Exercise 7-4: Pizza Toppings",
   "id": "f3bc76802ea06481"
  },
  {
   "metadata": {},
   "cell_type": "markdown",
   "source": "#### &emsp;Exercise 7-5: Movie Tickets",
   "id": "e287c2ce78e1a137"
  },
  {
   "metadata": {},
   "cell_type": "markdown",
   "source": "#### &emsp;Exercise 7-6: Three Exits",
   "id": "cebc054e0e7b3d7"
  },
  {
   "metadata": {},
   "cell_type": "markdown",
   "source": "#### &emsp;Exercise 7-7: Infinity",
   "id": "72cc46594f51e517"
  },
  {
   "metadata": {},
   "cell_type": "markdown",
   "source": "### __Using a while Loop with Lists and Dictionaries__",
   "id": "14608e1db5b45515"
  },
  {
   "metadata": {},
   "cell_type": "markdown",
   "source": "#### &emsp;Moving Items from One List to Another",
   "id": "a9c13f11d71a7a44"
  },
  {
   "metadata": {},
   "cell_type": "markdown",
   "source": "#### &emsp;Removing All Instances of Specific Values from a List",
   "id": "60ccd49a9dfddc16"
  },
  {
   "metadata": {},
   "cell_type": "markdown",
   "source": "#### &emsp;Filling a Dictionary with User Input",
   "id": "41306079f9fffd48"
  },
  {
   "metadata": {},
   "cell_type": "markdown",
   "source": "#### &emsp;Exercise 7-8: Deli",
   "id": "8495880eca6bb4e6"
  },
  {
   "metadata": {},
   "cell_type": "markdown",
   "source": "#### &emsp;Exercise 7-9: No Pastrami",
   "id": "750e891561059a1d"
  },
  {
   "metadata": {},
   "cell_type": "markdown",
   "source": "#### &emsp;Exercise 7-10: Dream Vacation",
   "id": "2cb7eb93b026cc94"
  },
  {
   "metadata": {},
   "cell_type": "markdown",
   "source": "### __Summary__",
   "id": "aec6b3936aef6670"
  }
 ],
 "metadata": {
  "kernelspec": {
   "display_name": "Python 3",
   "language": "python",
   "name": "python3"
  },
  "language_info": {
   "codemirror_mode": {
    "name": "ipython",
    "version": 2
   },
   "file_extension": ".py",
   "mimetype": "text/x-python",
   "name": "python",
   "nbconvert_exporter": "python",
   "pygments_lexer": "ipython2",
   "version": "2.7.6"
  }
 },
 "nbformat": 4,
 "nbformat_minor": 5
}
