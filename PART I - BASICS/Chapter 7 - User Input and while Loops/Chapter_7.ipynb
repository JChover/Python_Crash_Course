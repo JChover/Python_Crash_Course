{
 "cells": [
  {
   "metadata": {},
   "cell_type": "markdown",
   "source": "# Chapter 7 - User Input and While Loops",
   "id": "5628e81ee79560b6"
  },
  {
   "metadata": {
    "ExecuteTime": {
     "end_time": "2024-07-01T17:56:25.283447Z",
     "start_time": "2024-07-01T17:56:25.276087Z"
    }
   },
   "cell_type": "code",
   "source": "from IPython.display import Code",
   "id": "afe5a2c1d9483ec1",
   "outputs": [],
   "execution_count": 1
  },
  {
   "metadata": {},
   "cell_type": "markdown",
   "source": "### __How the input() Function Works__",
   "id": "fc8ed882b11f6185"
  },
  {
   "metadata": {
    "ExecuteTime": {
     "end_time": "2024-07-02T16:42:28.844454Z",
     "start_time": "2024-07-02T16:42:25.221589Z"
    }
   },
   "cell_type": "code",
   "source": [
    "# How the input() Function Works - parrot.py\n",
    "message = input(\"Tell me something, and I will repeat it back to you: \")\n",
    "print(message)"
   ],
   "id": "2804c25cbc5fbb3",
   "outputs": [
    {
     "name": "stdout",
     "output_type": "stream",
     "text": [
      "Hello\n"
     ]
    }
   ],
   "execution_count": 1
  },
  {
   "metadata": {},
   "cell_type": "markdown",
   "source": "#### &emsp;Writing Clear Prompts",
   "id": "7eb9813054a787a1"
  },
  {
   "metadata": {
    "ExecuteTime": {
     "end_time": "2024-07-02T16:45:20.843203Z",
     "start_time": "2024-07-02T16:45:18.192277Z"
    }
   },
   "cell_type": "code",
   "source": [
    "# Writing Clear Prompts - greeter.py\n",
    "name = input(\"Please, enter your name: \")\n",
    "print(f\"\\nHello, {name}!\")"
   ],
   "id": "49ead9b8847a1d0c",
   "outputs": [
    {
     "name": "stdout",
     "output_type": "stream",
     "text": [
      "\n",
      "Hello, Seneca!\n"
     ]
    }
   ],
   "execution_count": 2
  },
  {
   "metadata": {
    "ExecuteTime": {
     "end_time": "2024-07-02T16:46:50.440843Z",
     "start_time": "2024-07-02T16:46:48.261762Z"
    }
   },
   "cell_type": "code",
   "source": [
    "# Writing Clear Prompts(longer prompt) - greeter.py\n",
    "prompt = \"If you tell us who you are, we can personalize the messages you see.\"\n",
    "prompt += \"\\nWhat is your first name? \"\n",
    "\n",
    "name = input(prompt)\n",
    "print(f\"\\nHello, {name}!\")"
   ],
   "id": "b1845128caafcdcd",
   "outputs": [
    {
     "name": "stdout",
     "output_type": "stream",
     "text": [
      "\n",
      "Hello, Seneca!\n"
     ]
    }
   ],
   "execution_count": 3
  },
  {
   "metadata": {},
   "cell_type": "markdown",
   "source": "#### &emsp;Using int() to Accept Numerical Input",
   "id": "9832517a35dbb9da"
  },
  {
   "metadata": {
    "ExecuteTime": {
     "end_time": "2024-07-02T16:47:40.662572Z",
     "start_time": "2024-07-02T16:47:38.444802Z"
    }
   },
   "cell_type": "code",
   "source": [
    "age = input(\"How old are you? \")\n",
    "age"
   ],
   "id": "61bb9cb76cd573ac",
   "outputs": [
    {
     "data": {
      "text/plain": [
       "'33'"
      ]
     },
     "execution_count": 5,
     "metadata": {},
     "output_type": "execute_result"
    }
   ],
   "execution_count": 5
  },
  {
   "metadata": {
    "ExecuteTime": {
     "end_time": "2024-07-02T16:49:03.853755Z",
     "start_time": "2024-07-02T16:49:01.338230Z"
    }
   },
   "cell_type": "code",
   "source": [
    "age = input(\"How old are you? \")\n",
    "age >= 18  # This returns error as age is a String not a Int"
   ],
   "id": "f215e4cbd4e8ee5b",
   "outputs": [
    {
     "ename": "TypeError",
     "evalue": "'>=' not supported between instances of 'str' and 'int'",
     "output_type": "error",
     "traceback": [
      "\u001B[1;31m---------------------------------------------------------------------------\u001B[0m",
      "\u001B[1;31mTypeError\u001B[0m                                 Traceback (most recent call last)",
      "Cell \u001B[1;32mIn[6], line 2\u001B[0m\n\u001B[0;32m      1\u001B[0m age \u001B[38;5;241m=\u001B[39m \u001B[38;5;28minput\u001B[39m(\u001B[38;5;124m\"\u001B[39m\u001B[38;5;124mHow old are you? \u001B[39m\u001B[38;5;124m\"\u001B[39m)\n\u001B[1;32m----> 2\u001B[0m \u001B[43mage\u001B[49m\u001B[43m \u001B[49m\u001B[38;5;241;43m>\u001B[39;49m\u001B[38;5;241;43m=\u001B[39;49m\u001B[43m \u001B[49m\u001B[38;5;241;43m18\u001B[39;49m\n",
      "\u001B[1;31mTypeError\u001B[0m: '>=' not supported between instances of 'str' and 'int'"
     ]
    }
   ],
   "execution_count": 6
  },
  {
   "metadata": {
    "ExecuteTime": {
     "end_time": "2024-07-02T16:50:27.854614Z",
     "start_time": "2024-07-02T16:50:26.324294Z"
    }
   },
   "cell_type": "code",
   "source": [
    "age = input(\"How old are you? \")\n",
    "age = int(age)  # First convert age to Int then we can operate it\n",
    "age >= 18"
   ],
   "id": "81937ac62db2a84e",
   "outputs": [
    {
     "data": {
      "text/plain": [
       "True"
      ]
     },
     "execution_count": 7,
     "metadata": {},
     "output_type": "execute_result"
    }
   ],
   "execution_count": 7
  },
  {
   "metadata": {
    "ExecuteTime": {
     "end_time": "2024-07-02T16:54:37.999394Z",
     "start_time": "2024-07-02T16:54:36.177525Z"
    }
   },
   "cell_type": "code",
   "source": [
    "# Writing Clear Prompts - rollercoaster.py\n",
    "height = input(\"How tall are you, in inches: \")\n",
    "height = int(height)\n",
    "\n",
    "if height >= 48:\n",
    "    print(\"\\nYou are tall enough to ride!\")\n",
    "else:\n",
    "    print(\"\\nYou'll be able to ride when you're a little older.\")"
   ],
   "id": "80258575d723c4d9",
   "outputs": [
    {
     "name": "stdout",
     "output_type": "stream",
     "text": [
      "\n",
      "You'll be able to ride when you're a little older.\n"
     ]
    }
   ],
   "execution_count": 8
  },
  {
   "metadata": {},
   "cell_type": "markdown",
   "source": "#### &emsp;The Modulo Operator",
   "id": "e51bd74448cc50e1"
  },
  {
   "metadata": {},
   "cell_type": "markdown",
   "source": "The modulo operator (%), which divides one number by another number and returns the remainder",
   "id": "3a59b97dbd9442b4"
  },
  {
   "metadata": {
    "ExecuteTime": {
     "end_time": "2024-07-02T16:56:01.818300Z",
     "start_time": "2024-07-02T16:56:01.814897Z"
    }
   },
   "cell_type": "code",
   "source": "4 % 3 ",
   "id": "eb859f7a958400d9",
   "outputs": [
    {
     "data": {
      "text/plain": [
       "1"
      ]
     },
     "execution_count": 9,
     "metadata": {},
     "output_type": "execute_result"
    }
   ],
   "execution_count": 9
  },
  {
   "metadata": {
    "ExecuteTime": {
     "end_time": "2024-07-02T16:56:17.178631Z",
     "start_time": "2024-07-02T16:56:17.175531Z"
    }
   },
   "cell_type": "code",
   "source": "5 % 3",
   "id": "dee55ea4890ca96c",
   "outputs": [
    {
     "data": {
      "text/plain": [
       "2"
      ]
     },
     "execution_count": 10,
     "metadata": {},
     "output_type": "execute_result"
    }
   ],
   "execution_count": 10
  },
  {
   "metadata": {
    "ExecuteTime": {
     "end_time": "2024-07-02T16:56:26.570367Z",
     "start_time": "2024-07-02T16:56:26.567793Z"
    }
   },
   "cell_type": "code",
   "source": "6 % 3",
   "id": "571cb854b489455d",
   "outputs": [
    {
     "data": {
      "text/plain": [
       "0"
      ]
     },
     "execution_count": 11,
     "metadata": {},
     "output_type": "execute_result"
    }
   ],
   "execution_count": 11
  },
  {
   "metadata": {
    "ExecuteTime": {
     "end_time": "2024-07-02T16:56:35.155844Z",
     "start_time": "2024-07-02T16:56:35.153443Z"
    }
   },
   "cell_type": "code",
   "source": "7 % 3",
   "id": "f91aa54c44696496",
   "outputs": [
    {
     "data": {
      "text/plain": [
       "1"
      ]
     },
     "execution_count": 12,
     "metadata": {},
     "output_type": "execute_result"
    }
   ],
   "execution_count": 12
  },
  {
   "metadata": {
    "ExecuteTime": {
     "end_time": "2024-07-02T16:58:58.694718Z",
     "start_time": "2024-07-02T16:58:57.044213Z"
    }
   },
   "cell_type": "code",
   "source": [
    "# The Modulo Operator - even_or_odd.py\n",
    "number = input(\"Enter a number, and I'll tell you if it's even or odd: \")\n",
    "number = int(number)\n",
    "\n",
    "if number % 2 == 0:\n",
    "    print(f\"\\nThe number {number} is even.\")\n",
    "else:\n",
    "    print(f\"\\nThe number {number} is odd.\")"
   ],
   "id": "11bcad374c60969a",
   "outputs": [
    {
     "name": "stdout",
     "output_type": "stream",
     "text": [
      "\n",
      "The number 33 is odd.\n"
     ]
    }
   ],
   "execution_count": 15
  },
  {
   "metadata": {},
   "cell_type": "markdown",
   "source": "#### &emsp;Exercise 7-1: Rental Car",
   "id": "25ac24b0e08514c4"
  },
  {
   "metadata": {
    "ExecuteTime": {
     "end_time": "2024-07-02T17:02:36.877178Z",
     "start_time": "2024-07-02T17:02:30.439052Z"
    }
   },
   "cell_type": "code",
   "source": [
    "# 7-2 Rental Car\n",
    "car = input(\"\\nWhich car would you like to rent?: \")\n",
    "print(f\"\\nLet me check if we have the {car} available...\")"
   ],
   "id": "72b54f6d65d1ec33",
   "outputs": [
    {
     "name": "stdout",
     "output_type": "stream",
     "text": [
      "\n",
      "Let me check if we have the Nissan Sunny available...\n"
     ]
    }
   ],
   "execution_count": 16
  },
  {
   "metadata": {},
   "cell_type": "markdown",
   "source": "#### &emsp;Exercise 7-2: Restaurant Seating",
   "id": "bb6d992d29eb66c6"
  },
  {
   "metadata": {
    "ExecuteTime": {
     "end_time": "2024-07-02T17:08:01.912037Z",
     "start_time": "2024-07-02T17:07:59.279519Z"
    }
   },
   "cell_type": "code",
   "source": [
    "# 7-2 Restaurant Seating\n",
    "seats = int(input(\"\\nGood night! How manny people will attend the dinner?: \"))\n",
    "\n",
    "if seats > 8:\n",
    "    print(\"\\nNoted. Please wait here for your table...\")\n",
    "else:\n",
    "    print(\"\\nPerfect! Your table is ready, please come inside.\")"
   ],
   "id": "3691cbda199575b9",
   "outputs": [
    {
     "name": "stdout",
     "output_type": "stream",
     "text": [
      "\n",
      "Noted. Please wait here for your table...\n"
     ]
    }
   ],
   "execution_count": 17
  },
  {
   "metadata": {},
   "cell_type": "markdown",
   "source": "#### &emsp;Exercise 7-3: Multiples of Ten",
   "id": "3ca6e661edee78c8"
  },
  {
   "metadata": {
    "ExecuteTime": {
     "end_time": "2024-07-02T17:11:37.663589Z",
     "start_time": "2024-07-02T17:11:34.708694Z"
    }
   },
   "cell_type": "code",
   "source": [
    "# 7-3 Multiples of Ten\n",
    "number = int(input(\"\\nEnter a number, and I'll tell you if it's a multiple of ten: \"))\n",
    "\n",
    "if number % 10 == 0:\n",
    "    print(f\"\\nThe number {number} is a multiple of ten.\")\n",
    "else:\n",
    "    print(f\"\\nThe number {number} is not a multiple of ten.\")"
   ],
   "id": "705edaeb51b3df57",
   "outputs": [
    {
     "name": "stdout",
     "output_type": "stream",
     "text": [
      "\n",
      "The number 50 is a multiple of ten.\n"
     ]
    }
   ],
   "execution_count": 18
  },
  {
   "metadata": {},
   "cell_type": "markdown",
   "source": "### __Introducing while Loops__",
   "id": "c576dc6a546a245e"
  },
  {
   "metadata": {},
   "cell_type": "markdown",
   "source": "#### &emsp;The while Loop in Action",
   "id": "a6aaa39b85cbf5db"
  },
  {
   "metadata": {
    "ExecuteTime": {
     "end_time": "2024-07-03T09:37:40.111947Z",
     "start_time": "2024-07-03T09:37:40.104039Z"
    }
   },
   "cell_type": "code",
   "source": [
    "# The while Loop in Action - counting.py\n",
    "current_number = 1\n",
    "\n",
    "while current_number <= 5:\n",
    "    print(current_number)\n",
    "    current_number += 1"
   ],
   "id": "5d265780ad4d8b5a",
   "outputs": [
    {
     "name": "stdout",
     "output_type": "stream",
     "text": [
      "1\n",
      "2\n",
      "3\n",
      "4\n",
      "5\n"
     ]
    }
   ],
   "execution_count": 1
  },
  {
   "metadata": {},
   "cell_type": "markdown",
   "source": "#### &emsp;Letting the User Choose When to Quit",
   "id": "555a33534bf3fa21"
  },
  {
   "metadata": {
    "ExecuteTime": {
     "end_time": "2024-07-03T10:34:09.478605Z",
     "start_time": "2024-07-03T10:34:02.398496Z"
    }
   },
   "cell_type": "code",
   "source": [
    "# Letting the User Choose When to Quit - parrot.py\n",
    "prompt = \"\\nTell me something, and I will repeat it back to you:\"\n",
    "prompt += \"\\n(Enter 'quit' to end the program.)\\n \"\n",
    "\n",
    "message = \"\"\n",
    "while message != 'quit':\n",
    "    message = input(prompt)\n",
    "    print(message)\n"
   ],
   "id": "46c4638ef0a0fec4",
   "outputs": [
    {
     "name": "stdout",
     "output_type": "stream",
     "text": [
      "Hello\n",
      "Bye\n",
      "quit\n"
     ]
    }
   ],
   "execution_count": 3
  },
  {
   "metadata": {},
   "cell_type": "markdown",
   "source": "#### &emsp;Using a Flag",
   "id": "c7b2c58ea04dc4f"
  },
  {
   "metadata": {
    "ExecuteTime": {
     "end_time": "2024-07-03T10:17:04.807787Z",
     "start_time": "2024-07-03T10:16:51.550273Z"
    }
   },
   "cell_type": "code",
   "source": [
    "# Using a Flag - parrot.py\n",
    "prompt = \"\\nTell me something, and I will repeat it back to you:\"\n",
    "prompt += \"\\n(Enter 'quit' to end the program.)\\n \"\n",
    "\n",
    "active = True  # The Flag\n",
    "\n",
    "while active:\n",
    "    message = input(prompt)\n",
    "    \n",
    "    if message == 'quit':\n",
    "        active = False\n",
    "    else:\n",
    "        print(message)\n",
    "        "
   ],
   "id": "4871751f3d4c71d0",
   "outputs": [
    {
     "name": "stdout",
     "output_type": "stream",
     "text": [
      "Hello\n",
      "Hi\n"
     ]
    }
   ],
   "execution_count": 1
  },
  {
   "metadata": {},
   "cell_type": "markdown",
   "source": "#### &emsp;Using break to Exit a Loop",
   "id": "e2780d0becf0e728"
  },
  {
   "metadata": {
    "ExecuteTime": {
     "end_time": "2024-07-03T10:33:56.386774Z",
     "start_time": "2024-07-03T10:33:44.211975Z"
    }
   },
   "cell_type": "code",
   "source": [
    "# Using break to Exit a Loop - cities.py\n",
    "prompt = \"\\nPlease enter the name of a city you have visited:\"\n",
    "prompt += \"\\n(Enter 'quit' when you are finished.)\\n\"\n",
    "\n",
    "while True:\n",
    "    city = input(prompt)\n",
    "\n",
    "    if city == 'quit':\n",
    "        break\n",
    "    else:\n",
    "        print(f\"I'd love to go to {city.title()}!\")\n"
   ],
   "id": "8c5f7b613adcea60",
   "outputs": [
    {
     "name": "stdout",
     "output_type": "stream",
     "text": [
      "I'd love to go to Rome!\n",
      "I'd love to go to Paris!\n"
     ]
    }
   ],
   "execution_count": 2
  },
  {
   "metadata": {},
   "cell_type": "markdown",
   "source": "#### &emsp;Using continue in a Loop",
   "id": "2de4adffa7fb7927"
  },
  {
   "metadata": {
    "ExecuteTime": {
     "end_time": "2024-07-03T17:27:36.049259Z",
     "start_time": "2024-07-03T17:27:36.046346Z"
    }
   },
   "cell_type": "code",
   "source": [
    "# Using continue in a Loop - counting.py\n",
    "current_number = 0\n",
    "\n",
    "while current_number < 10:\n",
    "    current_number += 1\n",
    "    if current_number % 2 == 0:\n",
    "        continue\n",
    "        \n",
    "    print(current_number)\n",
    "    "
   ],
   "id": "ed784d1fc016edc4",
   "outputs": [
    {
     "name": "stdout",
     "output_type": "stream",
     "text": [
      "1\n",
      "3\n",
      "5\n",
      "7\n",
      "9\n"
     ]
    }
   ],
   "execution_count": 3
  },
  {
   "metadata": {},
   "cell_type": "markdown",
   "source": "#### &emsp;Avoiding Infinite Loops",
   "id": "d81ebccab274c88b"
  },
  {
   "metadata": {
    "ExecuteTime": {
     "end_time": "2024-07-03T17:29:16.263661Z",
     "start_time": "2024-07-03T17:29:16.261181Z"
    }
   },
   "cell_type": "code",
   "source": [
    "# Avoiding Infinite Loops - counting.py\n",
    "x = 1\n",
    "while x <= 5:\n",
    "    print(x)\n",
    "    x += 1  # This will stop at 5, if we remove this line it will run forever"
   ],
   "id": "49a82a1d274f6b5e",
   "outputs": [
    {
     "name": "stdout",
     "output_type": "stream",
     "text": [
      "1\n",
      "2\n",
      "3\n",
      "4\n",
      "5\n"
     ]
    }
   ],
   "execution_count": 4
  },
  {
   "metadata": {},
   "cell_type": "markdown",
   "source": "#### &emsp;Exercise 7-4: Pizza Toppings",
   "id": "f3bc76802ea06481"
  },
  {
   "metadata": {
    "ExecuteTime": {
     "end_time": "2024-07-03T17:34:33.230844Z",
     "start_time": "2024-07-03T17:34:21.635480Z"
    }
   },
   "cell_type": "code",
   "source": [
    "# 7-4 Pizza Toppings\n",
    "prompt = \"\\nTell me a topping for your pizza:\\n\"\n",
    "prompt += \"\\n(Enter 'quit' to end the program.)\\n \"\n",
    "\n",
    "active = True  # The Flag\n",
    "\n",
    "while active:\n",
    "    topping = input(prompt)\n",
    "\n",
    "    if topping == 'quit':\n",
    "        active = False\n",
    "    else:\n",
    "        print(f\"Sure, I will add {topping} to your pizza.\")\n"
   ],
   "id": "44e79c36f227f9af",
   "outputs": [
    {
     "name": "stdout",
     "output_type": "stream",
     "text": [
      "Sure, I will add Salami to your pizza.\n",
      "Sure, I will add Cheese to your pizza.\n",
      "Sure, I will add Tomato to your pizza.\n"
     ]
    }
   ],
   "execution_count": 6
  },
  {
   "metadata": {},
   "cell_type": "markdown",
   "source": "#### &emsp;Exercise 7-5: Movie Tickets",
   "id": "e287c2ce78e1a137"
  },
  {
   "metadata": {
    "ExecuteTime": {
     "end_time": "2024-07-05T11:28:19.014809Z",
     "start_time": "2024-07-05T11:28:11.483903Z"
    }
   },
   "cell_type": "code",
   "source": [
    "# 7-5 Movie Tickets\n",
    "prompt = \"\\nTell me your age:\"\n",
    "prompt += \"\\n(Enter 'quit' to end the program.)\\n \"\n",
    "\n",
    "while True:\n",
    "    age = input(prompt)\n",
    "    if age == 'quit':\n",
    "        break\n",
    "\n",
    "    age = int(age)\n",
    "\n",
    "    if age < 3:\n",
    "        price = 0\n",
    "    elif 3 <= age <= 12:\n",
    "        price = 10\n",
    "    elif age > 12:\n",
    "        price = 15\n",
    "\n",
    "    print(f\"Your ticket will cost ${price} \")"
   ],
   "id": "2f6fec1a13dc1bb8",
   "outputs": [
    {
     "name": "stdout",
     "output_type": "stream",
     "text": [
      "Your ticket will cost $0 \n",
      "Your ticket will cost $10 \n",
      "Your ticket will cost $15 \n"
     ]
    }
   ],
   "execution_count": 1
  },
  {
   "metadata": {},
   "cell_type": "markdown",
   "source": "#### &emsp;Exercise 7-6: Three Exits",
   "id": "cebc054e0e7b3d7"
  },
  {
   "metadata": {},
   "cell_type": "code",
   "outputs": [],
   "execution_count": null,
   "source": [
    "# 7-6 Three Exits\n",
    "prompt = \"\\nTell me your age:\"\n",
    "prompt += \"\\n(Enter 'quit' to end the program.)\\n \"\n",
    "\n",
    "active = True  # Active Variable to control the Loop(2)\n",
    "\n",
    "while active:\n",
    "    age = input(prompt)\n",
    "    if age == 'quit':\n",
    "        break  # Use of break to exit the loop(3)\n",
    "\n",
    "    age = int(age)\n",
    "\n",
    "    if age < 3:  # Conditional Test(1)\n",
    "        price = 0\n",
    "    elif 3 <= age <= 12:\n",
    "        price = 10\n",
    "    elif age > 12:\n",
    "        price = 15\n",
    "\n",
    "    print(f\"Your ticket will cost ${price} \")\n"
   ],
   "id": "388c05779b4abbbc"
  },
  {
   "metadata": {},
   "cell_type": "markdown",
   "source": "#### &emsp;Exercise 7-7: Infinity",
   "id": "72cc46594f51e517"
  },
  {
   "metadata": {},
   "cell_type": "code",
   "outputs": [],
   "execution_count": null,
   "source": [
    "# 7-7 Infinity\n",
    "prompt = \"\\nTell me a starting number, and I will add up to infinity: \\n\"\n",
    "\n",
    "num = int(input(prompt))\n",
    "\n",
    "while num:\n",
    "    num = num + 1\n",
    "    print(num)\n"
   ],
   "id": "e3deb15e3437163"
  },
  {
   "metadata": {},
   "cell_type": "markdown",
   "source": "### __Using a while Loop with Lists and Dictionaries__",
   "id": "14608e1db5b45515"
  },
  {
   "metadata": {},
   "cell_type": "markdown",
   "source": "#### &emsp;Moving Items from One List to Another",
   "id": "a9c13f11d71a7a44"
  },
  {
   "metadata": {
    "ExecuteTime": {
     "end_time": "2024-07-06T09:41:04.431668Z",
     "start_time": "2024-07-06T09:41:04.422641Z"
    }
   },
   "cell_type": "code",
   "source": [
    "# Moving Items from One List to Another - confirmed_users.py\n",
    "unconfirmed_users = ['alice', 'brian', 'candace']\n",
    "confirmed_users = []\n",
    "\n",
    "while unconfirmed_users:\n",
    "    current_user = unconfirmed_users.pop()\n",
    "\n",
    "    print(f\"Verifying user: {current_user.title()}\")\n",
    "    confirmed_users.append(current_user)\n",
    "\n",
    "print(\"\\nThe following users have been confirmed:\")\n",
    "for confirmed_user in confirmed_users:\n",
    "    print(confirmed_user.title())\n",
    "   "
   ],
   "id": "8aa9d3a0e5e31aa7",
   "outputs": [
    {
     "name": "stdout",
     "output_type": "stream",
     "text": [
      "Verifying user: Candace\n",
      "Verifying user: Brian\n",
      "Verifying user: Alice\n",
      "\n",
      "The following users have been confirmed:\n",
      "Candace\n",
      "Brian\n",
      "Alice\n"
     ]
    }
   ],
   "execution_count": 1
  },
  {
   "metadata": {},
   "cell_type": "markdown",
   "source": "#### &emsp;Removing All Instances of Specific Values from a List",
   "id": "60ccd49a9dfddc16"
  },
  {
   "metadata": {
    "ExecuteTime": {
     "end_time": "2024-07-06T09:44:04.702643Z",
     "start_time": "2024-07-06T09:44:04.699321Z"
    }
   },
   "cell_type": "code",
   "source": [
    "# Removing All Instances of Specific Values from a List - pets.py\n",
    "pets = ['dog', 'cat', 'dog', 'goldfish', 'cat', 'rabbit', 'cat']\n",
    "print(pets)\n",
    "\n",
    "while 'cat' in pets:\n",
    "    pets.remove('cat')\n",
    "\n",
    "print(pets)\n"
   ],
   "id": "e3630b8c985f30ab",
   "outputs": [
    {
     "name": "stdout",
     "output_type": "stream",
     "text": [
      "['dog', 'cat', 'dog', 'goldfish', 'cat', 'rabbit', 'cat']\n",
      "['dog', 'dog', 'goldfish', 'rabbit']\n"
     ]
    }
   ],
   "execution_count": 2
  },
  {
   "metadata": {},
   "cell_type": "markdown",
   "source": "#### &emsp;Filling a Dictionary with User Input",
   "id": "41306079f9fffd48"
  },
  {
   "metadata": {},
   "cell_type": "code",
   "outputs": [],
   "execution_count": null,
   "source": "",
   "id": "b4c0a93c5f6b1693"
  },
  {
   "metadata": {},
   "cell_type": "markdown",
   "source": "#### &emsp;Exercise 7-8: Deli",
   "id": "8495880eca6bb4e6"
  },
  {
   "metadata": {},
   "cell_type": "code",
   "outputs": [],
   "execution_count": null,
   "source": "",
   "id": "3735fb6ce0de8aa"
  },
  {
   "metadata": {},
   "cell_type": "markdown",
   "source": "#### &emsp;Exercise 7-9: No Pastrami",
   "id": "750e891561059a1d"
  },
  {
   "metadata": {},
   "cell_type": "code",
   "outputs": [],
   "execution_count": null,
   "source": "",
   "id": "21493fd5a5e8286a"
  },
  {
   "metadata": {},
   "cell_type": "markdown",
   "source": "#### &emsp;Exercise 7-10: Dream Vacation",
   "id": "2cb7eb93b026cc94"
  },
  {
   "metadata": {},
   "cell_type": "code",
   "outputs": [],
   "execution_count": null,
   "source": "",
   "id": "52ce1fa0c5a9ea8e"
  },
  {
   "metadata": {},
   "cell_type": "markdown",
   "source": "### __Summary__",
   "id": "aec6b3936aef6670"
  }
 ],
 "metadata": {
  "kernelspec": {
   "display_name": "Python 3",
   "language": "python",
   "name": "python3"
  },
  "language_info": {
   "codemirror_mode": {
    "name": "ipython",
    "version": 2
   },
   "file_extension": ".py",
   "mimetype": "text/x-python",
   "name": "python",
   "nbconvert_exporter": "python",
   "pygments_lexer": "ipython2",
   "version": "2.7.6"
  }
 },
 "nbformat": 4,
 "nbformat_minor": 5
}
