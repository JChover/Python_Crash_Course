{
 "cells": [
  {
   "metadata": {},
   "cell_type": "markdown",
   "source": "# Chapter 9 - Classes",
   "id": "46f75804a2439b9e"
  },
  {
   "metadata": {},
   "cell_type": "code",
   "outputs": [],
   "execution_count": null,
   "source": "from IPython.display import Code",
   "id": "619f1d7ae77de294"
  },
  {
   "metadata": {},
   "cell_type": "markdown",
   "source": "### __Creating and Using a Class__",
   "id": "7d262adac55de241"
  },
  {
   "metadata": {},
   "cell_type": "code",
   "outputs": [],
   "execution_count": null,
   "source": "",
   "id": "3d8f1acb23ed68db"
  },
  {
   "metadata": {},
   "cell_type": "markdown",
   "source": "#### &emsp;Creating the Dog Class",
   "id": "512021e318388c1e"
  },
  {
   "metadata": {},
   "cell_type": "code",
   "outputs": [],
   "execution_count": null,
   "source": "",
   "id": "349253636a696371"
  },
  {
   "metadata": {},
   "cell_type": "markdown",
   "source": "#### &emsp;Making an Instance from a Class",
   "id": "aef17463a554df2b"
  },
  {
   "metadata": {},
   "cell_type": "code",
   "outputs": [],
   "execution_count": null,
   "source": "",
   "id": "241ecb39aabbbc16"
  },
  {
   "metadata": {},
   "cell_type": "markdown",
   "source": "#### &emsp;Exercise 9-1: Restaurant",
   "id": "6347712aedceb67e"
  },
  {
   "metadata": {},
   "cell_type": "code",
   "outputs": [],
   "execution_count": null,
   "source": "",
   "id": "c3dad1253036ef32"
  },
  {
   "metadata": {},
   "cell_type": "markdown",
   "source": "#### &emsp;Exercise 9-2: Three Restaurants",
   "id": "6e77d901bfdea78e"
  },
  {
   "metadata": {},
   "cell_type": "code",
   "outputs": [],
   "execution_count": null,
   "source": "",
   "id": "855313ec382ca2eb"
  },
  {
   "metadata": {},
   "cell_type": "markdown",
   "source": "#### &emsp;Exercise 9-3: Users",
   "id": "2444f3cbb2343d2a"
  },
  {
   "metadata": {},
   "cell_type": "code",
   "outputs": [],
   "execution_count": null,
   "source": "",
   "id": "73152348d2ec9dff"
  },
  {
   "metadata": {},
   "cell_type": "markdown",
   "source": "### __Working With Classes and Instances__",
   "id": "5314032595b9b457"
  },
  {
   "metadata": {},
   "cell_type": "code",
   "outputs": [],
   "execution_count": null,
   "source": "",
   "id": "6017d81ecb5bfc72"
  },
  {
   "metadata": {},
   "cell_type": "markdown",
   "source": "#### &emsp;The Car Class",
   "id": "e3925a125f0540a5"
  },
  {
   "metadata": {},
   "cell_type": "code",
   "outputs": [],
   "execution_count": null,
   "source": "",
   "id": "86269b895d7fe46f"
  },
  {
   "metadata": {},
   "cell_type": "markdown",
   "source": "#### &emsp;Setting a Default Value for an Attribute",
   "id": "dfd451e2bdeff003"
  },
  {
   "metadata": {},
   "cell_type": "code",
   "outputs": [],
   "execution_count": null,
   "source": "",
   "id": "bce9cf6ba5b3a9ce"
  },
  {
   "metadata": {},
   "cell_type": "markdown",
   "source": "#### &emsp;Modifying Attribute Values",
   "id": "ce692aed34424863"
  },
  {
   "metadata": {},
   "cell_type": "code",
   "outputs": [],
   "execution_count": null,
   "source": "",
   "id": "5188fc8e86fbd39e"
  },
  {
   "metadata": {},
   "cell_type": "markdown",
   "source": "#### &emsp; Exercise 9-4: Number Served",
   "id": "f6f982d77362086d"
  },
  {
   "metadata": {},
   "cell_type": "code",
   "outputs": [],
   "execution_count": null,
   "source": "",
   "id": "6d4d90fa9f628fda"
  },
  {
   "metadata": {},
   "cell_type": "markdown",
   "source": "#### &emsp;Exercise 9-5: Login Attempts",
   "id": "ac72ec701c0eacd7"
  },
  {
   "metadata": {},
   "cell_type": "code",
   "outputs": [],
   "execution_count": null,
   "source": "",
   "id": "e713943decc3a32c"
  },
  {
   "metadata": {},
   "cell_type": "markdown",
   "source": "### __Inheritance__",
   "id": "da48bfd18dc379a1"
  },
  {
   "metadata": {},
   "cell_type": "code",
   "outputs": [],
   "execution_count": null,
   "source": "",
   "id": "ba530f5026fe425f"
  },
  {
   "metadata": {},
   "cell_type": "markdown",
   "source": "#### &emsp;The __init__() Method for a Child Class",
   "id": "5f8982929c250d64"
  },
  {
   "metadata": {},
   "cell_type": "code",
   "outputs": [],
   "execution_count": null,
   "source": "",
   "id": "da0650f573649b99"
  },
  {
   "metadata": {},
   "cell_type": "markdown",
   "source": "#### &emsp;Defining Attributes and Methods for the Child Class",
   "id": "d6a12f91da6ec04f"
  },
  {
   "metadata": {},
   "cell_type": "code",
   "outputs": [],
   "execution_count": null,
   "source": "",
   "id": "506f09db3d33c75b"
  },
  {
   "metadata": {},
   "cell_type": "markdown",
   "source": "#### &emsp;Overriding Methods from the Parent Class",
   "id": "c610c8bc1ceeb76b"
  },
  {
   "metadata": {},
   "cell_type": "code",
   "outputs": [],
   "execution_count": null,
   "source": "",
   "id": "62a59e4a74fa8e2d"
  },
  {
   "metadata": {},
   "cell_type": "markdown",
   "source": "#### &emsp;Instances as Attributes",
   "id": "46a7f663fc5e508b"
  },
  {
   "metadata": {},
   "cell_type": "code",
   "outputs": [],
   "execution_count": null,
   "source": "",
   "id": "3d2b22d9d13ff46"
  },
  {
   "metadata": {},
   "cell_type": "markdown",
   "source": "#### &emsp;Modeling Real-World Objects",
   "id": "312e4df4fa7893e2"
  },
  {
   "metadata": {},
   "cell_type": "code",
   "outputs": [],
   "execution_count": null,
   "source": "",
   "id": "bdb1b42a183142e4"
  },
  {
   "metadata": {},
   "cell_type": "markdown",
   "source": "#### &emsp;Exercise 9-6: Ice Cream Stand",
   "id": "424bb33b91e5aefe"
  },
  {
   "metadata": {},
   "cell_type": "code",
   "outputs": [],
   "execution_count": null,
   "source": "",
   "id": "91455843ea76ca18"
  },
  {
   "metadata": {},
   "cell_type": "markdown",
   "source": "#### &emsp;Exercise 9-7: Admin",
   "id": "b31debcbe03fe4d9"
  },
  {
   "metadata": {},
   "cell_type": "code",
   "outputs": [],
   "execution_count": null,
   "source": "",
   "id": "5ffadb33545cf184"
  },
  {
   "metadata": {},
   "cell_type": "markdown",
   "source": "#### &emsp;Exercise 9-8: Privileges",
   "id": "a40437bf335fb7dd"
  },
  {
   "metadata": {},
   "cell_type": "code",
   "outputs": [],
   "execution_count": null,
   "source": "",
   "id": "2e2b0bee5804f7c"
  },
  {
   "metadata": {},
   "cell_type": "markdown",
   "source": "#### &emsp;Exercise 9-9: Battery Upgrade",
   "id": "d5549a2b1ae14645"
  },
  {
   "metadata": {},
   "cell_type": "code",
   "outputs": [],
   "execution_count": null,
   "source": "",
   "id": "557a4d200e54d9cf"
  },
  {
   "metadata": {},
   "cell_type": "markdown",
   "source": "### __Importing Classes__",
   "id": "5a3184abb9895352"
  },
  {
   "metadata": {},
   "cell_type": "code",
   "outputs": [],
   "execution_count": null,
   "source": "",
   "id": "d1f9f64ae994894e"
  },
  {
   "metadata": {},
   "cell_type": "markdown",
   "source": "#### &emsp;Importing a Single Class",
   "id": "62bc7bf99d1d88e5"
  },
  {
   "metadata": {},
   "cell_type": "code",
   "outputs": [],
   "execution_count": null,
   "source": "",
   "id": "7ae3b660bd8f3b5d"
  },
  {
   "metadata": {},
   "cell_type": "markdown",
   "source": "#### &emsp;Storing Multiple Classes in a Module",
   "id": "59b5fbd800797348"
  },
  {
   "metadata": {},
   "cell_type": "code",
   "outputs": [],
   "execution_count": null,
   "source": "",
   "id": "1c3024976b755fff"
  },
  {
   "metadata": {},
   "cell_type": "markdown",
   "source": "#### &emsp;Importing Multiple Classes from a Module",
   "id": "75a8da99f3726fa4"
  },
  {
   "metadata": {},
   "cell_type": "code",
   "outputs": [],
   "execution_count": null,
   "source": "",
   "id": "9a64d932f98ee296"
  },
  {
   "metadata": {},
   "cell_type": "markdown",
   "source": "#### &emsp;Importing an Entire Module",
   "id": "5aa14e129a7e5104"
  },
  {
   "metadata": {},
   "cell_type": "code",
   "outputs": [],
   "execution_count": null,
   "source": "",
   "id": "6f851316fbd56599"
  },
  {
   "metadata": {},
   "cell_type": "markdown",
   "source": "#### &emsp;Importing All Classes from a Module",
   "id": "590e80772bae40ba"
  },
  {
   "metadata": {},
   "cell_type": "code",
   "outputs": [],
   "execution_count": null,
   "source": "",
   "id": "3703438912eb3af5"
  },
  {
   "metadata": {},
   "cell_type": "markdown",
   "source": "#### &emsp;Importing a Module into a Module",
   "id": "5f4dff42bac61b5b"
  },
  {
   "metadata": {},
   "cell_type": "code",
   "outputs": [],
   "execution_count": null,
   "source": "",
   "id": "474ccd71a45ae7c2"
  },
  {
   "metadata": {},
   "cell_type": "markdown",
   "source": "#### &emsp;Using Aliases",
   "id": "c0d93deba436e8c0"
  },
  {
   "metadata": {},
   "cell_type": "code",
   "outputs": [],
   "execution_count": null,
   "source": "",
   "id": "69f87ca8c51e3388"
  },
  {
   "metadata": {},
   "cell_type": "markdown",
   "source": "#### &emsp;Finding Your Own Workflow",
   "id": "550c077985bfa172"
  },
  {
   "metadata": {},
   "cell_type": "code",
   "outputs": [],
   "execution_count": null,
   "source": "",
   "id": "5e671bdabf422e9"
  },
  {
   "metadata": {},
   "cell_type": "markdown",
   "source": "#### &emsp;Exercise 9-10: Imported Restaurant",
   "id": "a36e9bb08b1eed06"
  },
  {
   "metadata": {},
   "cell_type": "code",
   "outputs": [],
   "execution_count": null,
   "source": "",
   "id": "84e7fe912854f197"
  },
  {
   "metadata": {},
   "cell_type": "markdown",
   "source": "#### &emsp;Exercise 9-11: Imported Admin",
   "id": "e08f79829c7fe985"
  },
  {
   "metadata": {},
   "cell_type": "code",
   "outputs": [],
   "execution_count": null,
   "source": "",
   "id": "e7f63e1807ad5c1e"
  },
  {
   "metadata": {},
   "cell_type": "markdown",
   "source": "#### &emsp;Exercise 9-12: Multiple Modules",
   "id": "3b8d8cf3f4e38c8"
  },
  {
   "metadata": {},
   "cell_type": "code",
   "outputs": [],
   "execution_count": null,
   "source": "",
   "id": "29cb2b8ed55b1cfc"
  },
  {
   "metadata": {},
   "cell_type": "markdown",
   "source": "### __The Python Standard Library__",
   "id": "22478d9e85d5c97c"
  },
  {
   "metadata": {},
   "cell_type": "code",
   "outputs": [],
   "execution_count": null,
   "source": "",
   "id": "257a4eb5696c3e61"
  },
  {
   "metadata": {},
   "cell_type": "markdown",
   "source": "#### &emsp;Exercise 9-13: Dice",
   "id": "8eb7d54191c70b68"
  },
  {
   "metadata": {},
   "cell_type": "code",
   "outputs": [],
   "execution_count": null,
   "source": "",
   "id": "e6bccaec44ace81a"
  },
  {
   "metadata": {},
   "cell_type": "markdown",
   "source": "#### &emsp;Exercise 9-14: Lottery",
   "id": "6afe667bd5ebd17f"
  },
  {
   "metadata": {},
   "cell_type": "code",
   "outputs": [],
   "execution_count": null,
   "source": "",
   "id": "dd16a8ac996d806d"
  },
  {
   "metadata": {},
   "cell_type": "markdown",
   "source": "#### &emsp;Exercise 9-15: Lottery Analysis",
   "id": "b94940cc847476e9"
  },
  {
   "metadata": {},
   "cell_type": "code",
   "outputs": [],
   "execution_count": null,
   "source": "",
   "id": "5567136563433657"
  },
  {
   "metadata": {},
   "cell_type": "markdown",
   "source": "#### &emsp;Exercise 9-16: Python Module of the Week",
   "id": "531a230f5659cd78"
  },
  {
   "metadata": {},
   "cell_type": "code",
   "outputs": [],
   "execution_count": null,
   "source": "",
   "id": "8905ddc54ae197bb"
  },
  {
   "metadata": {},
   "cell_type": "markdown",
   "source": "### __Styling Classes__",
   "id": "f8f4a48ce62c979d"
  },
  {
   "metadata": {},
   "cell_type": "markdown",
   "source": "### __Summary__",
   "id": "76298ffe7afbc8d9"
  }
 ],
 "metadata": {
  "kernelspec": {
   "display_name": "Python 3",
   "language": "python",
   "name": "python3"
  },
  "language_info": {
   "codemirror_mode": {
    "name": "ipython",
    "version": 2
   },
   "file_extension": ".py",
   "mimetype": "text/x-python",
   "name": "python",
   "nbconvert_exporter": "python",
   "pygments_lexer": "ipython2",
   "version": "2.7.6"
  }
 },
 "nbformat": 4,
 "nbformat_minor": 5
}
