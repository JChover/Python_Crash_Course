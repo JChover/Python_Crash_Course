{
 "cells": [
  {
   "metadata": {},
   "cell_type": "markdown",
   "source": "# Chapter 9 - Classes",
   "id": "46f75804a2439b9e"
  },
  {
   "metadata": {},
   "cell_type": "code",
   "outputs": [],
   "execution_count": null,
   "source": "from IPython.display import Code",
   "id": "619f1d7ae77de294"
  },
  {
   "metadata": {},
   "cell_type": "markdown",
   "source": "### __Creating and Using a Class__",
   "id": "7d262adac55de241"
  },
  {
   "metadata": {},
   "cell_type": "markdown",
   "source": "#### &emsp;Creating the Dog Class",
   "id": "512021e318388c1e"
  },
  {
   "metadata": {},
   "cell_type": "code",
   "outputs": [],
   "execution_count": null,
   "source": [
    "# Creating the Dog Class - dog.py\n",
    "class Dog:\n",
    "    \"\"\"A simple attempt to model a dog.\"\"\"\n",
    "\n",
    "    def __init__(self, name, age):\n",
    "        \"\"\"Initialize name and age attributes.\"\"\"\n",
    "        self.name = name\n",
    "        self.age = age\n",
    "\n",
    "    def sit(self):\n",
    "        \"\"\"Simulate a dog sitting in response to a command.\"\"\"\n",
    "        print(f\"{self.name} is now sitting.\")\n",
    "\n",
    "    def roll_over(self):\n",
    "        \"\"\"Simulate rolling over in response to a command.\"\"\"\n",
    "        print(f\"{self.name} rolled over!\")"
   ],
   "id": "349253636a696371"
  },
  {
   "metadata": {},
   "cell_type": "markdown",
   "source": "#### &emsp;Making an Instance from a Class",
   "id": "aef17463a554df2b"
  },
  {
   "metadata": {},
   "cell_type": "code",
   "outputs": [],
   "execution_count": null,
   "source": [
    "# Making an Instance from a Class - dog.py\n",
    "my_dog = Dog('Willie', 6)\n",
    "\n",
    "print(f\"My dog's name is {my_dog.name}.\")\n",
    "print(f\"My dog is {my_dog.age} years old.\")\n",
    "my_dog.sit()\n",
    "my_dog.roll_over()\n",
    "\n",
    "# Crating Multiple Instances - dog.py\n",
    "my_dog = Dog('Willie', 6)\n",
    "your_dog = Dog('Lucy', 3)\n",
    "\n",
    "print(f\"My dog's name is {my_dog.name}.\")\n",
    "print(f\"My dog is {my_dog.age} years old.\")\n",
    "my_dog.sit()\n",
    "\n",
    "print(f\"\\nYour dog's name is {your_dog.name}.\")\n",
    "print(f\"Your dog is {your_dog.age} years old.\")\n",
    "your_dog.sit()"
   ],
   "id": "241ecb39aabbbc16"
  },
  {
   "metadata": {},
   "cell_type": "markdown",
   "source": "#### &emsp;Exercise 9-1: Restaurant",
   "id": "6347712aedceb67e"
  },
  {
   "metadata": {
    "ExecuteTime": {
     "end_time": "2025-02-16T18:25:39.152620Z",
     "start_time": "2025-02-16T18:25:39.147882Z"
    }
   },
   "cell_type": "code",
   "source": [
    "# 9-1 Restaurant\n",
    "class Restaurant:\n",
    "    def __init__(self, restaurant_name, cuisine_type):\n",
    "        self.restaurant_name = restaurant_name\n",
    "        self.cuisine_type = cuisine_type\n",
    "\n",
    "    def describe_restaurant(self):\n",
    "        print(f\"The {self.restaurant_name} serves {self.cuisine_type}.\")\n",
    "\n",
    "    def open_restaurant(self):\n",
    "        print(f\"{self.restaurant_name} is now open!\")\n",
    "\n",
    "# Creating an instance of the Restaurant class\n",
    "my_restaurant = Restaurant('The Great Wall', 'Chinese cuisine')\n",
    "# Calling methods on the my_restaurant instance\n",
    "my_restaurant.describe_restaurant()\n",
    "my_restaurant.open_restaurant()\n"
   ],
   "id": "c3dad1253036ef32",
   "outputs": [
    {
     "name": "stdout",
     "output_type": "stream",
     "text": [
      "The The Great Wall serves Chinese cuisine.\n",
      "The Great Wall is now open!\n"
     ]
    }
   ],
   "execution_count": 2
  },
  {
   "metadata": {},
   "cell_type": "markdown",
   "source": "#### &emsp;Exercise 9-2: Three Restaurants",
   "id": "6e77d901bfdea78e"
  },
  {
   "metadata": {
    "ExecuteTime": {
     "end_time": "2025-02-16T18:28:31.620762Z",
     "start_time": "2025-02-16T18:28:31.614868Z"
    }
   },
   "cell_type": "code",
   "source": [
    "# 9-2 Three Restaurants\n",
    "class Restaurant:\n",
    "    def __init__(self, restaurant_name, cuisine_type):\n",
    "        self.restaurant_name = restaurant_name\n",
    "        self.cuisine_type = cuisine_type\n",
    "\n",
    "    def describe_restaurant(self):\n",
    "        print(f\"The {self.restaurant_name} serves {self.cuisine_type}.\")\n",
    "\n",
    "    def open_restaurant(self):\n",
    "        print(f\"{self.restaurant_name} is now open!\")\n",
    "\n",
    "# Creating three different instances from the class Restaurant\n",
    "restaurant1 = Restaurant('Sushi Place', 'Japanese food')\n",
    "restaurant2 = Restaurant('Pizza Hut', 'Italian food')\n",
    "restaurant3 = Restaurant('Taco Bell', 'Mexican food')\n",
    "\n",
    "# Calling the method describe_restaurant() for each instance to display their details.\n",
    "restaurant1.describe_restaurant()\n",
    "restaurant2.describe_restaurant()\n",
    "restaurant3.describe_restaurant()\n"
   ],
   "id": "855313ec382ca2eb",
   "outputs": [
    {
     "name": "stdout",
     "output_type": "stream",
     "text": [
      "The Sushi Place serves Japanese food.\n",
      "The Pizza Hut serves Italian food.\n",
      "The Taco Bell serves Mexican food.\n"
     ]
    }
   ],
   "execution_count": 4
  },
  {
   "metadata": {},
   "cell_type": "markdown",
   "source": "#### &emsp;Exercise 9-3: Users",
   "id": "2444f3cbb2343d2a"
  },
  {
   "metadata": {},
   "cell_type": "code",
   "outputs": [],
   "execution_count": null,
   "source": [
    "# 9-3 Users\n",
    "class User:\n",
    "    def __init__(self, first_name, last_name, age, email):\n",
    "        self.first_name = first_name\n",
    "        self.last_name = last_name\n",
    "        self.age = age\n",
    "        self.email = email\n",
    "\n",
    "    def describe_user(self):\n",
    "        print(f\"User Information:\\nName: {self.first_name} {self.last_name}\\nAge: {self.age}\\nEmail: {self.email}\")\n",
    "\n",
    "    def greet_user(self):\n",
    "        print(f\"Hello, {self.first_name}! Welcome back.\")\n",
    "\n",
    "# Create several instances of the User class\n",
    "user1 = User('John', 'Doe', 30, 'john.doe@example.com')\n",
    "user2 = User('Jane', 'Smith', 25, 'jane.smith@example.com')\n",
    "user3 = User('Alice', 'Johnson', 40, 'alice.johnson@example.com')\n",
    "\n",
    "# Call both methods for each user\n",
    "user1.describe_user()\n",
    "user1.greet_user()\n",
    "\n",
    "print()  # For better readability\n",
    "\n",
    "user2.describe_user()\n",
    "user2.greet_user()\n",
    "\n",
    "print()  # For better readability\n",
    "\n",
    "user3.describe_user()\n",
    "user3.greet_user()\n"
   ],
   "id": "73152348d2ec9dff"
  },
  {
   "metadata": {},
   "cell_type": "markdown",
   "source": "### __Working With Classes and Instances__",
   "id": "5314032595b9b457"
  },
  {
   "metadata": {},
   "cell_type": "markdown",
   "source": "#### &emsp;The Car Class",
   "id": "e3925a125f0540a5"
  },
  {
   "metadata": {},
   "cell_type": "code",
   "outputs": [],
   "execution_count": null,
   "source": [
    "# The Car Class - car.py\n",
    "class Car:\n",
    "    \"\"\"A simple attempt to represent a car.\"\"\"\n",
    "\n",
    "    def __init__(self, make, model, year):\n",
    "        \"\"\"Initialize attributes to describe a car.\"\"\"\n",
    "        self.make = make\n",
    "        self.model = model\n",
    "        self.year = year\n",
    "\n",
    "    def get_descriptive_name(self):\n",
    "        \"\"\"Return a neatly formatted descriptive name.\"\"\"\n",
    "        long_name = f\"{self.year} {self.make} {self.model}\"\n",
    "        return long_name.title()\n",
    "\n",
    "my_new_car = Car('audi', 'a4', 2019)\n",
    "print(my_new_car.get_descriptive_name())\n"
   ],
   "id": "86269b895d7fe46f"
  },
  {
   "metadata": {},
   "cell_type": "markdown",
   "source": "#### &emsp;Setting a Default Value for an Attribute",
   "id": "dfd451e2bdeff003"
  },
  {
   "metadata": {},
   "cell_type": "code",
   "outputs": [],
   "execution_count": null,
   "source": [
    "# Setting a Default Value for an Attribute - car.py\n",
    "class Car:\n",
    "    \"\"\"A simple attempt to represent a car.\"\"\"\n",
    "\n",
    "    def __init__(self, make, model, year):\n",
    "        \"\"\"Initialize attributes to describe a car.\"\"\"\n",
    "        self.make = make\n",
    "        self.model = model\n",
    "        self.year = year\n",
    "        self.odometer_reading = 0  # Default Value set to this Attribute\n",
    "\n",
    "    def get_descriptive_name(self):\n",
    "        \"\"\"Return a neatly formatted descriptive name.\"\"\"\n",
    "        long_name = f\"{self.year} {self.make} {self.model}\"\n",
    "        return long_name.title()\n",
    "\n",
    "    def read_odometer(self):\n",
    "        \"\"\"Print a statement showing the car's mileage.\"\"\"\n",
    "        print(f\"This car has {self.odometer_reading} miles on it.\")\n",
    "\n",
    "my_new_car = Car('audi', 'a4', 2019)\n",
    "print(my_new_car.get_descriptive_name())\n",
    "my_new_car.read_odometer()\n"
   ],
   "id": "bce9cf6ba5b3a9ce"
  },
  {
   "metadata": {},
   "cell_type": "markdown",
   "source": "#### &emsp;Modifying Attribute Values",
   "id": "ce692aed34424863"
  },
  {
   "metadata": {
    "ExecuteTime": {
     "end_time": "2025-02-17T10:14:40.495844Z",
     "start_time": "2025-02-17T10:14:40.488676Z"
    }
   },
   "cell_type": "code",
   "source": [
    "# W1 Modifying an Attribute’s Value Directly - car.py\n",
    "class Car:\n",
    "    \"\"\"A simple attempt to represent a car.\"\"\"\n",
    "\n",
    "    def __init__(self, make, model, year):\n",
    "        \"\"\"Initialize attributes to describe a car.\"\"\"\n",
    "        self.make = make\n",
    "        self.model = model\n",
    "        self.year = year\n",
    "        self.odometer_reading = 0  # Default Value set to this Attribute\n",
    "\n",
    "    def get_descriptive_name(self):\n",
    "        \"\"\"Return a neatly formatted descriptive name.\"\"\"\n",
    "        long_name = f\"{self.year} {self.make} {self.model}\"\n",
    "        return long_name.title()\n",
    "\n",
    "    def read_odometer(self):\n",
    "        \"\"\"Print a statement showing the car's mileage.\"\"\"\n",
    "        print(f\"This car has {self.odometer_reading} miles on it.\")\n",
    "\n",
    "my_new_car = Car('audi', 'a4', 2019)\n",
    "print(my_new_car.get_descriptive_name())\n",
    "\n",
    "my_new_car.odometer_reading = 33 # Here we modify the value directly.\n",
    "my_new_car.read_odometer()"
   ],
   "id": "5188fc8e86fbd39e",
   "outputs": [
    {
     "name": "stdout",
     "output_type": "stream",
     "text": [
      "2019 Audi A4\n",
      "This car has 33 miles on it.\n"
     ]
    }
   ],
   "execution_count": 1
  },
  {
   "metadata": {
    "ExecuteTime": {
     "end_time": "2025-02-17T10:17:12.321057Z",
     "start_time": "2025-02-17T10:17:12.314951Z"
    }
   },
   "cell_type": "code",
   "source": [
    "# W2.1 Modifying an Attribute’s Value Through a Method - car.py\n",
    "class Car:\n",
    "    \"\"\"A simple attempt to represent a car.\"\"\"\n",
    "\n",
    "    def __init__(self, make, model, year):\n",
    "        \"\"\"Initialize attributes to describe a car.\"\"\"\n",
    "        self.make = make\n",
    "        self.model = model\n",
    "        self.year = year\n",
    "        self.odometer_reading = 0  # Default Value set to this Attribute\n",
    "\n",
    "    def get_descriptive_name(self):\n",
    "        \"\"\"Return a neatly formatted descriptive name.\"\"\"\n",
    "        long_name = f\"{self.year} {self.make} {self.model}\"\n",
    "        return long_name.title()\n",
    "\n",
    "    def read_odometer(self):\n",
    "        \"\"\"Print a statement showing the car's mileage.\"\"\"\n",
    "        print(f\"This car has {self.odometer_reading} miles on it.\")\n",
    "\n",
    "    def update_odometer(self, mileage):\n",
    "        \"\"\"Set the odometer reading to the given value.\"\"\"\n",
    "        self.odometer_reading = mileage\n",
    "\n",
    "my_new_car = Car('audi', 'a4', 2019)\n",
    "print(my_new_car.get_descriptive_name())\n",
    "\n",
    "my_new_car.update_odometer(33) # Here we call the method to modify the value.\n",
    "my_new_car.read_odometer()"
   ],
   "id": "c59709fe3496574c",
   "outputs": [
    {
     "name": "stdout",
     "output_type": "stream",
     "text": [
      "2019 Audi A4\n",
      "This car has 23 miles on it.\n"
     ]
    }
   ],
   "execution_count": 2
  },
  {
   "metadata": {
    "ExecuteTime": {
     "end_time": "2025-02-17T10:25:26.167833Z",
     "start_time": "2025-02-17T10:25:26.161167Z"
    }
   },
   "cell_type": "code",
   "source": [
    "# W2.2 Modifying an Attribute’s Value Through a Method - car.py\n",
    "class Car:\n",
    "    \"\"\"A simple attempt to represent a car.\"\"\"\n",
    "\n",
    "    def __init__(self, make, model, year):\n",
    "        \"\"\"Initialize attributes to describe a car.\"\"\"\n",
    "        self.make = make\n",
    "        self.model = model\n",
    "        self.year = year\n",
    "        self.odometer_reading = 0  # Default Value set to this Attribute\n",
    "\n",
    "    def get_descriptive_name(self):\n",
    "        \"\"\"Return a neatly formatted descriptive name.\"\"\"\n",
    "        long_name = f\"{self.year} {self.make} {self.model}\"\n",
    "        return long_name.title()\n",
    "\n",
    "    def read_odometer(self):\n",
    "        \"\"\"Print a statement showing the car's mileage.\"\"\"\n",
    "        print(f\"This car has {self.odometer_reading} miles on it.\")\n",
    "\n",
    "    def update_odometer(self, mileage):\n",
    "        \"\"\"\n",
    "        Set the odometer reading to the given value.\n",
    "        Reject the change if it attempts to roll the odometer back.\n",
    "        \"\"\"\n",
    "        # Extended method to include some logic!\n",
    "        if mileage >= self.odometer_reading:\n",
    "            self.odometer_reading = mileage\n",
    "        else:\n",
    "            print(\"You can't roll back an odometer!\")\n",
    "\n",
    "my_new_car = Car('audi', 'a4', 2019)\n",
    "print(my_new_car.get_descriptive_name())\n",
    "\n",
    "my_new_car.update_odometer(33) # Here we call the method to modify the value.\n",
    "my_new_car.read_odometer()\n"
   ],
   "id": "a30cf8cefc638ede",
   "outputs": [
    {
     "name": "stdout",
     "output_type": "stream",
     "text": [
      "2019 Audi A4\n",
      "This car has 30 miles on it.\n"
     ]
    }
   ],
   "execution_count": 4
  },
  {
   "metadata": {
    "ExecuteTime": {
     "end_time": "2025-02-17T10:30:23.835373Z",
     "start_time": "2025-02-17T10:30:23.828920Z"
    }
   },
   "cell_type": "code",
   "source": [
    "# W3 Incrementing an Attribute’s Value Through a Method - car.py\n",
    "class Car:\n",
    "    \"\"\"A simple attempt to represent a car.\"\"\"\n",
    "\n",
    "    def __init__(self, make, model, year):\n",
    "        \"\"\"Initialize attributes to describe a car.\"\"\"\n",
    "        self.make = make\n",
    "        self.model = model\n",
    "        self.year = year\n",
    "        self.odometer_reading = 0  # Default Value set to this Attribute\n",
    "\n",
    "    def get_descriptive_name(self):\n",
    "        \"\"\"Return a neatly formatted descriptive name.\"\"\"\n",
    "        long_name = f\"{self.year} {self.make} {self.model}\"\n",
    "        return long_name.title()\n",
    "\n",
    "    def read_odometer(self):\n",
    "        \"\"\"Print a statement showing the car's mileage.\"\"\"\n",
    "        print(f\"This car has {self.odometer_reading} miles on it.\")\n",
    "\n",
    "    def update_odometer(self, mileage):\n",
    "        \"\"\"\n",
    "        Set the odometer reading to the given value.\n",
    "        Reject the change if it attempts to roll the odometer back.\n",
    "        \"\"\"\n",
    "        # Extended method to include some logic!\n",
    "        if mileage >= self.odometer_reading:\n",
    "            self.odometer_reading = mileage\n",
    "        else:\n",
    "            print(\"You can't roll back an odometer!\")\n",
    "\n",
    "    def increment_odometer(self, miles):\n",
    "        \"\"\"Add the given amount to the odometer reading.\"\"\"\n",
    "        self.odometer_reading += miles # With this method we increment the already existing value.\n",
    "\n",
    "my_used_car = Car('subaru', 'outback', 2015)\n",
    "print(my_used_car.get_descriptive_name())\n",
    "\n",
    "my_used_car.update_odometer(23_500) # Setting the odometer to a specific mileage.\n",
    "my_used_car.read_odometer()\n",
    "\n",
    "my_used_car.increment_odometer(100) # Incrementing the odometer by a specific amount.\n",
    "my_used_car.read_odometer()\n"
   ],
   "id": "c3295138f31610a",
   "outputs": [
    {
     "name": "stdout",
     "output_type": "stream",
     "text": [
      "2015 Subaru Outback\n",
      "This car has 23500 miles on it.\n",
      "This car has 23600 miles on it.\n"
     ]
    }
   ],
   "execution_count": 5
  },
  {
   "metadata": {},
   "cell_type": "markdown",
   "source": "#### &emsp; Exercise 9-4: Number Served",
   "id": "f6f982d77362086d"
  },
  {
   "metadata": {},
   "cell_type": "code",
   "outputs": [],
   "execution_count": null,
   "source": [
    "# 9-4 Number Served\n",
    "class Restaurant:\n",
    "    def __init__(self, restaurant_name, cuisine_type):\n",
    "        self.restaurant_name = restaurant_name\n",
    "        self.cuisine_type = cuisine_type\n",
    "        self.number_served = 0\n",
    "\n",
    "    def describe_restaurant(self):\n",
    "        print(f\"The {self.restaurant_name} serves {self.cuisine_type}.\")\n",
    "\n",
    "    def open_restaurant(self):\n",
    "        print(f\"{self.restaurant_name} is now open!\")\n",
    "\n",
    "    def set_number_served(self, number):\n",
    "        self.number_served = number\n",
    "\n",
    "    def increase_number_served(self, increment):\n",
    "        self.number_served += increment\n",
    "\n",
    "# Creating an instance of the Restaurant class\n",
    "my_restaurant = Restaurant('The Great Wall', 'Chinese cuisine')\n",
    "# Calling methods on the my_restaurant instance\n",
    "my_restaurant.describe_restaurant()\n",
    "my_restaurant.open_restaurant()\n",
    "\n",
    "print(f'{my_restaurant.restaurant_name} has served {my_restaurant.number_served} customers!')\n",
    "my_restaurant.number_served = 33\n",
    "print(f'{my_restaurant.restaurant_name} has served {my_restaurant.number_served} customers!')\n",
    "my_restaurant.set_number_served(66)\n",
    "print(f'{my_restaurant.restaurant_name} has served {my_restaurant.number_served} customers!')\n",
    "my_restaurant.increase_number_served(99)\n",
    "print(f'{my_restaurant.restaurant_name} has served {my_restaurant.number_served} customers!')\n"
   ],
   "id": "6d4d90fa9f628fda"
  },
  {
   "metadata": {},
   "cell_type": "markdown",
   "source": "#### &emsp;Exercise 9-5: Login Attempts",
   "id": "ac72ec701c0eacd7"
  },
  {
   "metadata": {},
   "cell_type": "code",
   "outputs": [],
   "execution_count": null,
   "source": [
    "# 9-5 Login Attempts\n",
    "class User:\n",
    "    def __init__(self, first_name, last_name, age, email):\n",
    "        self.first_name = first_name\n",
    "        self.last_name = last_name\n",
    "        self.age = age\n",
    "        self.email = email\n",
    "        self.login_attempts = 0\n",
    "\n",
    "    def describe_user(self):\n",
    "        print(f\"User Information:\\nName: {self.first_name} {self.last_name}\\nAge: {self.age}\\nEmail: {self.email}\")\n",
    "\n",
    "    def greet_user(self):\n",
    "        print(f\"Hello, {self.first_name}! Welcome back.\")\n",
    "\n",
    "    def increment_login_attempts(self):\n",
    "        self.login_attempts += 1\n",
    "\n",
    "    def reset_login_attempts(self):\n",
    "        self.login_attempts = 0\n",
    "\n",
    "# Create several instances of the User class\n",
    "user1 = User('John', 'Doe', 30, 'john.doe@example.com')\n",
    "\n",
    "# Call both methods for each user\n",
    "user1.describe_user()\n",
    "user1.greet_user()\n",
    "\n",
    "print(f'Login Attempts: {user1.login_attempts}') # Show current login attempts, which is 0.\n",
    "user1.increment_login_attempts() # Increment Attempts to 1\n",
    "print(f'Login Attempts: {user1.login_attempts}') # Show current login attempts, which is 1.\n",
    "user1.increment_login_attempts() # Increment Attempts to 2\n",
    "print(f'Login Attempts: {user1.login_attempts}') # Show current login attempts, which is 2.\n",
    "user1.increment_login_attempts() # Increment Attempts to 3\n",
    "print(f'Login Attempts: {user1.login_attempts}') # Show current login attempts, which is 3.\n",
    "user1.reset_login_attempts() # Resets Login Attempts to 0\n",
    "print(f'Login Attempts: {user1.login_attempts}') # Show current login attempts, which is 0.\n"
   ],
   "id": "e713943decc3a32c"
  },
  {
   "metadata": {},
   "cell_type": "markdown",
   "source": "### __Inheritance__",
   "id": "da48bfd18dc379a1"
  },
  {
   "metadata": {},
   "cell_type": "markdown",
   "source": "#### &emsp;The __init__() Method for a Child Class",
   "id": "5f8982929c250d64"
  },
  {
   "metadata": {},
   "cell_type": "code",
   "outputs": [],
   "execution_count": null,
   "source": [
    "# The __init__() Method for a Child Class - electric_car.py\n",
    "class Car:\n",
    "    # This is the Car Class from car.py that we will use as Parent to create our Child Class\n",
    "    def __init__(self, make, model, year):\n",
    "        self.make = make\n",
    "        self.model = model\n",
    "        self.year = year\n",
    "        self.odometer_reading = 0\n",
    "\n",
    "    def get_descriptive_name(self):\n",
    "        long_name = f\"{self.year} {self.make} {self.model}\"\n",
    "        return long_name.title()\n",
    "\n",
    "    def read_odometer(self):\n",
    "        print(f\"This car has {self.odometer_reading} miles on it.\")\n",
    "\n",
    "    def update_odometer(self, mileage):\n",
    "        if mileage >= self.odometer_reading:\n",
    "            self.odometer_reading = mileage\n",
    "        else:\n",
    "            print(\"You can't roll back an odometer!\")\n",
    "\n",
    "    def increment_odometer(self, miles):\n",
    "        self.odometer_reading += miles\n",
    "\n",
    "class ElectricCar(Car):\n",
    "    \"\"\"Represent aspects of a car, specific to electric vehicles.\"\"\"\n",
    "\n",
    "    def __init__(self, make, model, year):\n",
    "        super().__init__(make, model, year)\n",
    "\n",
    "my_tesla = ElectricCar('tesla', 'model s', 2019)\n",
    "print(my_tesla.get_descriptive_name())\n"
   ],
   "id": "da0650f573649b99"
  },
  {
   "metadata": {},
   "cell_type": "markdown",
   "source": "#### &emsp;Defining Attributes and Methods for the Child Class",
   "id": "d6a12f91da6ec04f"
  },
  {
   "metadata": {},
   "cell_type": "code",
   "outputs": [],
   "execution_count": null,
   "source": [
    "# Defining Attributes and Methods for the Child Class - electric_car.py\n",
    "class ElectricCar(Car):\n",
    "    \"\"\"Represent aspects of a car, specific to electric vehicles.\"\"\"\n",
    "\n",
    "    def __init__(self, make, model, year):\n",
    "        \"\"\"\n",
    "        Initialize attributes of the parent class.\n",
    "        Then initialize attributes specific to an electric car.\n",
    "        \"\"\"\n",
    "        super().__init__(make, model, year)\n",
    "        self.battery_size = 75 # Specific attribute of Electric Cars\n",
    "\n",
    "    def describe_battery(self): # Specific method of Electric Cars\n",
    "        \"\"\"Print a statement describing the battery size.\"\"\"\n",
    "        print(f\"This car has a {self.battery_size}-kWh battery.\")\n",
    "\n",
    "my_tesla = ElectricCar('tesla', 'model s', 2019)\n",
    "print(my_tesla.get_descriptive_name())\n",
    "my_tesla.describe_battery()"
   ],
   "id": "506f09db3d33c75b"
  },
  {
   "metadata": {},
   "cell_type": "markdown",
   "source": "#### &emsp;Overriding Methods from the Parent Class",
   "id": "c610c8bc1ceeb76b"
  },
  {
   "metadata": {},
   "cell_type": "code",
   "outputs": [],
   "execution_count": null,
   "source": [
    "# Overriding Methods from the Parent Class - electric_car.py\n",
    "class Car:\n",
    "    # This is the Car Class from car.py that we will use as Parent to create our Child Class\n",
    "    def __init__(self, make, model, year):\n",
    "        self.make = make\n",
    "        self.model = model\n",
    "        self.year = year\n",
    "        self.odometer_reading = 0\n",
    "\n",
    "    def get_descriptive_name(self):\n",
    "        long_name = f\"{self.year} {self.make} {self.model}\"\n",
    "        return long_name.title()\n",
    "\n",
    "    def read_odometer(self):\n",
    "        print(f\"This car has {self.odometer_reading} miles on it.\")\n",
    "\n",
    "    def update_odometer(self, mileage):\n",
    "        if mileage >= self.odometer_reading:\n",
    "            self.odometer_reading = mileage\n",
    "        else:\n",
    "            print(\"You can't roll back an odometer!\")\n",
    "\n",
    "    def increment_odometer(self, miles):\n",
    "        self.odometer_reading += miles\n",
    "\n",
    "    def fill_gas_tank(self): # New method to fill tanks in regular cars.\n",
    "        \"\"\"Regular Cars have gas tanks.\"\"\"\n",
    "        print(f'{self.get_descriptive_name(self)} gas tank is filled!')\n",
    "\n",
    "class ElectricCar(Car):\n",
    "    \"\"\"Represent aspects of a car, specific to electric vehicles.\"\"\"\n",
    "\n",
    "    def __init__(self, make, model, year):\n",
    "        super().__init__(make, model, year)\n",
    "\n",
    "    def fill_gas_tank(self): # This method will override the same method name from cars.\n",
    "        \"\"\"Electric cars don't have gas tanks.\"\"\"\n",
    "        print(\"This car doesn't need a gas tank!\")\n",
    "\n",
    "my_tesla = ElectricCar('tesla', 'model s', 2019)\n",
    "print(my_tesla.get_descriptive_name())\n",
    "my_tesla.fill_gas_tank()\n"
   ],
   "id": "62a59e4a74fa8e2d"
  },
  {
   "metadata": {},
   "cell_type": "markdown",
   "source": "#### &emsp;Instances as Attributes",
   "id": "46a7f663fc5e508b"
  },
  {
   "metadata": {
    "ExecuteTime": {
     "end_time": "2025-02-19T15:13:20.267978Z",
     "start_time": "2025-02-19T15:13:20.256089Z"
    }
   },
   "cell_type": "code",
   "source": [
    "# Instances as Attributes - electric_car.py\n",
    "class Car:\n",
    "    # This is the Car Class from car.py that we will use as Parent to create our Child Class\n",
    "    def __init__(self, make, model, year):\n",
    "        self.make = make\n",
    "        self.model = model\n",
    "        self.year = year\n",
    "        self.odometer_reading = 0\n",
    "\n",
    "    def get_descriptive_name(self):\n",
    "        long_name = f\"{self.year} {self.make} {self.model}\"\n",
    "        return long_name.title()\n",
    "\n",
    "    def read_odometer(self):\n",
    "        print(f\"This car has {self.odometer_reading} miles on it.\")\n",
    "\n",
    "    def update_odometer(self, mileage):\n",
    "        if mileage >= self.odometer_reading:\n",
    "            self.odometer_reading = mileage\n",
    "        else:\n",
    "            print(\"You can't roll back an odometer!\")\n",
    "\n",
    "    def increment_odometer(self, miles):\n",
    "        self.odometer_reading += miles\n",
    "\n",
    "    def fill_gas_tank(self): # New method to fill tanks in regular cars.\n",
    "        \"\"\"Regular Cars have gas tanks.\"\"\"\n",
    "        print(f'{self.get_descriptive_name(self)} gas tank is filled!')\n",
    "\n",
    "class Battery:\n",
    "        \"\"\"A simple attempt to model a battery for an electric car.\"\"\"\n",
    "\n",
    "        def __init__(self, battery_size=75):\n",
    "            \"\"\"Initialize the battery's attributes.\"\"\"\n",
    "            self.battery_size = battery_size\n",
    "\n",
    "        def describe_battery(self):\n",
    "            \"\"\"Print a statement describing the battery size.\"\"\"\n",
    "            print(f\"This car has a {self.battery_size}-kWh battery.\")\n",
    "\n",
    "        def get_range(self):\n",
    "            \"\"\"Print a statement about the range this battery provides.\"\"\"\n",
    "            if self.battery_size == 75:\n",
    "                range = 260\n",
    "            elif self.battery_size == 100:\n",
    "                range = 315\n",
    "\n",
    "            print(f\"This car can go about {range} miles on a full charge.\")\n",
    "\n",
    "class ElectricCar(Car):\n",
    "    \"\"\"Represent aspects of a car, specific to electric vehicles.\"\"\"\n",
    "\n",
    "    def __init__(self, make, model, year):\n",
    "        super().__init__(make, model, year)\n",
    "        self.battery = Battery()\n",
    "\n",
    "    def fill_gas_tank(self): # This method will override the same method name from cars.\n",
    "        \"\"\"Electric cars don't have gas tanks.\"\"\"\n",
    "        print(\"This car doesn't need a gas tank!\")\n",
    "\n",
    "my_tesla = ElectricCar('tesla', 'model s', 2019)\n",
    "print(my_tesla.get_descriptive_name())\n",
    "my_tesla.battery.describe_battery()\n",
    "my_tesla.battery.get_range()"
   ],
   "id": "3d2b22d9d13ff46",
   "outputs": [
    {
     "name": "stdout",
     "output_type": "stream",
     "text": [
      "2019 Tesla Model S\n",
      "This car has a 75-kWh battery.\n",
      "This car can go about 260 miles on a full charge.\n"
     ]
    }
   ],
   "execution_count": 2
  },
  {
   "metadata": {},
   "cell_type": "markdown",
   "source": "#### &emsp;Modeling Real-World Objects",
   "id": "312e4df4fa7893e2"
  },
  {
   "metadata": {},
   "cell_type": "markdown",
   "source": "#### &emsp;Exercise 9-6: Ice Cream Stand",
   "id": "424bb33b91e5aefe"
  },
  {
   "metadata": {},
   "cell_type": "code",
   "outputs": [],
   "execution_count": null,
   "source": "",
   "id": "91455843ea76ca18"
  },
  {
   "metadata": {},
   "cell_type": "markdown",
   "source": "#### &emsp;Exercise 9-7: Admin",
   "id": "b31debcbe03fe4d9"
  },
  {
   "metadata": {},
   "cell_type": "code",
   "outputs": [],
   "execution_count": null,
   "source": "",
   "id": "5ffadb33545cf184"
  },
  {
   "metadata": {},
   "cell_type": "markdown",
   "source": "#### &emsp;Exercise 9-8: Privileges",
   "id": "a40437bf335fb7dd"
  },
  {
   "metadata": {},
   "cell_type": "code",
   "outputs": [],
   "execution_count": null,
   "source": "",
   "id": "2e2b0bee5804f7c"
  },
  {
   "metadata": {},
   "cell_type": "markdown",
   "source": "#### &emsp;Exercise 9-9: Battery Upgrade",
   "id": "d5549a2b1ae14645"
  },
  {
   "metadata": {},
   "cell_type": "code",
   "outputs": [],
   "execution_count": null,
   "source": "",
   "id": "557a4d200e54d9cf"
  },
  {
   "metadata": {},
   "cell_type": "markdown",
   "source": "### __Importing Classes__",
   "id": "5a3184abb9895352"
  },
  {
   "metadata": {},
   "cell_type": "code",
   "outputs": [],
   "execution_count": null,
   "source": "",
   "id": "d1f9f64ae994894e"
  },
  {
   "metadata": {},
   "cell_type": "markdown",
   "source": "#### &emsp;Importing a Single Class",
   "id": "62bc7bf99d1d88e5"
  },
  {
   "metadata": {},
   "cell_type": "code",
   "outputs": [],
   "execution_count": null,
   "source": "",
   "id": "7ae3b660bd8f3b5d"
  },
  {
   "metadata": {},
   "cell_type": "markdown",
   "source": "#### &emsp;Storing Multiple Classes in a Module",
   "id": "59b5fbd800797348"
  },
  {
   "metadata": {},
   "cell_type": "code",
   "outputs": [],
   "execution_count": null,
   "source": "",
   "id": "1c3024976b755fff"
  },
  {
   "metadata": {},
   "cell_type": "markdown",
   "source": "#### &emsp;Importing Multiple Classes from a Module",
   "id": "75a8da99f3726fa4"
  },
  {
   "metadata": {},
   "cell_type": "code",
   "outputs": [],
   "execution_count": null,
   "source": "",
   "id": "9a64d932f98ee296"
  },
  {
   "metadata": {},
   "cell_type": "markdown",
   "source": "#### &emsp;Importing an Entire Module",
   "id": "5aa14e129a7e5104"
  },
  {
   "metadata": {},
   "cell_type": "code",
   "outputs": [],
   "execution_count": null,
   "source": "",
   "id": "6f851316fbd56599"
  },
  {
   "metadata": {},
   "cell_type": "markdown",
   "source": "#### &emsp;Importing All Classes from a Module",
   "id": "590e80772bae40ba"
  },
  {
   "metadata": {},
   "cell_type": "code",
   "outputs": [],
   "execution_count": null,
   "source": "",
   "id": "3703438912eb3af5"
  },
  {
   "metadata": {},
   "cell_type": "markdown",
   "source": "#### &emsp;Importing a Module into a Module",
   "id": "5f4dff42bac61b5b"
  },
  {
   "metadata": {},
   "cell_type": "code",
   "outputs": [],
   "execution_count": null,
   "source": "",
   "id": "474ccd71a45ae7c2"
  },
  {
   "metadata": {},
   "cell_type": "markdown",
   "source": "#### &emsp;Using Aliases",
   "id": "c0d93deba436e8c0"
  },
  {
   "metadata": {},
   "cell_type": "code",
   "outputs": [],
   "execution_count": null,
   "source": "",
   "id": "69f87ca8c51e3388"
  },
  {
   "metadata": {},
   "cell_type": "markdown",
   "source": "#### &emsp;Finding Your Own Workflow",
   "id": "550c077985bfa172"
  },
  {
   "metadata": {},
   "cell_type": "code",
   "outputs": [],
   "execution_count": null,
   "source": "",
   "id": "5e671bdabf422e9"
  },
  {
   "metadata": {},
   "cell_type": "markdown",
   "source": "#### &emsp;Exercise 9-10: Imported Restaurant",
   "id": "a36e9bb08b1eed06"
  },
  {
   "metadata": {},
   "cell_type": "code",
   "outputs": [],
   "execution_count": null,
   "source": "",
   "id": "84e7fe912854f197"
  },
  {
   "metadata": {},
   "cell_type": "markdown",
   "source": "#### &emsp;Exercise 9-11: Imported Admin",
   "id": "e08f79829c7fe985"
  },
  {
   "metadata": {},
   "cell_type": "code",
   "outputs": [],
   "execution_count": null,
   "source": "",
   "id": "e7f63e1807ad5c1e"
  },
  {
   "metadata": {},
   "cell_type": "markdown",
   "source": "#### &emsp;Exercise 9-12: Multiple Modules",
   "id": "3b8d8cf3f4e38c8"
  },
  {
   "metadata": {},
   "cell_type": "code",
   "outputs": [],
   "execution_count": null,
   "source": "",
   "id": "29cb2b8ed55b1cfc"
  },
  {
   "metadata": {},
   "cell_type": "markdown",
   "source": "### __The Python Standard Library__",
   "id": "22478d9e85d5c97c"
  },
  {
   "metadata": {},
   "cell_type": "code",
   "outputs": [],
   "execution_count": null,
   "source": "",
   "id": "257a4eb5696c3e61"
  },
  {
   "metadata": {},
   "cell_type": "markdown",
   "source": "#### &emsp;Exercise 9-13: Dice",
   "id": "8eb7d54191c70b68"
  },
  {
   "metadata": {},
   "cell_type": "code",
   "outputs": [],
   "execution_count": null,
   "source": "",
   "id": "e6bccaec44ace81a"
  },
  {
   "metadata": {},
   "cell_type": "markdown",
   "source": "#### &emsp;Exercise 9-14: Lottery",
   "id": "6afe667bd5ebd17f"
  },
  {
   "metadata": {},
   "cell_type": "code",
   "outputs": [],
   "execution_count": null,
   "source": "",
   "id": "dd16a8ac996d806d"
  },
  {
   "metadata": {},
   "cell_type": "markdown",
   "source": "#### &emsp;Exercise 9-15: Lottery Analysis",
   "id": "b94940cc847476e9"
  },
  {
   "metadata": {},
   "cell_type": "code",
   "outputs": [],
   "execution_count": null,
   "source": "",
   "id": "5567136563433657"
  },
  {
   "metadata": {},
   "cell_type": "markdown",
   "source": "#### &emsp;Exercise 9-16: Python Module of the Week",
   "id": "531a230f5659cd78"
  },
  {
   "metadata": {},
   "cell_type": "code",
   "outputs": [],
   "execution_count": null,
   "source": "",
   "id": "8905ddc54ae197bb"
  },
  {
   "metadata": {},
   "cell_type": "markdown",
   "source": "### __Styling Classes__",
   "id": "f8f4a48ce62c979d"
  },
  {
   "metadata": {},
   "cell_type": "markdown",
   "source": "### __Summary__",
   "id": "76298ffe7afbc8d9"
  }
 ],
 "metadata": {
  "kernelspec": {
   "display_name": "Python 3",
   "language": "python",
   "name": "python3"
  },
  "language_info": {
   "codemirror_mode": {
    "name": "ipython",
    "version": 2
   },
   "file_extension": ".py",
   "mimetype": "text/x-python",
   "name": "python",
   "nbconvert_exporter": "python",
   "pygments_lexer": "ipython2",
   "version": "2.7.6"
  }
 },
 "nbformat": 4,
 "nbformat_minor": 5
}
