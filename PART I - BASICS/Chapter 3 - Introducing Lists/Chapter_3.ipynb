{
 "cells": [
  {
   "metadata": {},
   "cell_type": "markdown",
   "source": "# __Chapter 3 - Introducing Lists__",
   "id": "4862b798f61e7463"
  },
  {
   "metadata": {},
   "cell_type": "markdown",
   "source": "### __What is a List?__",
   "id": "c1f3085105d8700e"
  },
  {
   "metadata": {},
   "cell_type": "markdown",
   "source": "#### &emsp;Accessing Elements in a List",
   "id": "e54859a58027b730"
  },
  {
   "metadata": {},
   "cell_type": "markdown",
   "source": "#### &emsp;Index Positions Start at 0, Not 1",
   "id": "2d681896411ce1d6"
  },
  {
   "metadata": {},
   "cell_type": "markdown",
   "source": "#### &emsp;Using Individual Values from a List",
   "id": "27ea5e082258180"
  },
  {
   "metadata": {},
   "cell_type": "markdown",
   "source": "#### &emsp;Exercise 3-1: Names ",
   "id": "4ffca8233b730051"
  },
  {
   "metadata": {},
   "cell_type": "markdown",
   "source": "#### &emsp;Exercise 3-2: Greetings",
   "id": "327e0d72882ecf28"
  },
  {
   "metadata": {},
   "cell_type": "markdown",
   "source": "#### &emsp;Exercise 3-3: Your Own List ",
   "id": "c2878b141eca0a5e"
  },
  {
   "metadata": {},
   "cell_type": "markdown",
   "source": "### __Changing, Adding, and Removing Elements__",
   "id": "4c27e37a0cbdc079"
  },
  {
   "metadata": {},
   "cell_type": "markdown",
   "source": "#### &emsp;Modifying Elements in a List",
   "id": "d4b4a71741880f59"
  },
  {
   "metadata": {},
   "cell_type": "markdown",
   "source": "#### &emsp;Adding Elements to a List",
   "id": "1fe948f136a9eeb3"
  },
  {
   "metadata": {},
   "cell_type": "markdown",
   "source": "#### &emsp;Removing Elements from a List",
   "id": "14aa150722cd1cbb"
  },
  {
   "metadata": {},
   "cell_type": "markdown",
   "source": "#### &emsp;Exercise 3-4: Guest List",
   "id": "f3957b6171dcf50e"
  },
  {
   "metadata": {},
   "cell_type": "markdown",
   "source": "#### &emsp;Exercise 3-5: Changing Guest List",
   "id": "bd072927174b4ed0"
  },
  {
   "metadata": {},
   "cell_type": "markdown",
   "source": "#### &emsp;Exercise 3-6: More Guests ",
   "id": "fe0fdad742c1d865"
  },
  {
   "metadata": {},
   "cell_type": "markdown",
   "source": "#### &emsp;Exercise 3-7: Shrinking Guest List",
   "id": "b2eacd1095cb1a2b"
  },
  {
   "metadata": {},
   "cell_type": "markdown",
   "source": "### __Organizing a List__",
   "id": "8cb8e89575e396d9"
  },
  {
   "metadata": {},
   "cell_type": "markdown",
   "source": "#### &emsp;Sorting a List Permanently with the sort() Method",
   "id": "3c8d4c676eabf1e4"
  },
  {
   "metadata": {},
   "cell_type": "markdown",
   "source": "#### &emsp;Sorting a List Temporarily with the sorted() Function",
   "id": "5e6da437784c92d2"
  },
  {
   "metadata": {},
   "cell_type": "markdown",
   "source": "#### &emsp;Printing a List in Reverse Order",
   "id": "4c2a9e5a70a93077"
  },
  {
   "metadata": {},
   "cell_type": "markdown",
   "source": "#### &emsp;Finding the Length of a List",
   "id": "a299de44b2e82320"
  },
  {
   "metadata": {},
   "cell_type": "markdown",
   "source": "#### &emsp;Exercise 3-8: Seeing the World",
   "id": "35f12c76184558c6"
  },
  {
   "metadata": {},
   "cell_type": "markdown",
   "source": "#### &emsp;Exercise 3-9: Dinner Guests ",
   "id": "f9b87f5a4f46fb60"
  },
  {
   "metadata": {},
   "cell_type": "markdown",
   "source": "#### &emsp;Exercise 3-10: Every Function",
   "id": "84dc9ffe713f09a5"
  },
  {
   "metadata": {},
   "cell_type": "markdown",
   "source": "### __Avoiding Index Errors When Working with Lists__",
   "id": "3f7f446610d98855"
  },
  {
   "metadata": {},
   "cell_type": "markdown",
   "source": "#### &emsp;Exercise 3-11: Intentional Error",
   "id": "a8b6facdd25ad093"
  },
  {
   "metadata": {},
   "cell_type": "markdown",
   "source": "### __Summary__",
   "id": "6e68ba1ac7716a61"
  },
  {
   "metadata": {},
   "cell_type": "code",
   "outputs": [],
   "execution_count": null,
   "source": "",
   "id": "26ddc429d92f7a18"
  }
 ],
 "metadata": {
  "kernelspec": {
   "display_name": "Python 3",
   "language": "python",
   "name": "python3"
  },
  "language_info": {
   "codemirror_mode": {
    "name": "ipython",
    "version": 2
   },
   "file_extension": ".py",
   "mimetype": "text/x-python",
   "name": "python",
   "nbconvert_exporter": "python",
   "pygments_lexer": "ipython2",
   "version": "2.7.6"
  }
 },
 "nbformat": 4,
 "nbformat_minor": 5
}
