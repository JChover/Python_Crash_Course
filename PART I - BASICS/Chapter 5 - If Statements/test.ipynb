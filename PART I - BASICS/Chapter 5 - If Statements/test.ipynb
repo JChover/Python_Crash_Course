{
 "cells": [
  {
   "cell_type": "markdown",
   "id": "c9d47ab026ccdc02",
   "metadata": {},
   "source": "# This is a test"
  },
  {
   "cell_type": "code",
   "id": "9167869857b239e9",
   "metadata": {
    "ExecuteTime": {
     "end_time": "2024-06-24T15:02:11.960566Z",
     "start_time": "2024-06-24T15:02:11.958201Z"
    }
   },
   "source": [
    "print(\"Hello World\")"
   ],
   "outputs": [
    {
     "name": "stdout",
     "output_type": "stream",
     "text": [
      "Hello World\n"
     ]
    }
   ],
   "execution_count": 7
  },
  {
   "cell_type": "code",
   "id": "733146a0ca57e6ff",
   "metadata": {
    "ExecuteTime": {
     "end_time": "2024-06-24T15:02:11.968237Z",
     "start_time": "2024-06-24T15:02:11.961572Z"
    }
   },
   "source": [
    "1 + 1"
   ],
   "outputs": [
    {
     "data": {
      "text/plain": [
       "2"
      ]
     },
     "execution_count": 8,
     "metadata": {},
     "output_type": "execute_result"
    }
   ],
   "execution_count": 8
  },
  {
   "metadata": {},
   "cell_type": "markdown",
   "source": "A simple example",
   "id": "351dedf13a955284"
  },
  {
   "metadata": {
    "ExecuteTime": {
     "end_time": "2024-06-24T15:02:11.974712Z",
     "start_time": "2024-06-24T15:02:11.968237Z"
    }
   },
   "cell_type": "code",
   "source": [
    "cars = ['audi', 'bmw', 'subaru', 'toyota']\n",
    "\n",
    "for car in cars:\n",
    "    if car == 'bmw':  # If value is bmw\n",
    "        print(car.upper())  # Print  it all uppercase\n",
    "    else:\n",
    "        print(car.title())  # Else print as title"
   ],
   "id": "9ff67da594f885b8",
   "outputs": [
    {
     "name": "stdout",
     "output_type": "stream",
     "text": [
      "Audi\n",
      "BMW\n",
      "Subaru\n",
      "Toyota\n"
     ]
    }
   ],
   "execution_count": 9
  },
  {
   "metadata": {},
   "cell_type": "markdown",
   "source": "Conditional Tests",
   "id": "b5484e912fa0dc23"
  },
  {
   "metadata": {
    "ExecuteTime": {
     "end_time": "2024-06-24T15:02:11.982482Z",
     "start_time": "2024-06-24T15:02:11.974712Z"
    }
   },
   "cell_type": "code",
   "source": [
    "car = 'bmw'\n",
    "print(car == 'bmw')  # This returns TRUE"
   ],
   "id": "a8bfc19f1827edef",
   "outputs": [
    {
     "name": "stdout",
     "output_type": "stream",
     "text": [
      "True\n"
     ]
    }
   ],
   "execution_count": 10
  },
  {
   "metadata": {
    "ExecuteTime": {
     "end_time": "2024-06-24T15:02:11.989090Z",
     "start_time": "2024-06-24T15:02:11.984991Z"
    }
   },
   "cell_type": "code",
   "source": [
    "car = 'audi'\n",
    "print(car == 'bmw')  # This returns FALSE"
   ],
   "id": "59394039fe3ae5dc",
   "outputs": [
    {
     "name": "stdout",
     "output_type": "stream",
     "text": [
      "False\n"
     ]
    }
   ],
   "execution_count": 11
  },
  {
   "metadata": {
    "ExecuteTime": {
     "end_time": "2024-06-24T15:02:11.996118Z",
     "start_time": "2024-06-24T15:02:11.989090Z"
    }
   },
   "cell_type": "code",
   "source": [
    "car = 'Audi'\n",
    "print(car == 'audi')  # This returns FALSE, because its case-sensitive\n",
    "print(car.lower() == 'audi')  # This returns TRUE"
   ],
   "id": "347ca213e450ed29",
   "outputs": [
    {
     "name": "stdout",
     "output_type": "stream",
     "text": [
      "False\n",
      "True\n"
     ]
    }
   ],
   "execution_count": 12
  }
 ],
 "metadata": {
  "kernelspec": {
   "display_name": "Python 3 (ipykernel)",
   "language": "python",
   "name": "python3"
  },
  "language_info": {
   "codemirror_mode": {
    "name": "ipython",
    "version": 3
   },
   "file_extension": ".py",
   "mimetype": "text/x-python",
   "name": "python",
   "nbconvert_exporter": "python",
   "pygments_lexer": "ipython3",
   "version": "3.12.3"
  }
 },
 "nbformat": 4,
 "nbformat_minor": 5
}
