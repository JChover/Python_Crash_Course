{
 "cells": [
  {
   "cell_type": "markdown",
   "id": "c9d47ab026ccdc02",
   "metadata": {},
   "source": "# __Chapter 5 - If Statements__"
  },
  {
   "metadata": {},
   "cell_type": "markdown",
   "source": "### __A Simple Example__",
   "id": "b5484e912fa0dc23"
  },
  {
   "metadata": {
    "ExecuteTime": {
     "end_time": "2024-06-29T08:39:10.263241Z",
     "start_time": "2024-06-29T08:39:10.258221Z"
    }
   },
   "cell_type": "code",
   "source": [
    "# cars.py\n",
    "\n",
    "cars = ['audi', 'bmw', 'subaru', 'toyota']\n",
    "\n",
    "for car in cars:\n",
    "    if car == 'bmw':  # If value is bmw\n",
    "        print(car.upper())  # Print  it all uppercase\n",
    "    else:\n",
    "        print(car.title())  # Else print as title"
   ],
   "id": "ecd2cafc594196c1",
   "outputs": [
    {
     "name": "stdout",
     "output_type": "stream",
     "text": [
      "Audi\n",
      "BMW\n",
      "Subaru\n",
      "Toyota\n"
     ]
    }
   ],
   "execution_count": 1
  },
  {
   "metadata": {},
   "cell_type": "markdown",
   "source": "### __Conditionals Tests__",
   "id": "9c8fbf649bda0082"
  },
  {
   "metadata": {},
   "cell_type": "markdown",
   "source": "#### &emsp;Checking for Equality",
   "id": "66b71c06869fba69"
  },
  {
   "metadata": {
    "ExecuteTime": {
     "end_time": "2024-06-29T08:39:10.279740Z",
     "start_time": "2024-06-29T08:39:10.263241Z"
    }
   },
   "cell_type": "code",
   "source": [
    "car = 'bmw'\n",
    "car == 'bmw' # This returns TRUE"
   ],
   "id": "8da06ef3babb5557",
   "outputs": [
    {
     "data": {
      "text/plain": [
       "True"
      ]
     },
     "execution_count": 2,
     "metadata": {},
     "output_type": "execute_result"
    }
   ],
   "execution_count": 2
  },
  {
   "metadata": {
    "ExecuteTime": {
     "end_time": "2024-06-29T08:39:10.288949Z",
     "start_time": "2024-06-29T08:39:10.280744Z"
    }
   },
   "cell_type": "code",
   "source": [
    "car = 'audi'\n",
    "car == 'bmw'  # This returns FALSE"
   ],
   "id": "85f9a9da603ca0be",
   "outputs": [
    {
     "data": {
      "text/plain": [
       "False"
      ]
     },
     "execution_count": 3,
     "metadata": {},
     "output_type": "execute_result"
    }
   ],
   "execution_count": 3
  },
  {
   "metadata": {},
   "cell_type": "markdown",
   "source": "#### &emsp;Ignoring Case When Checking for Equality",
   "id": "51fe29ef116501ee"
  },
  {
   "metadata": {
    "ExecuteTime": {
     "end_time": "2024-06-29T08:39:10.295639Z",
     "start_time": "2024-06-29T08:39:10.288949Z"
    }
   },
   "cell_type": "code",
   "source": [
    "car = 'Audi'\n",
    "car == 'audi'  # This returns FALSE, because its case-sensitive"
   ],
   "id": "4f379f0c8b301bc3",
   "outputs": [
    {
     "data": {
      "text/plain": [
       "False"
      ]
     },
     "execution_count": 4,
     "metadata": {},
     "output_type": "execute_result"
    }
   ],
   "execution_count": 4
  },
  {
   "metadata": {
    "ExecuteTime": {
     "end_time": "2024-06-29T08:39:10.305065Z",
     "start_time": "2024-06-29T08:39:10.295639Z"
    }
   },
   "cell_type": "code",
   "source": [
    "car = 'Audi'\n",
    "car.lower() == 'audi'  # This returns TRUE "
   ],
   "id": "8f96bacc2fb13e94",
   "outputs": [
    {
     "data": {
      "text/plain": [
       "True"
      ]
     },
     "execution_count": 5,
     "metadata": {},
     "output_type": "execute_result"
    }
   ],
   "execution_count": 5
  },
  {
   "metadata": {
    "ExecuteTime": {
     "end_time": "2024-06-29T08:39:10.327196Z",
     "start_time": "2024-06-29T08:39:10.324071Z"
    }
   },
   "cell_type": "code",
   "source": [
    "car = 'Audi'\n",
    "car.lower() == 'audi'  # This returns TRUE \n",
    "\n",
    "car  # And does ot modify the VALUE of car"
   ],
   "id": "a70d618430160e1d",
   "outputs": [
    {
     "data": {
      "text/plain": [
       "'Audi'"
      ]
     },
     "execution_count": 6,
     "metadata": {},
     "output_type": "execute_result"
    }
   ],
   "execution_count": 6
  },
  {
   "metadata": {},
   "cell_type": "markdown",
   "source": "#### &emsp;Checking for Inequality",
   "id": "a59efae79f86edfa"
  },
  {
   "metadata": {
    "ExecuteTime": {
     "end_time": "2024-06-29T08:39:10.337902Z",
     "start_time": "2024-06-29T08:39:10.335201Z"
    }
   },
   "cell_type": "code",
   "source": [
    "# toppings.py\n",
    "requested_topping = 'mushrooms'\n",
    "\n",
    "if requested_topping != 'anchovies':\n",
    "    print('Hold the anchovies!')"
   ],
   "id": "3477294fdbf67014",
   "outputs": [
    {
     "name": "stdout",
     "output_type": "stream",
     "text": [
      "Hold the anchovies!\n"
     ]
    }
   ],
   "execution_count": 7
  },
  {
   "metadata": {},
   "cell_type": "markdown",
   "source": "#### &emsp;Numerical Comparisons",
   "id": "16293f52cea3b7ad"
  },
  {
   "metadata": {
    "ExecuteTime": {
     "end_time": "2024-06-29T08:39:10.345627Z",
     "start_time": "2024-06-29T08:39:10.339906Z"
    }
   },
   "cell_type": "code",
   "source": [
    "age = 18\n",
    "age ==18"
   ],
   "id": "b76f8c876cc4a112",
   "outputs": [
    {
     "data": {
      "text/plain": [
       "True"
      ]
     },
     "execution_count": 8,
     "metadata": {},
     "output_type": "execute_result"
    }
   ],
   "execution_count": 8
  },
  {
   "metadata": {
    "ExecuteTime": {
     "end_time": "2024-06-29T08:39:10.351987Z",
     "start_time": "2024-06-29T08:39:10.349631Z"
    }
   },
   "cell_type": "code",
   "source": [
    "#  magic_number.py\n",
    "\n",
    "answer = 17\n",
    "\n",
    "if answer != 42:\n",
    "    print(\"That is not the correct answer, please try again!\")"
   ],
   "id": "dbc0ef64202dacb8",
   "outputs": [
    {
     "name": "stdout",
     "output_type": "stream",
     "text": [
      "That is not the correct answer, please try again!\n"
     ]
    }
   ],
   "execution_count": 9
  },
  {
   "metadata": {
    "ExecuteTime": {
     "end_time": "2024-06-29T08:39:10.384996Z",
     "start_time": "2024-06-29T08:39:10.381992Z"
    }
   },
   "cell_type": "code",
   "source": [
    "age = 19\n",
    "age < 21  # This returns TRUE as 19 is LOWER than 21"
   ],
   "id": "52bc4cdc19bf585f",
   "outputs": [
    {
     "data": {
      "text/plain": [
       "True"
      ]
     },
     "execution_count": 10,
     "metadata": {},
     "output_type": "execute_result"
    }
   ],
   "execution_count": 10
  },
  {
   "metadata": {
    "ExecuteTime": {
     "end_time": "2024-06-29T08:39:10.393857Z",
     "start_time": "2024-06-29T08:39:10.391Z"
    }
   },
   "cell_type": "code",
   "source": [
    "age = 19\n",
    "age <= 21  # This returns TRUE as 19 is LOWER or EQUAL to 21"
   ],
   "id": "598e0de6e8048128",
   "outputs": [
    {
     "data": {
      "text/plain": [
       "True"
      ]
     },
     "execution_count": 11,
     "metadata": {},
     "output_type": "execute_result"
    }
   ],
   "execution_count": 11
  },
  {
   "metadata": {
    "ExecuteTime": {
     "end_time": "2024-06-29T08:39:10.400707Z",
     "start_time": "2024-06-29T08:39:10.393857Z"
    }
   },
   "cell_type": "code",
   "source": [
    "age = 19\n",
    "age > 21  # This returns FALSE as 19 is NOT HIGHER than 21"
   ],
   "id": "94d647192589ba62",
   "outputs": [
    {
     "data": {
      "text/plain": [
       "False"
      ]
     },
     "execution_count": 12,
     "metadata": {},
     "output_type": "execute_result"
    }
   ],
   "execution_count": 12
  },
  {
   "metadata": {
    "ExecuteTime": {
     "end_time": "2024-06-29T08:39:10.408068Z",
     "start_time": "2024-06-29T08:39:10.401711Z"
    }
   },
   "cell_type": "code",
   "source": [
    "age = 19\n",
    "age >= 21  # This returns FALSE as 19 is NOT HIGHER or EQUAL than 21"
   ],
   "id": "a82105cc14a28214",
   "outputs": [
    {
     "data": {
      "text/plain": [
       "False"
      ]
     },
     "execution_count": 13,
     "metadata": {},
     "output_type": "execute_result"
    }
   ],
   "execution_count": 13
  },
  {
   "metadata": {},
   "cell_type": "markdown",
   "source": "Using AND to Check Multiple Conditions",
   "id": "6266956d46636713"
  },
  {
   "metadata": {
    "ExecuteTime": {
     "end_time": "2024-06-29T08:39:10.415498Z",
     "start_time": "2024-06-29T08:39:10.408068Z"
    }
   },
   "cell_type": "code",
   "source": [
    "age_0 = 22\n",
    "age_1 = 18\n",
    "\n",
    "age_0 >= 21 and age_1 >= 21   # This is FALSE only the 1st statement is TRUE but the 2nd is FALSE"
   ],
   "id": "6814f5c80792e73e",
   "outputs": [
    {
     "data": {
      "text/plain": [
       "False"
      ]
     },
     "execution_count": 14,
     "metadata": {},
     "output_type": "execute_result"
    }
   ],
   "execution_count": 14
  },
  {
   "metadata": {
    "ExecuteTime": {
     "end_time": "2024-06-29T08:39:10.422567Z",
     "start_time": "2024-06-29T08:39:10.415498Z"
    }
   },
   "cell_type": "code",
   "source": [
    "age_0 = 22\n",
    "age_1 = 22\n",
    "\n",
    "age_0 >= 21 and age_1 >= 21   # This is TRUE as BOTH statements are TRUE"
   ],
   "id": "e99ff54d745283f1",
   "outputs": [
    {
     "data": {
      "text/plain": [
       "True"
      ]
     },
     "execution_count": 15,
     "metadata": {},
     "output_type": "execute_result"
    }
   ],
   "execution_count": 15
  },
  {
   "metadata": {
    "ExecuteTime": {
     "end_time": "2024-06-29T08:39:10.430487Z",
     "start_time": "2024-06-29T08:39:10.422567Z"
    }
   },
   "cell_type": "code",
   "source": [
    "age_0 = 22\n",
    "age_1 = 22\n",
    "\n",
    "(age_0 >= 21) and (age_1 >= 21)   # You can ADD parenthesis to improve readability"
   ],
   "id": "d89986bffe92aa2e",
   "outputs": [
    {
     "data": {
      "text/plain": [
       "True"
      ]
     },
     "execution_count": 16,
     "metadata": {},
     "output_type": "execute_result"
    }
   ],
   "execution_count": 16
  },
  {
   "metadata": {},
   "cell_type": "markdown",
   "source": "Using OR to Check Multiple Conditions",
   "id": "34570930cda8450d"
  },
  {
   "metadata": {
    "ExecuteTime": {
     "end_time": "2024-06-29T08:39:10.468296Z",
     "start_time": "2024-06-29T08:39:10.465574Z"
    }
   },
   "cell_type": "code",
   "source": [
    "age_0 = 22\n",
    "age_1 = 18\n",
    "\n",
    "age_0 >= 21 or age_1 >= 21  # In this case the first condition is achieved so the statement is TRUE"
   ],
   "id": "3136b18e4e8e60e6",
   "outputs": [
    {
     "data": {
      "text/plain": [
       "True"
      ]
     },
     "execution_count": 17,
     "metadata": {},
     "output_type": "execute_result"
    }
   ],
   "execution_count": 17
  },
  {
   "metadata": {
    "ExecuteTime": {
     "end_time": "2024-06-29T08:39:10.489132Z",
     "start_time": "2024-06-29T08:39:10.486299Z"
    }
   },
   "cell_type": "code",
   "source": [
    "age_0 = 18\n",
    "age_1 = 18\n",
    "\n",
    "age_0 >= 21 or age_1 >= 21  # In this case the NONE of condition is achieved so the statement is FALSE"
   ],
   "id": "8cfdac0441754554",
   "outputs": [
    {
     "data": {
      "text/plain": [
       "False"
      ]
     },
     "execution_count": 18,
     "metadata": {},
     "output_type": "execute_result"
    }
   ],
   "execution_count": 18
  },
  {
   "metadata": {},
   "cell_type": "markdown",
   "source": "Checking Whether a Value Is in a List",
   "id": "3b18e85c7cacc4ba"
  },
  {
   "metadata": {
    "ExecuteTime": {
     "end_time": "2024-06-29T08:39:10.499975Z",
     "start_time": "2024-06-29T08:39:10.497136Z"
    }
   },
   "cell_type": "code",
   "source": [
    "requested_toppings = ['mushrooms', 'onions', 'pineapple']\n",
    "\n",
    "'mushrooms' in requested_toppings  # It checks if the ITEM 'mushrooms' is in the LIST,and it is so the output is TRUE"
   ],
   "id": "c04e99f798734a01",
   "outputs": [
    {
     "data": {
      "text/plain": [
       "True"
      ]
     },
     "execution_count": 19,
     "metadata": {},
     "output_type": "execute_result"
    }
   ],
   "execution_count": 19
  },
  {
   "metadata": {
    "ExecuteTime": {
     "end_time": "2024-06-29T08:39:10.531433Z",
     "start_time": "2024-06-29T08:39:10.527981Z"
    }
   },
   "cell_type": "code",
   "source": [
    "requested_toppings = ['mushrooms', 'onions', 'pineapple']\n",
    "\n",
    "'pepperoni' in requested_toppings  # It checks if the ITEM 'pepperoni' is in the LIST,and it is NOT so the output is FALSE"
   ],
   "id": "4665c677d0cfcf1a",
   "outputs": [
    {
     "data": {
      "text/plain": [
       "False"
      ]
     },
     "execution_count": 20,
     "metadata": {},
     "output_type": "execute_result"
    }
   ],
   "execution_count": 20
  },
  {
   "metadata": {},
   "cell_type": "markdown",
   "source": "Checking Whether a Value Is Not in a List",
   "id": "9495bc04b273866a"
  },
  {
   "metadata": {
    "ExecuteTime": {
     "end_time": "2024-06-29T08:39:10.540215Z",
     "start_time": "2024-06-29T08:39:10.537944Z"
    }
   },
   "cell_type": "code",
   "source": [
    "# banned_users.py\n",
    "\n",
    "banned_users = ['andrew', 'carolina', 'david']\n",
    "user = 'marie'\n",
    "\n",
    "if user not in banned_users:  # This statement will check if the value of user IS NOT in the LIST\n",
    "    print(f\"{user.title()}, you can post a response if you wish.\")  "
   ],
   "id": "3857c64a8da6b3ad",
   "outputs": [
    {
     "name": "stdout",
     "output_type": "stream",
     "text": [
      "Marie, you can post a response if you wish.\n"
     ]
    }
   ],
   "execution_count": 21
  },
  {
   "metadata": {},
   "cell_type": "markdown",
   "source": "Boolean Expressions",
   "id": "18cf95a757e6bd2e"
  },
  {
   "metadata": {
    "ExecuteTime": {
     "end_time": "2024-06-29T08:39:10.550078Z",
     "start_time": "2024-06-29T08:39:10.548219Z"
    }
   },
   "cell_type": "code",
   "source": [
    "# Boolean values provide an efficient way to track the state of a program or a particular condition\n",
    "game_active = True\n",
    "can_edit = False"
   ],
   "id": "b8d615f28abc4a89",
   "outputs": [],
   "execution_count": 22
  }
 ],
 "metadata": {
  "kernelspec": {
   "display_name": "Python 3 (ipykernel)",
   "language": "python",
   "name": "python3"
  },
  "language_info": {
   "codemirror_mode": {
    "name": "ipython",
    "version": 3
   },
   "file_extension": ".py",
   "mimetype": "text/x-python",
   "name": "python",
   "nbconvert_exporter": "python",
   "pygments_lexer": "ipython3",
   "version": "3.12.3"
  }
 },
 "nbformat": 4,
 "nbformat_minor": 5
}
