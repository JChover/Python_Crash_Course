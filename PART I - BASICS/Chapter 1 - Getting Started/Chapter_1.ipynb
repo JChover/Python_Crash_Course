{
 "cells": [
  {
   "metadata": {},
   "cell_type": "markdown",
   "source": "# __Chapter 1 - Getting Started__",
   "id": "6dc7e71db980ef3a"
  },
  {
   "metadata": {},
   "cell_type": "markdown",
   "source": "### __Setting Up Your Programming Environment__",
   "id": "65f9ddfd9c01a2b"
  },
  {
   "metadata": {},
   "cell_type": "markdown",
   "source": "#### &emsp;Python Versions",
   "id": "cf487a3e67434f51"
  },
  {
   "metadata": {},
   "cell_type": "markdown",
   "source": "#### &emsp;Running Snippets of Python Code",
   "id": "95a3923894c839ed"
  },
  {
   "metadata": {},
   "cell_type": "markdown",
   "source": "#### &emsp;About the Sublime Text Editor",
   "id": "23901eb28d418a8c"
  },
  {
   "metadata": {},
   "cell_type": "markdown",
   "source": "### __Python on Different Operating Systems__",
   "id": "cfb4db86ce068fa0"
  },
  {
   "metadata": {},
   "cell_type": "markdown",
   "source": "#### &emsp;Python on Windows",
   "id": "e322591dc3ad944a"
  },
  {
   "metadata": {},
   "cell_type": "markdown",
   "source": "#### &emsp;Python on  macOS",
   "id": "7908143e7f923b00"
  },
  {
   "metadata": {},
   "cell_type": "markdown",
   "source": "#### &emsp;Python on Linux",
   "id": "8cf44987bd6252c3"
  },
  {
   "metadata": {},
   "cell_type": "markdown",
   "source": "### __Running a Hello World Program__",
   "id": "2e7949a870df040d"
  },
  {
   "metadata": {},
   "cell_type": "markdown",
   "source": "#### &emsp;Configuring Sublime Text to Use the Correct Python Version",
   "id": "2f78e7453f8fd05f"
  },
  {
   "metadata": {},
   "cell_type": "markdown",
   "source": "#### &emsp;Running hello_world.py",
   "id": "e6bbde20401f24b"
  },
  {
   "metadata": {},
   "cell_type": "markdown",
   "source": "### __Troubleshooting__",
   "id": "de16f4c388931830"
  },
  {
   "metadata": {},
   "cell_type": "markdown",
   "source": "### __Running Python Programs from a Terminal__",
   "id": "6b05561783629b6e"
  },
  {
   "metadata": {},
   "cell_type": "markdown",
   "source": "#### &emsp;On Windows",
   "id": "61fdf5ba052cf180"
  },
  {
   "metadata": {},
   "cell_type": "markdown",
   "source": "#### &emsp;On macOS and Linux",
   "id": "7cc5bd613c677e89"
  },
  {
   "metadata": {},
   "cell_type": "markdown",
   "source": "#### &emsp;Exercise 1-1: python.org ",
   "id": "fa59beea5631f1d1"
  },
  {
   "metadata": {},
   "cell_type": "markdown",
   "source": "#### &emsp;Exercise 1-2: Hello World Typos",
   "id": "3cb42193e3d01c19"
  },
  {
   "metadata": {},
   "cell_type": "markdown",
   "source": "#### &emsp;Exercise 1-3: Infinite Skills ",
   "id": "236afbc82af74c74"
  },
  {
   "metadata": {},
   "cell_type": "markdown",
   "source": "### __Summary__",
   "id": "3f9117160088f3c4"
  },
  {
   "metadata": {},
   "cell_type": "code",
   "outputs": [],
   "execution_count": null,
   "source": "",
   "id": "df6ed8854e62669"
  }
 ],
 "metadata": {
  "kernelspec": {
   "display_name": "Python 3",
   "language": "python",
   "name": "python3"
  },
  "language_info": {
   "codemirror_mode": {
    "name": "ipython",
    "version": 2
   },
   "file_extension": ".py",
   "mimetype": "text/x-python",
   "name": "python",
   "nbconvert_exporter": "python",
   "pygments_lexer": "ipython2",
   "version": "2.7.6"
  }
 },
 "nbformat": 4,
 "nbformat_minor": 5
}
