{
 "cells": [
  {
   "metadata": {},
   "cell_type": "markdown",
   "source": "# __Chapter 1 - Getting Started__",
   "id": "6dc7e71db980ef3a"
  },
  {
   "metadata": {
    "ExecuteTime": {
     "end_time": "2024-06-30T11:16:28.043708Z",
     "start_time": "2024-06-30T11:16:28.041300Z"
    }
   },
   "cell_type": "code",
   "source": "from IPython.display import Code",
   "id": "73bbbcd5cb5e68b5",
   "outputs": [],
   "execution_count": 1
  },
  {
   "metadata": {},
   "cell_type": "markdown",
   "source": "### __Setting Up Your Programming Environment__",
   "id": "65f9ddfd9c01a2b"
  },
  {
   "metadata": {},
   "cell_type": "markdown",
   "source": "#### &emsp;Python Versions",
   "id": "cf487a3e67434f51"
  },
  {
   "metadata": {},
   "cell_type": "markdown",
   "source": "#### &emsp;Running Snippets of Python Code",
   "id": "95a3923894c839ed"
  },
  {
   "metadata": {},
   "cell_type": "markdown",
   "source": "#### &emsp;About the Sublime Text Editor",
   "id": "23901eb28d418a8c"
  },
  {
   "metadata": {},
   "cell_type": "markdown",
   "source": "### __Python on Different Operating Systems__",
   "id": "cfb4db86ce068fa0"
  },
  {
   "metadata": {},
   "cell_type": "markdown",
   "source": "#### &emsp;Python on Windows",
   "id": "e322591dc3ad944a"
  },
  {
   "metadata": {},
   "cell_type": "markdown",
   "source": "#### &emsp;Python on  macOS",
   "id": "7908143e7f923b00"
  },
  {
   "metadata": {},
   "cell_type": "markdown",
   "source": "#### &emsp;Python on Linux",
   "id": "8cf44987bd6252c3"
  },
  {
   "metadata": {},
   "cell_type": "markdown",
   "source": "### __Running a Hello World Program__",
   "id": "2e7949a870df040d"
  },
  {
   "metadata": {},
   "cell_type": "markdown",
   "source": "#### &emsp;Configuring Sublime Text to Use the Correct Python Version",
   "id": "2f78e7453f8fd05f"
  },
  {
   "metadata": {},
   "cell_type": "markdown",
   "source": "#### &emsp;Running hello_world.py",
   "id": "e6bbde20401f24b"
  },
  {
   "metadata": {
    "ExecuteTime": {
     "end_time": "2024-06-30T11:16:28.072619Z",
     "start_time": "2024-06-30T11:16:28.043708Z"
    }
   },
   "cell_type": "code",
   "source": "Code(filename='Files/hello_world.py', language='python')",
   "id": "13ea81e58385dc98",
   "outputs": [
    {
     "data": {
      "text/plain": [
       "print(\"Hello Python World!\")"
      ],
      "text/html": [
       "<style>pre { line-height: 125%; }\n",
       "td.linenos .normal { color: inherit; background-color: transparent; padding-left: 5px; padding-right: 5px; }\n",
       "span.linenos { color: inherit; background-color: transparent; padding-left: 5px; padding-right: 5px; }\n",
       "td.linenos .special { color: #000000; background-color: #ffffc0; padding-left: 5px; padding-right: 5px; }\n",
       "span.linenos.special { color: #000000; background-color: #ffffc0; padding-left: 5px; padding-right: 5px; }\n",
       ".output_html .hll { background-color: #ffffcc }\n",
       ".output_html { background: #f8f8f8; }\n",
       ".output_html .c { color: #3D7B7B; font-style: italic } /* Comment */\n",
       ".output_html .err { border: 1px solid #FF0000 } /* Error */\n",
       ".output_html .k { color: #008000; font-weight: bold } /* Keyword */\n",
       ".output_html .o { color: #666666 } /* Operator */\n",
       ".output_html .ch { color: #3D7B7B; font-style: italic } /* Comment.Hashbang */\n",
       ".output_html .cm { color: #3D7B7B; font-style: italic } /* Comment.Multiline */\n",
       ".output_html .cp { color: #9C6500 } /* Comment.Preproc */\n",
       ".output_html .cpf { color: #3D7B7B; font-style: italic } /* Comment.PreprocFile */\n",
       ".output_html .c1 { color: #3D7B7B; font-style: italic } /* Comment.Single */\n",
       ".output_html .cs { color: #3D7B7B; font-style: italic } /* Comment.Special */\n",
       ".output_html .gd { color: #A00000 } /* Generic.Deleted */\n",
       ".output_html .ge { font-style: italic } /* Generic.Emph */\n",
       ".output_html .ges { font-weight: bold; font-style: italic } /* Generic.EmphStrong */\n",
       ".output_html .gr { color: #E40000 } /* Generic.Error */\n",
       ".output_html .gh { color: #000080; font-weight: bold } /* Generic.Heading */\n",
       ".output_html .gi { color: #008400 } /* Generic.Inserted */\n",
       ".output_html .go { color: #717171 } /* Generic.Output */\n",
       ".output_html .gp { color: #000080; font-weight: bold } /* Generic.Prompt */\n",
       ".output_html .gs { font-weight: bold } /* Generic.Strong */\n",
       ".output_html .gu { color: #800080; font-weight: bold } /* Generic.Subheading */\n",
       ".output_html .gt { color: #0044DD } /* Generic.Traceback */\n",
       ".output_html .kc { color: #008000; font-weight: bold } /* Keyword.Constant */\n",
       ".output_html .kd { color: #008000; font-weight: bold } /* Keyword.Declaration */\n",
       ".output_html .kn { color: #008000; font-weight: bold } /* Keyword.Namespace */\n",
       ".output_html .kp { color: #008000 } /* Keyword.Pseudo */\n",
       ".output_html .kr { color: #008000; font-weight: bold } /* Keyword.Reserved */\n",
       ".output_html .kt { color: #B00040 } /* Keyword.Type */\n",
       ".output_html .m { color: #666666 } /* Literal.Number */\n",
       ".output_html .s { color: #BA2121 } /* Literal.String */\n",
       ".output_html .na { color: #687822 } /* Name.Attribute */\n",
       ".output_html .nb { color: #008000 } /* Name.Builtin */\n",
       ".output_html .nc { color: #0000FF; font-weight: bold } /* Name.Class */\n",
       ".output_html .no { color: #880000 } /* Name.Constant */\n",
       ".output_html .nd { color: #AA22FF } /* Name.Decorator */\n",
       ".output_html .ni { color: #717171; font-weight: bold } /* Name.Entity */\n",
       ".output_html .ne { color: #CB3F38; font-weight: bold } /* Name.Exception */\n",
       ".output_html .nf { color: #0000FF } /* Name.Function */\n",
       ".output_html .nl { color: #767600 } /* Name.Label */\n",
       ".output_html .nn { color: #0000FF; font-weight: bold } /* Name.Namespace */\n",
       ".output_html .nt { color: #008000; font-weight: bold } /* Name.Tag */\n",
       ".output_html .nv { color: #19177C } /* Name.Variable */\n",
       ".output_html .ow { color: #AA22FF; font-weight: bold } /* Operator.Word */\n",
       ".output_html .w { color: #bbbbbb } /* Text.Whitespace */\n",
       ".output_html .mb { color: #666666 } /* Literal.Number.Bin */\n",
       ".output_html .mf { color: #666666 } /* Literal.Number.Float */\n",
       ".output_html .mh { color: #666666 } /* Literal.Number.Hex */\n",
       ".output_html .mi { color: #666666 } /* Literal.Number.Integer */\n",
       ".output_html .mo { color: #666666 } /* Literal.Number.Oct */\n",
       ".output_html .sa { color: #BA2121 } /* Literal.String.Affix */\n",
       ".output_html .sb { color: #BA2121 } /* Literal.String.Backtick */\n",
       ".output_html .sc { color: #BA2121 } /* Literal.String.Char */\n",
       ".output_html .dl { color: #BA2121 } /* Literal.String.Delimiter */\n",
       ".output_html .sd { color: #BA2121; font-style: italic } /* Literal.String.Doc */\n",
       ".output_html .s2 { color: #BA2121 } /* Literal.String.Double */\n",
       ".output_html .se { color: #AA5D1F; font-weight: bold } /* Literal.String.Escape */\n",
       ".output_html .sh { color: #BA2121 } /* Literal.String.Heredoc */\n",
       ".output_html .si { color: #A45A77; font-weight: bold } /* Literal.String.Interpol */\n",
       ".output_html .sx { color: #008000 } /* Literal.String.Other */\n",
       ".output_html .sr { color: #A45A77 } /* Literal.String.Regex */\n",
       ".output_html .s1 { color: #BA2121 } /* Literal.String.Single */\n",
       ".output_html .ss { color: #19177C } /* Literal.String.Symbol */\n",
       ".output_html .bp { color: #008000 } /* Name.Builtin.Pseudo */\n",
       ".output_html .fm { color: #0000FF } /* Name.Function.Magic */\n",
       ".output_html .vc { color: #19177C } /* Name.Variable.Class */\n",
       ".output_html .vg { color: #19177C } /* Name.Variable.Global */\n",
       ".output_html .vi { color: #19177C } /* Name.Variable.Instance */\n",
       ".output_html .vm { color: #19177C } /* Name.Variable.Magic */\n",
       ".output_html .il { color: #666666 } /* Literal.Number.Integer.Long */</style><div class=\"highlight\"><pre><span></span><span class=\"nb\">print</span><span class=\"p\">(</span><span class=\"s2\">&quot;Hello Python World!&quot;</span><span class=\"p\">)</span>\n",
       "</pre></div>\n"
      ],
      "text/latex": "\\begin{Verbatim}[commandchars=\\\\\\{\\}]\n\\PY{n+nb}{print}\\PY{p}{(}\\PY{l+s+s2}{\\PYZdq{}}\\PY{l+s+s2}{Hello Python World!}\\PY{l+s+s2}{\\PYZdq{}}\\PY{p}{)}\n\\end{Verbatim}\n"
     },
     "execution_count": 2,
     "metadata": {},
     "output_type": "execute_result"
    }
   ],
   "execution_count": 2
  },
  {
   "metadata": {},
   "cell_type": "markdown",
   "source": "### __Troubleshooting__",
   "id": "de16f4c388931830"
  },
  {
   "metadata": {},
   "cell_type": "markdown",
   "source": "### __Running Python Programs from a Terminal__",
   "id": "6b05561783629b6e"
  },
  {
   "metadata": {},
   "cell_type": "markdown",
   "source": "#### &emsp;On Windows",
   "id": "61fdf5ba052cf180"
  },
  {
   "metadata": {},
   "cell_type": "markdown",
   "source": "#### &emsp;On macOS and Linux",
   "id": "7cc5bd613c677e89"
  },
  {
   "metadata": {},
   "cell_type": "markdown",
   "source": "#### &emsp;Exercise 1-1: python.org ",
   "id": "fa59beea5631f1d1"
  },
  {
   "metadata": {},
   "cell_type": "markdown",
   "source": "#### &emsp;Exercise 1-2: Hello World Typos",
   "id": "3cb42193e3d01c19"
  },
  {
   "metadata": {},
   "cell_type": "markdown",
   "source": "#### &emsp;Exercise 1-3: Infinite Skills ",
   "id": "236afbc82af74c74"
  },
  {
   "metadata": {},
   "cell_type": "markdown",
   "source": "### __Summary__",
   "id": "3f9117160088f3c4"
  }
 ],
 "metadata": {
  "kernelspec": {
   "display_name": "Python 3",
   "language": "python",
   "name": "python3"
  },
  "language_info": {
   "codemirror_mode": {
    "name": "ipython",
    "version": 2
   },
   "file_extension": ".py",
   "mimetype": "text/x-python",
   "name": "python",
   "nbconvert_exporter": "python",
   "pygments_lexer": "ipython2",
   "version": "2.7.6"
  }
 },
 "nbformat": 4,
 "nbformat_minor": 5
}
