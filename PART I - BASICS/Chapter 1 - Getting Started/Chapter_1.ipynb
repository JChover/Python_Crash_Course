{
 "cells": [
  {
   "metadata": {},
   "cell_type": "markdown",
   "source": [
    "<summary><b>Chapter 1 - Getting Started</b> ✔️</summary>\n",
    "  \n",
    "  - [x] <b>Setting Up Your Programming Environment</b>\n",
    "    - [x] Python Versions\n",
    "    - [x] Running Snippets of Python Code \n",
    "    - [x] About the Sublime Text Editor \n",
    "  - [x] <b>Python on Different Operating Systems</b>\n",
    "    - [x] Python on Windows \n",
    "    - [x] Python on macOS \n",
    "    - [x] Python on Linux \n",
    "  - [x] <b>Running a Hello World Program</b>\n",
    "    - [x] Configuring Sublime Text to Use the Correct Python Version\n",
    "    - [x] Running hello_world.py \n",
    "  - [x] <b>Troubleshooting</b> \n",
    "  - [x] <b>Running Python Programs from a Terminal</b>\n",
    "    - [x] On Windows \n",
    "    - [x] On macOS and Linux \n",
    "    - [x] Exercise 1-1: python.org \n",
    "    - [x] Exercise 1-2: Hello World Typos \n",
    "    - [x] Exercise 1-3: Infinite Skills \n",
    "  - [x] <b>Summary</b>"
   ],
   "id": "f6e8b41059606036"
  },
  {
   "metadata": {
    "ExecuteTime": {
     "end_time": "2024-06-26T13:11:16.799541Z",
     "start_time": "2024-06-26T13:11:16.795006Z"
    }
   },
   "cell_type": "code",
   "source": [
    "# hello_world.py\n",
    "print(\"Hello Python World!\")"
   ],
   "id": "d94cc794d629d9dd",
   "outputs": [
    {
     "name": "stdout",
     "output_type": "stream",
     "text": [
      "Hello Python World!\n"
     ]
    }
   ],
   "execution_count": 4
  },
  {
   "metadata": {},
   "cell_type": "markdown",
   "source": "",
   "id": "40d8ef935883660d"
  }
 ],
 "metadata": {
  "kernelspec": {
   "display_name": "Python 3",
   "language": "python",
   "name": "python3"
  },
  "language_info": {
   "codemirror_mode": {
    "name": "ipython",
    "version": 2
   },
   "file_extension": ".py",
   "mimetype": "text/x-python",
   "name": "python",
   "nbconvert_exporter": "python",
   "pygments_lexer": "ipython2",
   "version": "2.7.6"
  }
 },
 "nbformat": 4,
 "nbformat_minor": 5
}
