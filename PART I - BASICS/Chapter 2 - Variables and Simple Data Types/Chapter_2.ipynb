{
 "cells": [
  {
   "metadata": {},
   "cell_type": "markdown",
   "source": [
    "Chapter 2 - Variables and Simple Data Types\n",
    "\n",
    "  - [x] <b>What Really Happens When You Run hello_world.py</b> \n",
    "  - [x] <b>Variables</b> \n",
    "    - [x] Naming and Using Variables \n",
    "    - [x] Avoiding Name Errors When Using Variables \n",
    "    - [x] Variables Are Labels \n",
    "    - [x] Exercise 2-1: Simple Message\n",
    "    - [x] Exercise 2-2: Simple Messages\n",
    "  - [x] <b>Strings</b> \n",
    "    - [x] Changing Case in a String with Methods\n",
    "    - [x] Using Variables in Strings \n",
    "    - [x] Adding Whitespace to Strings with Tabs or Newlines \n",
    "    - [x] Stripping Whitespace\n",
    "    - [x] Avoiding Syntax Errors with Strings \n",
    "    - [x] Exercise 2-3: Personal Message\n",
    "    - [x] Exercise 2-4: Name Cases\n",
    "    - [x] Exercise 2-5: Famous Quote\n",
    "    - [x] Exercise 2-6: Famous Quote 2\n",
    "    - [x] Exercise 2-7: Stripping Names \n",
    "  - [x] <b>Numbers</b> \n",
    "    - [x] Integers \n",
    "    - [x] Floats \n",
    "    - [x] Integers and Floats \n",
    "    - [x] Underscores in Numbers \n",
    "    - [x] Multiple Assignment\n",
    "    - [x] Constants\n",
    "    - [x] Exercise 2-8: Number Eight\n",
    "    - [x] Exercise 2-9: Favorite Number\n",
    "  - [x] <b>Comments</b> \n",
    "    - [x] How Do You Write Comments? \n",
    "    - [x] What Kind of Comments Should You Write? \n",
    "    - [x] Exercise 2-10: Adding Comments \n",
    "  - [x] <b>The Zen of Python</b> \n",
    "    - [x] Exercise 2-11: Zen of Python\n",
    "  - [x] <b>Summary</b> "
   ],
   "id": "40e6840b22c7d8da"
  },
  {
   "metadata": {
    "ExecuteTime": {
     "end_time": "2024-06-27T15:21:16.517182Z",
     "start_time": "2024-06-27T15:21:16.501544Z"
    }
   },
   "cell_type": "code",
   "source": [
    "# hello_world.py\n",
    "print(\"Hello Python World!\")"
   ],
   "id": "f6e612837ce9885",
   "outputs": [
    {
     "name": "stdout",
     "output_type": "stream",
     "text": [
      "Hello Python World!\n"
     ]
    }
   ],
   "execution_count": 1
  },
  {
   "metadata": {},
   "cell_type": "markdown",
   "source": "# __Chapter 2 - Variables and Simple Data Types__",
   "id": "d0cec24c76e2f087"
  },
  {
   "metadata": {},
   "cell_type": "markdown",
   "source": "### __What Really Happens When You Run hello_world.py__",
   "id": "e4f069c8c819a1d0"
  },
  {
   "metadata": {},
   "cell_type": "markdown",
   "source": "### __Variables__",
   "id": "e90aafc026c937c7"
  },
  {
   "metadata": {},
   "cell_type": "markdown",
   "source": "#### &emsp;Naming and Using Variables",
   "id": "582917312399c24a"
  },
  {
   "metadata": {
    "ExecuteTime": {
     "end_time": "2024-06-27T15:21:16.527423Z",
     "start_time": "2024-06-27T15:21:16.522204Z"
    }
   },
   "cell_type": "code",
   "source": [
    "# hello_world.py\n",
    "print(\"Hello Python World!\")"
   ],
   "id": "a59a9e6e5c12a5d9",
   "outputs": [
    {
     "name": "stdout",
     "output_type": "stream",
     "text": [
      "Hello Python World!\n"
     ]
    }
   ],
   "execution_count": 2
  },
  {
   "metadata": {},
   "cell_type": "markdown",
   "source": "#### &emsp;Avoiding Name Errors When Using Variables",
   "id": "a17e0c735e75aab2"
  },
  {
   "metadata": {},
   "cell_type": "code",
   "outputs": [],
   "execution_count": null,
   "source": [
    "# hello_world.py\n",
    "print(\"Hello Python World!\")"
   ],
   "id": "e9256ce4ab65c28b"
  },
  {
   "metadata": {},
   "cell_type": "markdown",
   "source": "",
   "id": "63ca4f8516842f15"
  },
  {
   "metadata": {},
   "cell_type": "markdown",
   "source": "",
   "id": "22061e22f5311347"
  }
 ],
 "metadata": {
  "kernelspec": {
   "display_name": "Python 3",
   "language": "python",
   "name": "python3"
  },
  "language_info": {
   "codemirror_mode": {
    "name": "ipython",
    "version": 2
   },
   "file_extension": ".py",
   "mimetype": "text/x-python",
   "name": "python",
   "nbconvert_exporter": "python",
   "pygments_lexer": "ipython2",
   "version": "2.7.6"
  }
 },
 "nbformat": 4,
 "nbformat_minor": 5
}
