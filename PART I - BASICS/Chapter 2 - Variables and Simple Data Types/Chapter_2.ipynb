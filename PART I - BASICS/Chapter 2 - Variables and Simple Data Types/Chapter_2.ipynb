{
 "cells": [
  {
   "metadata": {},
   "cell_type": "markdown",
   "source": "# __Chapter 2 - Variables and Simple Data Types__",
   "id": "d0cec24c76e2f087"
  },
  {
   "metadata": {},
   "cell_type": "markdown",
   "source": "### __What Really Happens When You Run hello_world.py__",
   "id": "e4f069c8c819a1d0"
  },
  {
   "metadata": {},
   "cell_type": "markdown",
   "source": "### __Variables__",
   "id": "e90aafc026c937c7"
  },
  {
   "metadata": {},
   "cell_type": "markdown",
   "source": "#### &emsp;Naming and Using Variables",
   "id": "582917312399c24a"
  },
  {
   "metadata": {},
   "cell_type": "markdown",
   "source": "#### &emsp;Avoiding Name Errors When Using Variables",
   "id": "a17e0c735e75aab2"
  },
  {
   "metadata": {},
   "cell_type": "markdown",
   "source": "#### &emsp;Variables Are Labels",
   "id": "63ca4f8516842f15"
  },
  {
   "metadata": {},
   "cell_type": "markdown",
   "source": "#### &emsp;Exercise 2-1: Simple Message",
   "id": "22061e22f5311347"
  },
  {
   "metadata": {},
   "cell_type": "markdown",
   "source": "#### &emsp;Exercise 2-2: Simple Messages",
   "id": "804a1fd63b142a93"
  },
  {
   "metadata": {},
   "cell_type": "markdown",
   "source": "### __Strings__",
   "id": "b4c91fe40d65fe1a"
  },
  {
   "metadata": {},
   "cell_type": "markdown",
   "source": "#### &emsp;Changing Case in a String with Methods",
   "id": "35f3c90b86b5769"
  },
  {
   "metadata": {},
   "cell_type": "markdown",
   "source": "#### &emsp;Using Variables in Strings ",
   "id": "93238d7ef4d65eaa"
  },
  {
   "metadata": {},
   "cell_type": "markdown",
   "source": "#### &emsp;Adding Whitespace to Strings with Tabs or Newlines ",
   "id": "37d24e09a9ff8310"
  },
  {
   "metadata": {},
   "cell_type": "markdown",
   "source": "#### &emsp;Stripping Whitespace",
   "id": "7b64ee9e63295dc5"
  },
  {
   "metadata": {},
   "cell_type": "markdown",
   "source": "#### &emsp;Avoiding Syntax Errors with Strings ",
   "id": "a98e8a2a8e756018"
  },
  {
   "metadata": {},
   "cell_type": "markdown",
   "source": "#### &emsp;Exercise 2-3: Personal Message",
   "id": "6b1475e6d657756b"
  },
  {
   "metadata": {},
   "cell_type": "markdown",
   "source": "#### &emsp;Exercise 2-4: Name Cases",
   "id": "a56a6a90a1ae552"
  },
  {
   "metadata": {},
   "cell_type": "markdown",
   "source": "#### &emsp;Exercise 2-5: Famous Quote",
   "id": "e06b95b2f5308aa4"
  },
  {
   "metadata": {},
   "cell_type": "markdown",
   "source": "#### &emsp;Exercise 2-6: Famous Quote 2",
   "id": "367e4260fe09fca6"
  },
  {
   "metadata": {},
   "cell_type": "markdown",
   "source": "#### &emsp;Exercise 2-7: Stripping Names",
   "id": "2658c0948dd57310"
  },
  {
   "metadata": {},
   "cell_type": "markdown",
   "source": "### __Numbers__",
   "id": "79a7c5a8f3761dd7"
  },
  {
   "metadata": {},
   "cell_type": "markdown",
   "source": "#### &emsp;Integers",
   "id": "ad22effc5f0f46e6"
  },
  {
   "metadata": {},
   "cell_type": "markdown",
   "source": "#### &emsp;Floats",
   "id": "62cb58f8d5e910cd"
  },
  {
   "metadata": {},
   "cell_type": "markdown",
   "source": "#### &emsp;Integers and Floats",
   "id": "ca915d4f40df3545"
  },
  {
   "metadata": {},
   "cell_type": "markdown",
   "source": "#### &emsp;Underscores in Numbers",
   "id": "e3a12ab38bf9cfac"
  },
  {
   "metadata": {},
   "cell_type": "markdown",
   "source": "#### &emsp;Multiple Assignment",
   "id": "ba725aeeb1d59951"
  },
  {
   "metadata": {},
   "cell_type": "markdown",
   "source": "#### &emsp;Constants",
   "id": "cf8402a774270d84"
  },
  {
   "metadata": {},
   "cell_type": "markdown",
   "source": "#### &emsp;Exercise 2-8: Number Eight",
   "id": "e699f52b49180af8"
  },
  {
   "metadata": {},
   "cell_type": "markdown",
   "source": "#### &emsp;Exercise 2-9: Favorite Number",
   "id": "77612166bf7eea4f"
  },
  {
   "metadata": {},
   "cell_type": "markdown",
   "source": "### __Comments__",
   "id": "2cf5beb8b3e895df"
  },
  {
   "metadata": {},
   "cell_type": "markdown",
   "source": "#### &emsp;How Do You Write Comments? ",
   "id": "9100c572bfb1da72"
  },
  {
   "metadata": {},
   "cell_type": "markdown",
   "source": "#### &emsp;What Kind of Comments Should You Write? ",
   "id": "58bc3a835afaf715"
  },
  {
   "metadata": {},
   "cell_type": "markdown",
   "source": "#### &emsp;Exercise 2-10: Adding Comments",
   "id": "cdece5bc0aa42abc"
  },
  {
   "metadata": {},
   "cell_type": "markdown",
   "source": "### __The Zen of Python__",
   "id": "42b7bc476f2a85a0"
  },
  {
   "metadata": {},
   "cell_type": "markdown",
   "source": "#### &emsp;Exercise 2-11: Zen of Python",
   "id": "d8f28e4b0b60a3af"
  },
  {
   "metadata": {},
   "cell_type": "markdown",
   "source": "### __Summary__",
   "id": "6136caa0ff24bb55"
  },
  {
   "metadata": {},
   "cell_type": "code",
   "outputs": [],
   "execution_count": null,
   "source": "",
   "id": "598edbe08175f2c6"
  }
 ],
 "metadata": {
  "kernelspec": {
   "display_name": "Python 3",
   "language": "python",
   "name": "python3"
  },
  "language_info": {
   "codemirror_mode": {
    "name": "ipython",
    "version": 2
   },
   "file_extension": ".py",
   "mimetype": "text/x-python",
   "name": "python",
   "nbconvert_exporter": "python",
   "pygments_lexer": "ipython2",
   "version": "2.7.6"
  }
 },
 "nbformat": 4,
 "nbformat_minor": 5
}
