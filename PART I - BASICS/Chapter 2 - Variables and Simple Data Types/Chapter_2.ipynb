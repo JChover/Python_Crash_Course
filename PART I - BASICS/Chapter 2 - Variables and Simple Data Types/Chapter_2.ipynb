{
 "cells": [
  {
   "metadata": {},
   "cell_type": "markdown",
   "source": "# __Chapter 2 - Variables and Simple Data Types__",
   "id": "d0cec24c76e2f087"
  },
  {
   "metadata": {},
   "cell_type": "markdown",
   "source": "### __What Really Happens When You Run hello_world.py__",
   "id": "e4f069c8c819a1d0"
  },
  {
   "metadata": {},
   "cell_type": "code",
   "outputs": [],
   "execution_count": null,
   "source": [
    "# hello_world.py\n",
    "print(\"Hello Python World!\")"
   ],
   "id": "60b7dd9e125c858d"
  },
  {
   "metadata": {},
   "cell_type": "markdown",
   "source": "### __Variables__",
   "id": "e90aafc026c937c7"
  },
  {
   "metadata": {},
   "cell_type": "markdown",
   "source": "#### &emsp;Naming and Using Variables",
   "id": "582917312399c24a"
  },
  {
   "metadata": {},
   "cell_type": "markdown",
   "source": "#### &emsp;Avoiding Name Errors When Using Variables",
   "id": "a17e0c735e75aab2"
  },
  {
   "metadata": {},
   "cell_type": "markdown",
   "source": "",
   "id": "63ca4f8516842f15"
  },
  {
   "metadata": {},
   "cell_type": "markdown",
   "source": "",
   "id": "22061e22f5311347"
  }
 ],
 "metadata": {
  "kernelspec": {
   "display_name": "Python 3",
   "language": "python",
   "name": "python3"
  },
  "language_info": {
   "codemirror_mode": {
    "name": "ipython",
    "version": 2
   },
   "file_extension": ".py",
   "mimetype": "text/x-python",
   "name": "python",
   "nbconvert_exporter": "python",
   "pygments_lexer": "ipython2",
   "version": "2.7.6"
  }
 },
 "nbformat": 4,
 "nbformat_minor": 5
}
