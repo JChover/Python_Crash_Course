{
 "cells": [
  {
   "metadata": {},
   "cell_type": "markdown",
   "source": "# Chapter 8 - Functions",
   "id": "83d20ed3e0d1c65f"
  },
  {
   "metadata": {},
   "cell_type": "code",
   "outputs": [],
   "execution_count": null,
   "source": "from IPython.display import Code",
   "id": "95c45efc6e962bcc"
  },
  {
   "metadata": {},
   "cell_type": "markdown",
   "source": "### __Defining a Function__",
   "id": "ee8ccd1bbc8a5b4e"
  },
  {
   "metadata": {
    "ExecuteTime": {
     "end_time": "2024-07-08T10:58:19.646424Z",
     "start_time": "2024-07-08T10:58:19.631337Z"
    }
   },
   "cell_type": "code",
   "source": [
    "# Defining a Function - greeter.py\n",
    "def greet_user():\n",
    "    \"\"\"Display a simple greeting.\"\"\"\n",
    "    print(\"Hello!\")\n",
    "\n",
    "\n",
    "greet_user()\n"
   ],
   "id": "faeb439d975f57b6",
   "outputs": [
    {
     "name": "stdout",
     "output_type": "stream",
     "text": [
      "Hello!\n"
     ]
    }
   ],
   "execution_count": 1
  },
  {
   "metadata": {},
   "cell_type": "markdown",
   "source": "#### &emsp;Passing Information to a Function",
   "id": "df3530fbe9844ab6"
  },
  {
   "metadata": {},
   "cell_type": "code",
   "outputs": [],
   "execution_count": null,
   "source": [
    "# Passing Information to a Function - greeter.py\n",
    "def greet_user(username):\n",
    "    \"\"\"Display a simple greeting.\"\"\"\n",
    "    print(f\"Hello, {username.title()}!\")\n",
    "\n",
    "\n",
    "greet_user('seneca')"
   ],
   "id": "ab9d74effde15853"
  },
  {
   "metadata": {},
   "cell_type": "markdown",
   "source": "#### &emsp;Arguments and Parameters",
   "id": "b333f41c8f6d25af"
  },
  {
   "metadata": {},
   "cell_type": "markdown",
   "source": "#### &emsp;Exercise 8-1: Message",
   "id": "130ee10f74d5a254"
  },
  {
   "metadata": {},
   "cell_type": "code",
   "outputs": [],
   "execution_count": null,
   "source": [
    "# 8-1 Message\n",
    "def display_message():\n",
    "    \"\"\"Display a simple message.\"\"\"\n",
    "    print(\"Hello Everyone, I'm learning about Functions!\")\n",
    "\n",
    "\n",
    "display_message()\n"
   ],
   "id": "16bf2065d8df794a"
  },
  {
   "metadata": {},
   "cell_type": "markdown",
   "source": "#### &emsp;Exercise 8-2: Favorite Book",
   "id": "71953c590baf7442"
  },
  {
   "metadata": {},
   "cell_type": "code",
   "outputs": [],
   "execution_count": null,
   "source": [
    "# 8-2 Favorite Book\n",
    "def favorite_book(title):\n",
    "    \"\"\"Display a message with a favorite book.\"\"\"\n",
    "    print(f\"One of my favorite books is {title.title()}\")\n",
    "\n",
    "\n",
    "favorite_book(\"the iliad\")\n"
   ],
   "id": "5e0bb220c49e397c"
  },
  {
   "metadata": {},
   "cell_type": "markdown",
   "source": "### __Passing Arguments__",
   "id": "96ff326100d287c9"
  },
  {
   "metadata": {},
   "cell_type": "markdown",
   "source": "#### &emsp;Positional Arguments",
   "id": "4041f34e9ad838c8"
  },
  {
   "metadata": {},
   "cell_type": "code",
   "outputs": [],
   "execution_count": null,
   "source": [
    "# Positional Arguments - pets.py\n",
    "def describe_pet(animal_type, pet_name):\n",
    "    \"\"\"Display information about a pet.\"\"\"\n",
    "    print(f\"\\nI have a {animal_type}.\")\n",
    "    print(f\"My {animal_type}'s name is {pet_name.title()}.\")\n",
    "\n",
    "\n",
    "describe_pet('hamster', 'toby')\n"
   ],
   "id": "d9931b18dd29eb2f"
  },
  {
   "metadata": {},
   "cell_type": "markdown",
   "source": "Multiple Functions Calls",
   "id": "bf0594ea1ddf9e27"
  },
  {
   "metadata": {},
   "cell_type": "code",
   "outputs": [],
   "execution_count": null,
   "source": [
    "# Multiple Function Calls - pets.py\n",
    "def describe_pet(animal_type, pet_name):\n",
    "    \"\"\"Display information about a pet.\"\"\"\n",
    "    print(f\"\\nI have a {animal_type}.\")\n",
    "    print(f\"My {animal_type}'s name is {pet_name.title()}.\")\n",
    "\n",
    "\n",
    "describe_pet('hamster', 'toby')\n",
    "describe_pet('dog', 'spark')\n"
   ],
   "id": "f6af1595e0e4bb55"
  },
  {
   "metadata": {},
   "cell_type": "markdown",
   "source": "Order Matters in Positional Arguments",
   "id": "e4ca920bc1047517"
  },
  {
   "metadata": {},
   "cell_type": "code",
   "outputs": [],
   "execution_count": null,
   "source": [
    "# Order Matters in Positional Arguments - pets.py\n",
    "def describe_pet(animal_type, pet_name):\n",
    "    \"\"\"Display information about a pet.\"\"\"\n",
    "    print(f\"\\nI have a {animal_type}.\")\n",
    "    print(f\"My {animal_type}'s name is {pet_name.title()}.\")\n",
    "\n",
    "\n",
    "describe_pet('toby', 'hamster')\n"
   ],
   "id": "f12cd3657d4e1e01"
  },
  {
   "metadata": {},
   "cell_type": "markdown",
   "source": "#### &emsp;Keyword Arguments",
   "id": "1a0707acf3ab3218"
  },
  {
   "metadata": {},
   "cell_type": "code",
   "outputs": [],
   "execution_count": null,
   "source": [
    "# Keyword Arguments - pets.py\n",
    "def describe_pet(animal_type, pet_name):\n",
    "    \"\"\"Display information about a pet.\"\"\"\n",
    "    print(f\"\\nI have a {animal_type}.\")\n",
    "    print(f\"My {animal_type}'s name is {pet_name.title()}.\")\n",
    "\n",
    "\n",
    "describe_pet(animal_type='hamster', pet_name='harry')\n",
    "describe_pet(pet_name='harry', animal_type='hamster')\n"
   ],
   "id": "a9df310b3ecc352"
  },
  {
   "metadata": {},
   "cell_type": "markdown",
   "source": "#### &emsp;Default Values",
   "id": "1376e5184dbc7cc9"
  },
  {
   "metadata": {},
   "cell_type": "code",
   "outputs": [],
   "execution_count": null,
   "source": [
    "def describe_pet(pet_name, animal_type='dog'):\n",
    "    \"\"\"Display information about a pet.\"\"\"\n",
    "    print(f\"\\nI have a {animal_type}.\")\n",
    "    print(f\"My {animal_type}'s name is {pet_name.title()}.\")\n",
    "\n",
    "\n",
    "describe_pet(pet_name='harry')\n"
   ],
   "id": "6e006038185085dd"
  },
  {
   "metadata": {},
   "cell_type": "code",
   "outputs": [],
   "execution_count": null,
   "source": "describe_pet('harry')",
   "id": "bfe6c8eb6c7251a"
  },
  {
   "metadata": {},
   "cell_type": "code",
   "outputs": [],
   "execution_count": null,
   "source": "describe_pet(pet_name='harry', animal_type='hamster')",
   "id": "fafa3f68b6f79ea9"
  },
  {
   "metadata": {},
   "cell_type": "markdown",
   "source": "#### &emsp;Equivalent Function Calls",
   "id": "da47e52d66820319"
  },
  {
   "metadata": {},
   "cell_type": "code",
   "outputs": [],
   "execution_count": null,
   "source": [
    "# Equivalent Function Calls - pets.py\n",
    "def describe_pet(pet_name, animal_type='dog'):\n",
    "    \"\"\"Display information about a pet.\"\"\"\n",
    "    print(f\"\\nI have a {animal_type}.\")\n",
    "    print(f\"My {animal_type}'s name is {pet_name.title()}.\")\n",
    "\n",
    "\n",
    "# A dog named Willie.\n",
    "describe_pet('willie')\n",
    "describe_pet(pet_name='willie')\n",
    "# A hamster named Harry.\n",
    "describe_pet('harry', 'hamster')\n",
    "describe_pet(pet_name='harry', animal_type='hamster')\n",
    "describe_pet(animal_type='hamster', pet_name='harry')\n"
   ],
   "id": "c89c82db91221a92"
  },
  {
   "metadata": {},
   "cell_type": "markdown",
   "source": "#### &emsp;Avoiding Argument Errors",
   "id": "babb24958a71657"
  },
  {
   "metadata": {},
   "cell_type": "markdown",
   "source": "#### &emsp;Exercise 8-3: T-Shirt",
   "id": "b300e95cd105403c"
  },
  {
   "metadata": {},
   "cell_type": "code",
   "outputs": [],
   "execution_count": null,
   "source": "",
   "id": "dbf02420c66be0f6"
  },
  {
   "metadata": {},
   "cell_type": "markdown",
   "source": "#### &emsp;Exercise 8-4: Large Shirts ",
   "id": "6b73c77397ee0618"
  },
  {
   "metadata": {},
   "cell_type": "code",
   "outputs": [],
   "execution_count": null,
   "source": "",
   "id": "9463d72cca53419d"
  },
  {
   "metadata": {},
   "cell_type": "markdown",
   "source": "#### &emsp;Exercise 8-5: Cities",
   "id": "38f4aa2cf61c9bfd"
  },
  {
   "metadata": {},
   "cell_type": "code",
   "outputs": [],
   "execution_count": null,
   "source": "",
   "id": "c686972dec754725"
  },
  {
   "metadata": {},
   "cell_type": "markdown",
   "source": "### __Return Values__",
   "id": "34418570817312ff"
  },
  {
   "metadata": {},
   "cell_type": "markdown",
   "source": "#### &emsp;Returning a Simple Value",
   "id": "f6f7cf27b9399c56"
  },
  {
   "metadata": {},
   "cell_type": "markdown",
   "source": "#### &emsp;Making an Argument Optional",
   "id": "32df85a37b810ce5"
  },
  {
   "metadata": {},
   "cell_type": "markdown",
   "source": "#### &emsp;Returning a Dictionary",
   "id": "d42d049c3f774fa8"
  },
  {
   "metadata": {},
   "cell_type": "markdown",
   "source": "#### &emsp;Using a Function with a while Loop",
   "id": "68887c9bdc330ad4"
  },
  {
   "metadata": {},
   "cell_type": "markdown",
   "source": "#### &emsp;Exercise 8-6: City Names",
   "id": "d7967a1148546632"
  },
  {
   "metadata": {},
   "cell_type": "code",
   "outputs": [],
   "execution_count": null,
   "source": "",
   "id": "7a17b7390aae7a12"
  },
  {
   "metadata": {},
   "cell_type": "markdown",
   "source": "#### &emsp;Exercise 8-7: Album",
   "id": "eaa1ff0b6013eb87"
  },
  {
   "metadata": {},
   "cell_type": "code",
   "outputs": [],
   "execution_count": null,
   "source": "",
   "id": "9d28336ea0a0d42"
  },
  {
   "metadata": {},
   "cell_type": "markdown",
   "source": "#### &emsp;Exercise 8-8: User Albums",
   "id": "110436170ea7fa3d"
  },
  {
   "metadata": {},
   "cell_type": "code",
   "outputs": [],
   "execution_count": null,
   "source": "",
   "id": "899e4a59b3a122a"
  },
  {
   "metadata": {},
   "cell_type": "markdown",
   "source": "### __Passing a List__",
   "id": "80e8c55693804c59"
  },
  {
   "metadata": {},
   "cell_type": "markdown",
   "source": "#### &emsp;Modifying a List in a Function",
   "id": "c3da240f39bdc1c7"
  },
  {
   "metadata": {},
   "cell_type": "markdown",
   "source": "#### &emsp;Preventing a Function from Modifying a List",
   "id": "401384c31376a2d5"
  },
  {
   "metadata": {},
   "cell_type": "markdown",
   "source": "#### &emsp;Exercise 8-9: Messages",
   "id": "a9cc8690863cb1ce"
  },
  {
   "metadata": {},
   "cell_type": "code",
   "outputs": [],
   "execution_count": null,
   "source": "",
   "id": "80b6091b452a83ea"
  },
  {
   "metadata": {},
   "cell_type": "markdown",
   "source": "#### &emsp;Exercise 8-10: Sending Messages",
   "id": "97258ffec3ceca46"
  },
  {
   "metadata": {},
   "cell_type": "code",
   "outputs": [],
   "execution_count": null,
   "source": "",
   "id": "491888aea49f772"
  },
  {
   "metadata": {},
   "cell_type": "markdown",
   "source": "#### &emsp;Exercise 8-11: Archived Messages",
   "id": "682703e743b5e56b"
  },
  {
   "metadata": {},
   "cell_type": "code",
   "outputs": [],
   "execution_count": null,
   "source": "",
   "id": "92d321746ae5c20a"
  },
  {
   "metadata": {},
   "cell_type": "markdown",
   "source": "### __Passing an Arbitrary Number of Arguments__",
   "id": "c55f7d22b0c05977"
  },
  {
   "metadata": {},
   "cell_type": "markdown",
   "source": "#### &emsp;Mixing Positional and Arbitrary Arguments",
   "id": "d9be25d9beaf0def"
  },
  {
   "metadata": {},
   "cell_type": "markdown",
   "source": "#### &emsp;Using Arbitrary Keyword Arguments",
   "id": "a90ca88cce398761"
  },
  {
   "metadata": {},
   "cell_type": "markdown",
   "source": "#### &emsp;Exercise 8-12: Sandwiches",
   "id": "15f0150873ac9386"
  },
  {
   "metadata": {},
   "cell_type": "code",
   "outputs": [],
   "execution_count": null,
   "source": "",
   "id": "4d98b2b2fadfc33a"
  },
  {
   "metadata": {},
   "cell_type": "markdown",
   "source": "#### &emsp;Exercise 8-13: User Profile",
   "id": "e573298d42e33b60"
  },
  {
   "metadata": {},
   "cell_type": "code",
   "outputs": [],
   "execution_count": null,
   "source": "",
   "id": "2e021b3e4af0b8ce"
  },
  {
   "metadata": {},
   "cell_type": "markdown",
   "source": "#### &emsp;Exercise 8-14: Cars",
   "id": "bb5e411dcfd10f13"
  },
  {
   "metadata": {},
   "cell_type": "code",
   "outputs": [],
   "execution_count": null,
   "source": "",
   "id": "10db6ea67c138309"
  },
  {
   "metadata": {},
   "cell_type": "markdown",
   "source": "### __Storing Your Functions in Modules__",
   "id": "1c520250e02812e0"
  },
  {
   "metadata": {},
   "cell_type": "markdown",
   "source": "#### &emsp;Importing an Entire Module",
   "id": "960d956956b9c4df"
  },
  {
   "metadata": {},
   "cell_type": "markdown",
   "source": "#### &emsp;Importing Specific Functions",
   "id": "3a48f682f51a087b"
  },
  {
   "metadata": {},
   "cell_type": "markdown",
   "source": "#### &emsp;Using as to Give a Function an Alias",
   "id": "dca0c22d33a550a"
  },
  {
   "metadata": {},
   "cell_type": "markdown",
   "source": "#### &emsp;Using as to Give a Module an Alias",
   "id": "54e274a5d5c40f37"
  },
  {
   "metadata": {},
   "cell_type": "markdown",
   "source": "#### &emsp;Importing All Functions in a Module",
   "id": "e389f85aedb1d922"
  },
  {
   "metadata": {},
   "cell_type": "markdown",
   "source": "### __Styling Functions__",
   "id": "ab4d6376c6ac2359"
  },
  {
   "metadata": {},
   "cell_type": "markdown",
   "source": "#### &emsp;Exercise 8-15: Printing Models",
   "id": "9ad7f3a8c5acd347"
  },
  {
   "metadata": {},
   "cell_type": "code",
   "outputs": [],
   "execution_count": null,
   "source": "",
   "id": "86451474c7a255cb"
  },
  {
   "metadata": {},
   "cell_type": "markdown",
   "source": "#### &emsp;Exercise 8-16: Imports",
   "id": "601f8592eb34a266"
  },
  {
   "metadata": {},
   "cell_type": "code",
   "outputs": [],
   "execution_count": null,
   "source": "",
   "id": "38e3d4ae233c6ae2"
  },
  {
   "metadata": {},
   "cell_type": "markdown",
   "source": "#### &emsp;Exercise 8-17: Styling Functions",
   "id": "3645fb3af0589ce7"
  },
  {
   "metadata": {},
   "cell_type": "code",
   "outputs": [],
   "execution_count": null,
   "source": "",
   "id": "fe3a794cff24b148"
  },
  {
   "metadata": {},
   "cell_type": "markdown",
   "source": "### __Summary__",
   "id": "f641e56e9222cc31"
  }
 ],
 "metadata": {
  "kernelspec": {
   "display_name": "Python 3",
   "language": "python",
   "name": "python3"
  },
  "language_info": {
   "codemirror_mode": {
    "name": "ipython",
    "version": 2
   },
   "file_extension": ".py",
   "mimetype": "text/x-python",
   "name": "python",
   "nbconvert_exporter": "python",
   "pygments_lexer": "ipython2",
   "version": "2.7.6"
  }
 },
 "nbformat": 4,
 "nbformat_minor": 5
}
