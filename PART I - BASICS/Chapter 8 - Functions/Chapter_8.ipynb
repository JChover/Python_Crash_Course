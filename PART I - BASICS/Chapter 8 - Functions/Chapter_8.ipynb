{
 "cells": [
  {
   "metadata": {},
   "cell_type": "markdown",
   "source": "# Chapter 8 - Functions",
   "id": "83d20ed3e0d1c65f"
  },
  {
   "metadata": {
    "ExecuteTime": {
     "end_time": "2024-07-25T13:58:11.602166Z",
     "start_time": "2024-07-25T13:58:11.598237Z"
    }
   },
   "cell_type": "code",
   "source": "from IPython.display import Code",
   "id": "95c45efc6e962bcc",
   "outputs": [],
   "execution_count": 15
  },
  {
   "metadata": {},
   "cell_type": "markdown",
   "source": "### __Defining a Function__",
   "id": "ee8ccd1bbc8a5b4e"
  },
  {
   "metadata": {
    "ExecuteTime": {
     "end_time": "2024-07-25T13:58:11.902987Z",
     "start_time": "2024-07-25T13:58:11.899064Z"
    }
   },
   "cell_type": "code",
   "source": [
    "# Defining a Function - greeter.py\n",
    "def greet_user():\n",
    "    \"\"\"Display a simple greeting.\"\"\"\n",
    "    print(\"Hello!\")\n",
    "\n",
    "\n",
    "greet_user()\n"
   ],
   "id": "faeb439d975f57b6",
   "outputs": [
    {
     "name": "stdout",
     "output_type": "stream",
     "text": [
      "Hello!\n"
     ]
    }
   ],
   "execution_count": 16
  },
  {
   "metadata": {},
   "cell_type": "markdown",
   "source": "#### &emsp;Passing Information to a Function",
   "id": "df3530fbe9844ab6"
  },
  {
   "metadata": {
    "ExecuteTime": {
     "end_time": "2024-07-25T13:58:11.930841Z",
     "start_time": "2024-07-25T13:58:11.925340Z"
    }
   },
   "cell_type": "code",
   "source": [
    "# Passing Information to a Function - greeter.py\n",
    "def greet_user(username):\n",
    "    \"\"\"Display a simple greeting.\"\"\"\n",
    "    print(f\"Hello, {username.title()}!\")\n",
    "\n",
    "\n",
    "greet_user('seneca')"
   ],
   "id": "ab9d74effde15853",
   "outputs": [
    {
     "name": "stdout",
     "output_type": "stream",
     "text": [
      "Hello, Seneca!\n"
     ]
    }
   ],
   "execution_count": 17
  },
  {
   "metadata": {},
   "cell_type": "markdown",
   "source": "#### &emsp;Arguments and Parameters",
   "id": "b333f41c8f6d25af"
  },
  {
   "metadata": {},
   "cell_type": "markdown",
   "source": "#### &emsp;Exercise 8-1: Message",
   "id": "130ee10f74d5a254"
  },
  {
   "metadata": {
    "ExecuteTime": {
     "end_time": "2024-07-25T13:58:11.965145Z",
     "start_time": "2024-07-25T13:58:11.961226Z"
    }
   },
   "cell_type": "code",
   "source": [
    "# 8-1 Message\n",
    "def display_message():\n",
    "    \"\"\"Display a simple message.\"\"\"\n",
    "    print(\"Hello Everyone, I'm learning about Functions!\")\n",
    "\n",
    "\n",
    "display_message()\n"
   ],
   "id": "16bf2065d8df794a",
   "outputs": [
    {
     "name": "stdout",
     "output_type": "stream",
     "text": [
      "Hello Everyone, I'm learning about Functions!\n"
     ]
    }
   ],
   "execution_count": 18
  },
  {
   "metadata": {},
   "cell_type": "markdown",
   "source": "#### &emsp;Exercise 8-2: Favorite Book",
   "id": "71953c590baf7442"
  },
  {
   "metadata": {
    "ExecuteTime": {
     "end_time": "2024-07-25T13:58:12.038269Z",
     "start_time": "2024-07-25T13:58:12.032856Z"
    }
   },
   "cell_type": "code",
   "source": [
    "# 8-2 Favorite Book\n",
    "def favorite_book(title):\n",
    "    \"\"\"Display a message with a favorite book.\"\"\"\n",
    "    print(f\"One of my favorite books is {title.title()}\")\n",
    "\n",
    "\n",
    "favorite_book(\"the iliad\")\n"
   ],
   "id": "5e0bb220c49e397c",
   "outputs": [
    {
     "name": "stdout",
     "output_type": "stream",
     "text": [
      "One of my favorite books is The Iliad\n"
     ]
    }
   ],
   "execution_count": 19
  },
  {
   "metadata": {},
   "cell_type": "markdown",
   "source": "### __Passing Arguments__",
   "id": "96ff326100d287c9"
  },
  {
   "metadata": {},
   "cell_type": "markdown",
   "source": "#### &emsp;Positional Arguments",
   "id": "4041f34e9ad838c8"
  },
  {
   "metadata": {
    "ExecuteTime": {
     "end_time": "2024-07-25T13:58:12.070512Z",
     "start_time": "2024-07-25T13:58:12.064668Z"
    }
   },
   "cell_type": "code",
   "source": [
    "# Positional Arguments - pets.py\n",
    "def describe_pet(animal_type, pet_name):\n",
    "    \"\"\"Display information about a pet.\"\"\"\n",
    "    print(f\"\\nI have a {animal_type}.\")\n",
    "    print(f\"My {animal_type}'s name is {pet_name.title()}.\")\n",
    "\n",
    "\n",
    "describe_pet('hamster', 'toby')\n"
   ],
   "id": "d9931b18dd29eb2f",
   "outputs": [
    {
     "name": "stdout",
     "output_type": "stream",
     "text": [
      "\n",
      "I have a hamster.\n",
      "My hamster's name is Toby.\n"
     ]
    }
   ],
   "execution_count": 20
  },
  {
   "metadata": {},
   "cell_type": "markdown",
   "source": "&emsp;Multiple Functions Calls",
   "id": "bf0594ea1ddf9e27"
  },
  {
   "metadata": {
    "ExecuteTime": {
     "end_time": "2024-07-25T13:58:12.147850Z",
     "start_time": "2024-07-25T13:58:12.143841Z"
    }
   },
   "cell_type": "code",
   "source": [
    "# Multiple Function Calls - pets.py\n",
    "def describe_pet(animal_type, pet_name):\n",
    "    \"\"\"Display information about a pet.\"\"\"\n",
    "    print(f\"\\nI have a {animal_type}.\")\n",
    "    print(f\"My {animal_type}'s name is {pet_name.title()}.\")\n",
    "\n",
    "\n",
    "describe_pet('hamster', 'toby')\n",
    "describe_pet('dog', 'spark')\n"
   ],
   "id": "f6af1595e0e4bb55",
   "outputs": [
    {
     "name": "stdout",
     "output_type": "stream",
     "text": [
      "\n",
      "I have a hamster.\n",
      "My hamster's name is Toby.\n",
      "\n",
      "I have a dog.\n",
      "My dog's name is Spark.\n"
     ]
    }
   ],
   "execution_count": 21
  },
  {
   "metadata": {},
   "cell_type": "markdown",
   "source": "&emsp;Order Matters in Positional Arguments",
   "id": "e4ca920bc1047517"
  },
  {
   "metadata": {
    "ExecuteTime": {
     "end_time": "2024-07-25T13:58:12.182257Z",
     "start_time": "2024-07-25T13:58:12.177648Z"
    }
   },
   "cell_type": "code",
   "source": [
    "# Order Matters in Positional Arguments - pets.py\n",
    "def describe_pet(animal_type, pet_name):\n",
    "    \"\"\"Display information about a pet.\"\"\"\n",
    "    print(f\"\\nI have a {animal_type}.\")\n",
    "    print(f\"My {animal_type}'s name is {pet_name.title()}.\")\n",
    "\n",
    "\n",
    "describe_pet('toby', 'hamster')\n"
   ],
   "id": "f12cd3657d4e1e01",
   "outputs": [
    {
     "name": "stdout",
     "output_type": "stream",
     "text": [
      "\n",
      "I have a toby.\n",
      "My toby's name is Hamster.\n"
     ]
    }
   ],
   "execution_count": 22
  },
  {
   "metadata": {},
   "cell_type": "markdown",
   "source": "#### &emsp;Keyword Arguments",
   "id": "1a0707acf3ab3218"
  },
  {
   "metadata": {
    "ExecuteTime": {
     "end_time": "2024-07-25T13:58:12.294221Z",
     "start_time": "2024-07-25T13:58:12.288730Z"
    }
   },
   "cell_type": "code",
   "source": [
    "# Keyword Arguments - pets.py\n",
    "def describe_pet(animal_type, pet_name):\n",
    "    \"\"\"Display information about a pet.\"\"\"\n",
    "    print(f\"\\nI have a {animal_type}.\")\n",
    "    print(f\"My {animal_type}'s name is {pet_name.title()}.\")\n",
    "\n",
    "\n",
    "describe_pet(animal_type='hamster', pet_name='harry')\n",
    "describe_pet(pet_name='harry', animal_type='hamster')\n"
   ],
   "id": "a9df310b3ecc352",
   "outputs": [
    {
     "name": "stdout",
     "output_type": "stream",
     "text": [
      "\n",
      "I have a hamster.\n",
      "My hamster's name is Harry.\n",
      "\n",
      "I have a hamster.\n",
      "My hamster's name is Harry.\n"
     ]
    }
   ],
   "execution_count": 23
  },
  {
   "metadata": {},
   "cell_type": "markdown",
   "source": "#### &emsp;Default Values",
   "id": "1376e5184dbc7cc9"
  },
  {
   "metadata": {
    "ExecuteTime": {
     "end_time": "2024-07-25T13:58:12.365691Z",
     "start_time": "2024-07-25T13:58:12.361342Z"
    }
   },
   "cell_type": "code",
   "source": [
    "def describe_pet(pet_name, animal_type='dog'):\n",
    "    \"\"\"Display information about a pet.\"\"\"\n",
    "    print(f\"\\nI have a {animal_type}.\")\n",
    "    print(f\"My {animal_type}'s name is {pet_name.title()}.\")\n",
    "\n",
    "\n",
    "describe_pet(pet_name='harry')\n"
   ],
   "id": "6e006038185085dd",
   "outputs": [
    {
     "name": "stdout",
     "output_type": "stream",
     "text": [
      "\n",
      "I have a dog.\n",
      "My dog's name is Harry.\n"
     ]
    }
   ],
   "execution_count": 24
  },
  {
   "metadata": {
    "ExecuteTime": {
     "end_time": "2024-07-25T13:58:12.399589Z",
     "start_time": "2024-07-25T13:58:12.394717Z"
    }
   },
   "cell_type": "code",
   "source": "describe_pet('harry')",
   "id": "bfe6c8eb6c7251a",
   "outputs": [
    {
     "name": "stdout",
     "output_type": "stream",
     "text": [
      "\n",
      "I have a dog.\n",
      "My dog's name is Harry.\n"
     ]
    }
   ],
   "execution_count": 25
  },
  {
   "metadata": {
    "ExecuteTime": {
     "end_time": "2024-07-25T13:58:12.418774Z",
     "start_time": "2024-07-25T13:58:12.414618Z"
    }
   },
   "cell_type": "code",
   "source": "describe_pet(pet_name='harry', animal_type='hamster')",
   "id": "fafa3f68b6f79ea9",
   "outputs": [
    {
     "name": "stdout",
     "output_type": "stream",
     "text": [
      "\n",
      "I have a hamster.\n",
      "My hamster's name is Harry.\n"
     ]
    }
   ],
   "execution_count": 26
  },
  {
   "metadata": {},
   "cell_type": "markdown",
   "source": "#### &emsp;Equivalent Function Calls",
   "id": "da47e52d66820319"
  },
  {
   "metadata": {
    "ExecuteTime": {
     "end_time": "2024-07-25T13:58:12.493412Z",
     "start_time": "2024-07-25T13:58:12.488019Z"
    }
   },
   "cell_type": "code",
   "source": [
    "# Equivalent Function Calls - pets.py\n",
    "def describe_pet(pet_name, animal_type='dog'):\n",
    "    \"\"\"Display information about a pet.\"\"\"\n",
    "    print(f\"\\nI have a {animal_type}.\")\n",
    "    print(f\"My {animal_type}'s name is {pet_name.title()}.\")\n",
    "\n",
    "\n",
    "# A dog named Willie.\n",
    "describe_pet('willie')\n",
    "describe_pet(pet_name='willie')\n",
    "# A hamster named Harry.\n",
    "describe_pet('harry', 'hamster')\n",
    "describe_pet(pet_name='harry', animal_type='hamster')\n",
    "describe_pet(animal_type='hamster', pet_name='harry')\n"
   ],
   "id": "c89c82db91221a92",
   "outputs": [
    {
     "name": "stdout",
     "output_type": "stream",
     "text": [
      "\n",
      "I have a dog.\n",
      "My dog's name is Willie.\n",
      "\n",
      "I have a dog.\n",
      "My dog's name is Willie.\n",
      "\n",
      "I have a hamster.\n",
      "My hamster's name is Harry.\n",
      "\n",
      "I have a hamster.\n",
      "My hamster's name is Harry.\n",
      "\n",
      "I have a hamster.\n",
      "My hamster's name is Harry.\n"
     ]
    }
   ],
   "execution_count": 27
  },
  {
   "metadata": {},
   "cell_type": "markdown",
   "source": "#### &emsp;Avoiding Argument Errors",
   "id": "babb24958a71657"
  },
  {
   "metadata": {
    "ExecuteTime": {
     "end_time": "2024-07-25T13:58:12.551403Z",
     "start_time": "2024-07-25T13:58:12.521983Z"
    }
   },
   "cell_type": "code",
   "source": [
    "# Avoiding Argument Errors - pets.py\n",
    "def describe_pet(animal_type, pet_name):\n",
    "    \"\"\"Display information about a pet.\"\"\"\n",
    "    print(f\"\\nI have a {animal_type}.\")\n",
    "    print(f\"My {animal_type}'s name is {pet_name.title()}.\")\n",
    "\n",
    "describe_pet()"
   ],
   "id": "99c7621d3e2a7a6d",
   "outputs": [
    {
     "ename": "TypeError",
     "evalue": "describe_pet() missing 2 required positional arguments: 'animal_type' and 'pet_name'",
     "output_type": "error",
     "traceback": [
      "\u001B[1;31m---------------------------------------------------------------------------\u001B[0m",
      "\u001B[1;31mTypeError\u001B[0m                                 Traceback (most recent call last)",
      "Cell \u001B[1;32mIn[28], line 7\u001B[0m\n\u001B[0;32m      4\u001B[0m     \u001B[38;5;28mprint\u001B[39m(\u001B[38;5;124mf\u001B[39m\u001B[38;5;124m\"\u001B[39m\u001B[38;5;130;01m\\n\u001B[39;00m\u001B[38;5;124mI have a \u001B[39m\u001B[38;5;132;01m{\u001B[39;00manimal_type\u001B[38;5;132;01m}\u001B[39;00m\u001B[38;5;124m.\u001B[39m\u001B[38;5;124m\"\u001B[39m)\n\u001B[0;32m      5\u001B[0m     \u001B[38;5;28mprint\u001B[39m(\u001B[38;5;124mf\u001B[39m\u001B[38;5;124m\"\u001B[39m\u001B[38;5;124mMy \u001B[39m\u001B[38;5;132;01m{\u001B[39;00manimal_type\u001B[38;5;132;01m}\u001B[39;00m\u001B[38;5;124m'\u001B[39m\u001B[38;5;124ms name is \u001B[39m\u001B[38;5;132;01m{\u001B[39;00mpet_name\u001B[38;5;241m.\u001B[39mtitle()\u001B[38;5;132;01m}\u001B[39;00m\u001B[38;5;124m.\u001B[39m\u001B[38;5;124m\"\u001B[39m)\n\u001B[1;32m----> 7\u001B[0m \u001B[43mdescribe_pet\u001B[49m\u001B[43m(\u001B[49m\u001B[43m)\u001B[49m\n",
      "\u001B[1;31mTypeError\u001B[0m: describe_pet() missing 2 required positional arguments: 'animal_type' and 'pet_name'"
     ]
    }
   ],
   "execution_count": 28
  },
  {
   "metadata": {},
   "cell_type": "markdown",
   "source": "#### &emsp;Exercise 8-3: T-Shirt",
   "id": "b300e95cd105403c"
  },
  {
   "metadata": {
    "ExecuteTime": {
     "end_time": "2024-07-25T13:58:12.602053Z",
     "start_time": "2024-07-25T13:58:12.596938Z"
    }
   },
   "cell_type": "code",
   "source": [
    "# 8-3 T-Shirt\n",
    "def make_shirt(size, message):\n",
    "    \"\"\"Displays the details of a T-Shirt order\"\"\"\n",
    "    print(f\"\\nHere is the summary of your T-Shirt order.\")\n",
    "    print(f\"\\nSize: {size}\")\n",
    "    print(f\"Message: {message}\")\n",
    "\n",
    "\n",
    "make_shirt('M', 'Ad Astra Per Aspera')\n",
    "make_shirt(message='Per Aspera Ad Astra', size='S')\n"
   ],
   "id": "dbf02420c66be0f6",
   "outputs": [
    {
     "name": "stdout",
     "output_type": "stream",
     "text": [
      "\n",
      "Here is the summary of your T-Shirt order.\n",
      "\n",
      "Size: M\n",
      "Message: Ad Astra Per Aspera\n",
      "\n",
      "Here is the summary of your T-Shirt order.\n",
      "\n",
      "Size: S\n",
      "Message: Per Aspera Ad Astra\n"
     ]
    }
   ],
   "execution_count": 29
  },
  {
   "metadata": {},
   "cell_type": "markdown",
   "source": "#### &emsp;Exercise 8-4: Large Shirts ",
   "id": "6b73c77397ee0618"
  },
  {
   "metadata": {
    "ExecuteTime": {
     "end_time": "2024-07-25T13:58:12.623286Z",
     "start_time": "2024-07-25T13:58:12.617423Z"
    }
   },
   "cell_type": "code",
   "source": [
    "# 8-4 Large Shirt\n",
    "def make_shirt(size='L', message='I Love Python'):\n",
    "    \"\"\"Displays the details of a T-Shirt order\"\"\"\n",
    "    print(f\"\\nHere is the summary of your T-Shirt order.\")\n",
    "    print(f\"Size: {size}\")\n",
    "    print(f\"Message: {message}\")\n",
    "\n",
    "\n",
    "make_shirt()\n",
    "make_shirt('M')\n",
    "make_shirt(message='I Love C')\n"
   ],
   "id": "9463d72cca53419d",
   "outputs": [
    {
     "name": "stdout",
     "output_type": "stream",
     "text": [
      "\n",
      "Here is the summary of your T-Shirt order.\n",
      "Size: L\n",
      "Message: I Love Python\n",
      "\n",
      "Here is the summary of your T-Shirt order.\n",
      "Size: M\n",
      "Message: I Love Python\n",
      "\n",
      "Here is the summary of your T-Shirt order.\n",
      "Size: L\n",
      "Message: I Love C\n"
     ]
    }
   ],
   "execution_count": 30
  },
  {
   "metadata": {},
   "cell_type": "markdown",
   "source": "#### &emsp;Exercise 8-5: Cities",
   "id": "38f4aa2cf61c9bfd"
  },
  {
   "metadata": {
    "ExecuteTime": {
     "end_time": "2024-07-25T13:58:12.671654Z",
     "start_time": "2024-07-25T13:58:12.666632Z"
    }
   },
   "cell_type": "code",
   "source": [
    "# 8-5 Cities\n",
    "def describe_city(name, country='japan'):\n",
    "    \"\"\"Describes in which country the city is located.\"\"\"\n",
    "    print(f\"\\n{name.title()} is in {country.title()}.\")\n",
    "\n",
    "\n",
    "describe_city('osaka')\n",
    "describe_city('tokyo')\n",
    "describe_city('busan', 'korea')\n"
   ],
   "id": "c686972dec754725",
   "outputs": [
    {
     "name": "stdout",
     "output_type": "stream",
     "text": [
      "\n",
      "Osaka is in Japan.\n",
      "\n",
      "Tokyo is in Japan.\n",
      "\n",
      "Busan is in Korea.\n"
     ]
    }
   ],
   "execution_count": 31
  },
  {
   "metadata": {},
   "cell_type": "markdown",
   "source": "### __Return Values__",
   "id": "34418570817312ff"
  },
  {
   "metadata": {},
   "cell_type": "markdown",
   "source": "#### &emsp;Returning a Simple Value",
   "id": "f6f7cf27b9399c56"
  },
  {
   "metadata": {},
   "cell_type": "markdown",
   "source": "#### &emsp;Making an Argument Optional",
   "id": "32df85a37b810ce5"
  },
  {
   "metadata": {},
   "cell_type": "markdown",
   "source": "#### &emsp;Returning a Dictionary",
   "id": "d42d049c3f774fa8"
  },
  {
   "metadata": {},
   "cell_type": "markdown",
   "source": "#### &emsp;Using a Function with a while Loop",
   "id": "68887c9bdc330ad4"
  },
  {
   "metadata": {},
   "cell_type": "markdown",
   "source": "#### &emsp;Exercise 8-6: City Names",
   "id": "d7967a1148546632"
  },
  {
   "metadata": {
    "ExecuteTime": {
     "end_time": "2024-07-25T13:58:12.830004Z",
     "start_time": "2024-07-25T13:58:12.827370Z"
    }
   },
   "cell_type": "code",
   "source": "",
   "id": "7a17b7390aae7a12",
   "outputs": [],
   "execution_count": 31
  },
  {
   "metadata": {},
   "cell_type": "markdown",
   "source": "#### &emsp;Exercise 8-7: Album",
   "id": "eaa1ff0b6013eb87"
  },
  {
   "metadata": {
    "ExecuteTime": {
     "end_time": "2024-07-25T13:58:12.897977Z",
     "start_time": "2024-07-25T13:58:12.895494Z"
    }
   },
   "cell_type": "code",
   "source": "",
   "id": "9d28336ea0a0d42",
   "outputs": [],
   "execution_count": 31
  },
  {
   "metadata": {},
   "cell_type": "markdown",
   "source": "#### &emsp;Exercise 8-8: User Albums",
   "id": "110436170ea7fa3d"
  },
  {
   "metadata": {
    "ExecuteTime": {
     "end_time": "2024-07-25T13:58:12.986459Z",
     "start_time": "2024-07-25T13:58:12.983473Z"
    }
   },
   "cell_type": "code",
   "source": "",
   "id": "899e4a59b3a122a",
   "outputs": [],
   "execution_count": 31
  },
  {
   "metadata": {},
   "cell_type": "markdown",
   "source": "### __Passing a List__",
   "id": "80e8c55693804c59"
  },
  {
   "metadata": {},
   "cell_type": "markdown",
   "source": "#### &emsp;Modifying a List in a Function",
   "id": "c3da240f39bdc1c7"
  },
  {
   "metadata": {},
   "cell_type": "markdown",
   "source": "#### &emsp;Preventing a Function from Modifying a List",
   "id": "401384c31376a2d5"
  },
  {
   "metadata": {},
   "cell_type": "markdown",
   "source": "#### &emsp;Exercise 8-9: Messages",
   "id": "a9cc8690863cb1ce"
  },
  {
   "metadata": {
    "ExecuteTime": {
     "end_time": "2024-07-25T13:58:13.048361Z",
     "start_time": "2024-07-25T13:58:13.045735Z"
    }
   },
   "cell_type": "code",
   "source": "",
   "id": "80b6091b452a83ea",
   "outputs": [],
   "execution_count": 31
  },
  {
   "metadata": {},
   "cell_type": "markdown",
   "source": "#### &emsp;Exercise 8-10: Sending Messages",
   "id": "97258ffec3ceca46"
  },
  {
   "metadata": {
    "ExecuteTime": {
     "end_time": "2024-07-25T13:58:13.066894Z",
     "start_time": "2024-07-25T13:58:13.063885Z"
    }
   },
   "cell_type": "code",
   "source": "",
   "id": "491888aea49f772",
   "outputs": [],
   "execution_count": 31
  },
  {
   "metadata": {},
   "cell_type": "markdown",
   "source": "#### &emsp;Exercise 8-11: Archived Messages",
   "id": "682703e743b5e56b"
  },
  {
   "metadata": {
    "ExecuteTime": {
     "end_time": "2024-07-25T13:58:13.081330Z",
     "start_time": "2024-07-25T13:58:13.078649Z"
    }
   },
   "cell_type": "code",
   "source": "",
   "id": "92d321746ae5c20a",
   "outputs": [],
   "execution_count": 31
  },
  {
   "metadata": {},
   "cell_type": "markdown",
   "source": "### __Passing an Arbitrary Number of Arguments__",
   "id": "c55f7d22b0c05977"
  },
  {
   "metadata": {},
   "cell_type": "markdown",
   "source": "#### &emsp;Mixing Positional and Arbitrary Arguments",
   "id": "d9be25d9beaf0def"
  },
  {
   "metadata": {},
   "cell_type": "markdown",
   "source": "#### &emsp;Using Arbitrary Keyword Arguments",
   "id": "a90ca88cce398761"
  },
  {
   "metadata": {},
   "cell_type": "markdown",
   "source": "#### &emsp;Exercise 8-12: Sandwiches",
   "id": "15f0150873ac9386"
  },
  {
   "metadata": {
    "ExecuteTime": {
     "end_time": "2024-07-25T13:58:13.142802Z",
     "start_time": "2024-07-25T13:58:13.139630Z"
    }
   },
   "cell_type": "code",
   "source": "",
   "id": "4d98b2b2fadfc33a",
   "outputs": [],
   "execution_count": 31
  },
  {
   "metadata": {},
   "cell_type": "markdown",
   "source": "#### &emsp;Exercise 8-13: User Profile",
   "id": "e573298d42e33b60"
  },
  {
   "metadata": {
    "ExecuteTime": {
     "end_time": "2024-07-25T13:58:13.161446Z",
     "start_time": "2024-07-25T13:58:13.158282Z"
    }
   },
   "cell_type": "code",
   "source": "",
   "id": "2e021b3e4af0b8ce",
   "outputs": [],
   "execution_count": 31
  },
  {
   "metadata": {},
   "cell_type": "markdown",
   "source": "#### &emsp;Exercise 8-14: Cars",
   "id": "bb5e411dcfd10f13"
  },
  {
   "metadata": {
    "ExecuteTime": {
     "end_time": "2024-07-25T13:58:13.176455Z",
     "start_time": "2024-07-25T13:58:13.173948Z"
    }
   },
   "cell_type": "code",
   "source": "",
   "id": "10db6ea67c138309",
   "outputs": [],
   "execution_count": 31
  },
  {
   "metadata": {},
   "cell_type": "markdown",
   "source": "### __Storing Your Functions in Modules__",
   "id": "1c520250e02812e0"
  },
  {
   "metadata": {},
   "cell_type": "markdown",
   "source": "#### &emsp;Importing an Entire Module",
   "id": "960d956956b9c4df"
  },
  {
   "metadata": {},
   "cell_type": "markdown",
   "source": "#### &emsp;Importing Specific Functions",
   "id": "3a48f682f51a087b"
  },
  {
   "metadata": {},
   "cell_type": "markdown",
   "source": "#### &emsp;Using as to Give a Function an Alias",
   "id": "dca0c22d33a550a"
  },
  {
   "metadata": {},
   "cell_type": "markdown",
   "source": "#### &emsp;Using as to Give a Module an Alias",
   "id": "54e274a5d5c40f37"
  },
  {
   "metadata": {},
   "cell_type": "markdown",
   "source": "#### &emsp;Importing All Functions in a Module",
   "id": "e389f85aedb1d922"
  },
  {
   "metadata": {},
   "cell_type": "markdown",
   "source": "### __Styling Functions__",
   "id": "ab4d6376c6ac2359"
  },
  {
   "metadata": {},
   "cell_type": "markdown",
   "source": "#### &emsp;Exercise 8-15: Printing Models",
   "id": "9ad7f3a8c5acd347"
  },
  {
   "metadata": {
    "ExecuteTime": {
     "end_time": "2024-07-25T13:58:13.242951Z",
     "start_time": "2024-07-25T13:58:13.240234Z"
    }
   },
   "cell_type": "code",
   "source": "",
   "id": "86451474c7a255cb",
   "outputs": [],
   "execution_count": 31
  },
  {
   "metadata": {},
   "cell_type": "markdown",
   "source": "#### &emsp;Exercise 8-16: Imports",
   "id": "601f8592eb34a266"
  },
  {
   "metadata": {
    "ExecuteTime": {
     "end_time": "2024-07-25T13:58:13.259053Z",
     "start_time": "2024-07-25T13:58:13.256702Z"
    }
   },
   "cell_type": "code",
   "source": "",
   "id": "38e3d4ae233c6ae2",
   "outputs": [],
   "execution_count": 31
  },
  {
   "metadata": {},
   "cell_type": "markdown",
   "source": "#### &emsp;Exercise 8-17: Styling Functions",
   "id": "3645fb3af0589ce7"
  },
  {
   "metadata": {
    "ExecuteTime": {
     "end_time": "2024-07-25T13:58:13.312280Z",
     "start_time": "2024-07-25T13:58:13.309850Z"
    }
   },
   "cell_type": "code",
   "source": "",
   "id": "fe3a794cff24b148",
   "outputs": [],
   "execution_count": 31
  },
  {
   "metadata": {},
   "cell_type": "markdown",
   "source": "### __Summary__",
   "id": "f641e56e9222cc31"
  }
 ],
 "metadata": {
  "kernelspec": {
   "display_name": "Python 3",
   "language": "python",
   "name": "python3"
  },
  "language_info": {
   "codemirror_mode": {
    "name": "ipython",
    "version": 2
   },
   "file_extension": ".py",
   "mimetype": "text/x-python",
   "name": "python",
   "nbconvert_exporter": "python",
   "pygments_lexer": "ipython2",
   "version": "2.7.6"
  }
 },
 "nbformat": 4,
 "nbformat_minor": 5
}
