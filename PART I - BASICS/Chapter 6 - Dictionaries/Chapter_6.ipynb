{
 "cells": [
  {
   "metadata": {},
   "cell_type": "markdown",
   "source": "# Chapter 6 - Dictionaries",
   "id": "68b15010294f9d62"
  },
  {
   "metadata": {
    "ExecuteTime": {
     "end_time": "2024-06-29T17:10:27.053282Z",
     "start_time": "2024-06-29T17:10:27.050904Z"
    }
   },
   "cell_type": "code",
   "source": "from IPython.display import Code",
   "id": "65442befa98acaab",
   "outputs": [],
   "execution_count": 1
  },
  {
   "metadata": {},
   "cell_type": "markdown",
   "source": "### __A Simple Dictionary__",
   "id": "b17282447858d790"
  },
  {
   "metadata": {
    "ExecuteTime": {
     "end_time": "2024-06-29T19:15:18.324240Z",
     "start_time": "2024-06-29T19:15:18.320387Z"
    }
   },
   "cell_type": "code",
   "source": [
    "# A Simple Dictionary - alien.py\n",
    "alien_0 = {'color': 'green', 'points': 5}\n",
    "\n",
    "print(alien_0['color'])\n",
    "print(alien_0['points'])"
   ],
   "id": "46cbf6399d771a0d",
   "outputs": [
    {
     "name": "stdout",
     "output_type": "stream",
     "text": [
      "green\n",
      "5\n"
     ]
    }
   ],
   "execution_count": 2
  },
  {
   "metadata": {},
   "cell_type": "markdown",
   "source": "### __Working with Dictionaries__",
   "id": "fe033584ff73c08c"
  },
  {
   "metadata": {},
   "cell_type": "markdown",
   "source": "#### &emsp;Accessing Values in a Dictionary",
   "id": "7a9ceba48ae425c5"
  },
  {
   "metadata": {
    "ExecuteTime": {
     "end_time": "2024-06-29T19:19:30.939114Z",
     "start_time": "2024-06-29T19:19:30.936204Z"
    }
   },
   "cell_type": "code",
   "source": [
    "# Accessing Values in a Dictionary - alien.py\n",
    "alien_0 = {'color': 'green'}\n",
    "\n",
    "print(alien_0['color'])\n",
    "\n",
    "alien_0 = {'color': 'green', 'points': 5}\n",
    "\n",
    "new_points = alien_0['points']\n",
    "print(f\"You just earned {new_points} points!\")"
   ],
   "id": "790d399056440d5d",
   "outputs": [
    {
     "name": "stdout",
     "output_type": "stream",
     "text": [
      "green\n",
      "You just earned 5 points!\n"
     ]
    }
   ],
   "execution_count": 3
  },
  {
   "metadata": {},
   "cell_type": "markdown",
   "source": "#### &emsp;Adding New Key-Value Pairs ",
   "id": "ace153bd2584caed"
  },
  {
   "metadata": {
    "ExecuteTime": {
     "end_time": "2024-06-29T19:22:10.656286Z",
     "start_time": "2024-06-29T19:22:10.652980Z"
    }
   },
   "cell_type": "code",
   "source": [
    "# Adding New Key-Value Pairs - alien.py\n",
    "alien_0 = {'color': 'green', 'points': 5}\n",
    "print(alien_0)\n",
    "\n",
    "alien_0['x_position'] = 0  # Dictionaries are Dynamic, so you can add key-value pairs\n",
    "alien_0['y_position'] = 25\n",
    "print(alien_0)"
   ],
   "id": "9ca8c0fdd130472a",
   "outputs": [
    {
     "name": "stdout",
     "output_type": "stream",
     "text": [
      "{'color': 'green', 'points': 5}\n",
      "{'color': 'green', 'points': 5, 'x_position': 0, 'y_position': 25}\n"
     ]
    }
   ],
   "execution_count": 4
  },
  {
   "metadata": {},
   "cell_type": "markdown",
   "source": "#### &emsp;Starting with an Empty Dictionary",
   "id": "7dbb9ac16e4532e4"
  },
  {
   "metadata": {
    "ExecuteTime": {
     "end_time": "2024-06-29T19:23:14.973102Z",
     "start_time": "2024-06-29T19:23:14.970684Z"
    }
   },
   "cell_type": "code",
   "source": [
    "# Staring With an Empty Dictionary - alien.py\n",
    "alien_0 = {}\n",
    "print(alien_0)\n",
    "\n",
    "alien_0['color'] = 'green'\n",
    "alien_0['points'] = 5\n",
    "print(alien_0)"
   ],
   "id": "368d5b40a3961672",
   "outputs": [
    {
     "name": "stdout",
     "output_type": "stream",
     "text": [
      "{}\n",
      "{'color': 'green', 'points': 5}\n"
     ]
    }
   ],
   "execution_count": 5
  },
  {
   "metadata": {},
   "cell_type": "markdown",
   "source": "#### &emsp;Modifying Values in a Dictionary ",
   "id": "dae63214d7a78301"
  },
  {
   "metadata": {
    "ExecuteTime": {
     "end_time": "2024-06-29T19:35:49.317391Z",
     "start_time": "2024-06-29T19:35:49.313971Z"
    }
   },
   "cell_type": "code",
   "source": [
    "# Modifying Values in a Dictionary - alien.py\n",
    "alien_0 = {'color': 'green'}\n",
    "print(f\"The alien is {alien_0['color']}.\")\n",
    "\n",
    "alien_0['color'] = 'yellow'\n",
    "print(f\"The alien is now {alien_0['color']}.\\n\")\n",
    "\n",
    "alien_0 = {'x_position': 0, 'y_position': 25, 'speed': 'medium'}  # Complex Example\n",
    "print(f\"Original position: {alien_0['x_position']}\")\n",
    "\n",
    "if alien_0['speed'] == 'slow':\n",
    "    x_increment = 1\n",
    "elif alien_0['speed'] == 'medium':\n",
    "    x_increment = 2\n",
    "else:\n",
    "    x_increment = 3\n",
    "\n",
    "alien_0['x_position'] = alien_0['x_position'] + x_increment  # Modifying Position\n",
    "print(f\"New position: {alien_0['x_position']}\")"
   ],
   "id": "c6125e8e076e8319",
   "outputs": [
    {
     "name": "stdout",
     "output_type": "stream",
     "text": [
      "The alien is green.\n",
      "The alien is now yellow.\n",
      "\n",
      "Original position: 0\n",
      "New position: 2\n"
     ]
    }
   ],
   "execution_count": 7
  },
  {
   "metadata": {},
   "cell_type": "markdown",
   "source": "#### &emsp;Removing Key-Value Pairs ",
   "id": "59221fdc022f459a"
  },
  {
   "metadata": {
    "ExecuteTime": {
     "end_time": "2024-06-29T19:37:13.220173Z",
     "start_time": "2024-06-29T19:37:13.217832Z"
    }
   },
   "cell_type": "code",
   "source": [
    "# Removing Key-Value Pairs - alien.py\n",
    "alien_0 = {'color': 'green', 'points': 5}\n",
    "print(alien_0)\n",
    "\n",
    "del alien_0['points']  # Simply use DEL to remove the unwanted Key-value\n",
    "print(alien_0)"
   ],
   "id": "fda9469d1e051f20",
   "outputs": [
    {
     "name": "stdout",
     "output_type": "stream",
     "text": [
      "{'color': 'green', 'points': 5}\n",
      "{'color': 'green'}\n"
     ]
    }
   ],
   "execution_count": 8
  },
  {
   "metadata": {},
   "cell_type": "markdown",
   "source": "#### &emsp;A Dictionary of Similar Objects ",
   "id": "de41f2d84baf18cc"
  },
  {
   "metadata": {
    "ExecuteTime": {
     "end_time": "2024-06-29T19:41:12.573364Z",
     "start_time": "2024-06-29T19:41:12.570231Z"
    }
   },
   "cell_type": "code",
   "source": [
    "# A Dictionary of Similar Objects - favorite_languages.py\n",
    "favorite_languages = {\n",
    "    'jen': 'python',\n",
    "    'sarah': 'c',\n",
    "    'edward': 'ruby',\n",
    "    'phil': 'python',\n",
    "    }\n",
    "\n",
    "language = favorite_languages['sarah'].title()\n",
    "print(f\"Sarah's favorite language is {language}.\")"
   ],
   "id": "768aec16f3883489",
   "outputs": [
    {
     "name": "stdout",
     "output_type": "stream",
     "text": [
      "Sarah's favorite language is C.\n"
     ]
    }
   ],
   "execution_count": 9
  },
  {
   "metadata": {},
   "cell_type": "markdown",
   "source": "#### &emsp;Using get() to Access Values ",
   "id": "e187fcbfa291c95"
  },
  {
   "metadata": {
    "ExecuteTime": {
     "end_time": "2024-06-29T19:47:03.560253Z",
     "start_time": "2024-06-29T19:47:03.557535Z"
    }
   },
   "cell_type": "code",
   "source": [
    "# Using get() to Access Values - alien_no_points.py\n",
    "alien_0 = {'color': 'green', 'speed': 'slow'}\n",
    "#print(alien_0['points'])  # This returns ERROR as POINTS don't EXIST\n",
    "\n",
    "point_value = alien_0.get('points', 'No point value assigned.')  # Use get() method to set a default value that will \n",
    "print(point_value)                                               # be returned if the requested key doesn’t exist"
   ],
   "id": "99902cab4bd77bee",
   "outputs": [
    {
     "name": "stdout",
     "output_type": "stream",
     "text": [
      "No point value assigned.\n"
     ]
    }
   ],
   "execution_count": 10
  },
  {
   "metadata": {},
   "cell_type": "markdown",
   "source": "#### &emsp;Exercise 6-1: Person ",
   "id": "9c61e5155f4ee582"
  },
  {
   "metadata": {
    "ExecuteTime": {
     "end_time": "2024-06-29T19:56:31.914953Z",
     "start_time": "2024-06-29T19:56:31.912251Z"
    }
   },
   "cell_type": "code",
   "source": [
    "# 6-1 Person\n",
    "person = {\n",
    "    'first_name': 'Lucio',\n",
    "    'last_name': 'Seneca',\n",
    "    'age': '69',\n",
    "    'city': 'Cordoba',\n",
    "}\n",
    "print(person)\n",
    "print(f\"His name was {person['first_name']}.\")\n",
    "print(f\"His last name was {person['last_name']}.\")\n",
    "print(f\"he died at the age of {person['age']}.\")\n",
    "print(f\"The city he was born was {person['city']}.\")"
   ],
   "id": "b18eb6f91f596457",
   "outputs": [
    {
     "name": "stdout",
     "output_type": "stream",
     "text": [
      "{'first_name': 'Lucio', 'last_name': 'Seneca', 'age': '69', 'city': 'Cordoba'}\n",
      "His name was Lucio.\n",
      "His last name was Seneca.\n",
      "he died at the age of 69.\n",
      "The city he was born was Cordoba.\n"
     ]
    }
   ],
   "execution_count": 11
  },
  {
   "metadata": {},
   "cell_type": "markdown",
   "source": "#### &emsp;Exercise 6-2: Favorite Numbers ",
   "id": "cae3b10bd076af1e"
  },
  {
   "metadata": {},
   "cell_type": "markdown",
   "source": "#### &emsp;Exercise 6-3: Glossary",
   "id": "ef59cfc072ccafe2"
  },
  {
   "metadata": {},
   "cell_type": "markdown",
   "source": "### __Looping Through a Dictionary__",
   "id": "a3fbcc7616a78380"
  },
  {
   "metadata": {},
   "cell_type": "markdown",
   "source": "#### &emsp;Looping Through All Key-Value Pairs ",
   "id": "5909b4ae42caf39a"
  },
  {
   "metadata": {},
   "cell_type": "markdown",
   "source": "#### &emsp;Looping Through All the Keys in a Dictionary ",
   "id": "46e1463371b8036"
  },
  {
   "metadata": {},
   "cell_type": "markdown",
   "source": "#### &emsp;Looping Through a Dictionary’s Keys in a Particular Order ",
   "id": "477145ea23c3092a"
  },
  {
   "metadata": {},
   "cell_type": "markdown",
   "source": "#### &emsp;Looping Through All Values in a Dictionary ",
   "id": "365007350e0da8d4"
  },
  {
   "metadata": {},
   "cell_type": "markdown",
   "source": "#### &emsp;Exercise 6-4: Glossary 2 ",
   "id": "2d286c7a9186c062"
  },
  {
   "metadata": {},
   "cell_type": "markdown",
   "source": "#### &emsp;Exercise 6-5: Rivers",
   "id": "afc35576615dca1b"
  },
  {
   "metadata": {},
   "cell_type": "markdown",
   "source": "#### &emsp;Exercise 6-6: Polling ",
   "id": "38b8406b100643d8"
  },
  {
   "metadata": {},
   "cell_type": "markdown",
   "source": "### __Nesting__",
   "id": "d832757b4405286d"
  },
  {
   "metadata": {},
   "cell_type": "markdown",
   "source": "#### &emsp;A List of Dictionaries",
   "id": "8bd7a577a748ca36"
  },
  {
   "metadata": {},
   "cell_type": "markdown",
   "source": "#### &emsp;A List in a Dictionary",
   "id": "998f6e0aae521d00"
  },
  {
   "metadata": {},
   "cell_type": "markdown",
   "source": "#### &emsp;A Dictionary in a Dictionary",
   "id": "20485ce571ae01c7"
  },
  {
   "metadata": {},
   "cell_type": "markdown",
   "source": "#### &emsp;Exercise 6-7: People",
   "id": "49769e9c4c649145"
  },
  {
   "metadata": {},
   "cell_type": "markdown",
   "source": "#### &emsp;Exercise 6-8: Pets",
   "id": "3bcaff018e6fcb45"
  },
  {
   "metadata": {},
   "cell_type": "markdown",
   "source": "#### &emsp;Exercise 6-9: Favorite Places",
   "id": "97edbb5b7f47df26"
  },
  {
   "metadata": {},
   "cell_type": "markdown",
   "source": "#### &emsp;Exercise 6-10: Favorite Numbers",
   "id": "b4efeae7b07a61c"
  },
  {
   "metadata": {},
   "cell_type": "markdown",
   "source": "#### &emsp;Exercise 6-11: Cities",
   "id": "9140fcc1260d498b"
  },
  {
   "metadata": {},
   "cell_type": "markdown",
   "source": "#### &emsp;Exercise 6-12: Extensions",
   "id": "d568c05906a50061"
  },
  {
   "metadata": {},
   "cell_type": "markdown",
   "source": "### __Summary__",
   "id": "ad12b18d8ce3e5d6"
  }
 ],
 "metadata": {
  "kernelspec": {
   "display_name": "Python 3",
   "language": "python",
   "name": "python3"
  },
  "language_info": {
   "codemirror_mode": {
    "name": "ipython",
    "version": 2
   },
   "file_extension": ".py",
   "mimetype": "text/x-python",
   "name": "python",
   "nbconvert_exporter": "python",
   "pygments_lexer": "ipython2",
   "version": "2.7.6"
  }
 },
 "nbformat": 4,
 "nbformat_minor": 5
}
