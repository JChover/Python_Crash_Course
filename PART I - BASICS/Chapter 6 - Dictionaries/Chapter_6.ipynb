{
 "cells": [
  {
   "metadata": {},
   "cell_type": "markdown",
   "source": "# Chapter 6 - Dictionaries",
   "id": "68b15010294f9d62"
  },
  {
   "metadata": {
    "ExecuteTime": {
     "end_time": "2024-06-30T09:21:54.562688Z",
     "start_time": "2024-06-30T09:21:54.560547Z"
    }
   },
   "cell_type": "code",
   "source": "from IPython.display import Code",
   "id": "65442befa98acaab",
   "outputs": [],
   "execution_count": 24
  },
  {
   "metadata": {},
   "cell_type": "markdown",
   "source": "### __A Simple Dictionary__",
   "id": "b17282447858d790"
  },
  {
   "metadata": {
    "ExecuteTime": {
     "end_time": "2024-06-30T09:21:54.726148Z",
     "start_time": "2024-06-30T09:21:54.723708Z"
    }
   },
   "cell_type": "code",
   "source": [
    "# A Simple Dictionary - alien.py\n",
    "alien_0 = {'color': 'green', 'points': 5}\n",
    "\n",
    "print(alien_0['color'])\n",
    "print(alien_0['points'])"
   ],
   "id": "46cbf6399d771a0d",
   "outputs": [
    {
     "name": "stdout",
     "output_type": "stream",
     "text": [
      "green\n",
      "5\n"
     ]
    }
   ],
   "execution_count": 25
  },
  {
   "metadata": {},
   "cell_type": "markdown",
   "source": "### __Working with Dictionaries__",
   "id": "fe033584ff73c08c"
  },
  {
   "metadata": {},
   "cell_type": "markdown",
   "source": "#### &emsp;Accessing Values in a Dictionary",
   "id": "7a9ceba48ae425c5"
  },
  {
   "metadata": {
    "ExecuteTime": {
     "end_time": "2024-06-30T09:21:54.735211Z",
     "start_time": "2024-06-30T09:21:54.731151Z"
    }
   },
   "cell_type": "code",
   "source": [
    "# Accessing Values in a Dictionary - alien.py\n",
    "alien_0 = {'color': 'green'}\n",
    "\n",
    "print(alien_0['color'])\n",
    "\n",
    "alien_0 = {'color': 'green', 'points': 5}\n",
    "\n",
    "new_points = alien_0['points']\n",
    "print(f\"You just earned {new_points} points!\")"
   ],
   "id": "790d399056440d5d",
   "outputs": [
    {
     "name": "stdout",
     "output_type": "stream",
     "text": [
      "green\n",
      "You just earned 5 points!\n"
     ]
    }
   ],
   "execution_count": 26
  },
  {
   "metadata": {},
   "cell_type": "markdown",
   "source": "#### &emsp;Adding New Key-Value Pairs ",
   "id": "ace153bd2584caed"
  },
  {
   "metadata": {
    "ExecuteTime": {
     "end_time": "2024-06-30T09:21:54.742122Z",
     "start_time": "2024-06-30T09:21:54.735211Z"
    }
   },
   "cell_type": "code",
   "source": [
    "# Adding New Key-Value Pairs - alien.py\n",
    "alien_0 = {'color': 'green', 'points': 5}\n",
    "print(alien_0)\n",
    "\n",
    "alien_0['x_position'] = 0  # Dictionaries are Dynamic, so you can add key-value pairs\n",
    "alien_0['y_position'] = 25\n",
    "print(alien_0)"
   ],
   "id": "9ca8c0fdd130472a",
   "outputs": [
    {
     "name": "stdout",
     "output_type": "stream",
     "text": [
      "{'color': 'green', 'points': 5}\n",
      "{'color': 'green', 'points': 5, 'x_position': 0, 'y_position': 25}\n"
     ]
    }
   ],
   "execution_count": 27
  },
  {
   "metadata": {},
   "cell_type": "markdown",
   "source": "#### &emsp;Starting with an Empty Dictionary",
   "id": "7dbb9ac16e4532e4"
  },
  {
   "metadata": {
    "ExecuteTime": {
     "end_time": "2024-06-30T09:21:54.749364Z",
     "start_time": "2024-06-30T09:21:54.747125Z"
    }
   },
   "cell_type": "code",
   "source": [
    "# Staring With an Empty Dictionary - alien.py\n",
    "alien_0 = {}\n",
    "print(alien_0)\n",
    "\n",
    "alien_0['color'] = 'green'\n",
    "alien_0['points'] = 5\n",
    "print(alien_0)"
   ],
   "id": "368d5b40a3961672",
   "outputs": [
    {
     "name": "stdout",
     "output_type": "stream",
     "text": [
      "{}\n",
      "{'color': 'green', 'points': 5}\n"
     ]
    }
   ],
   "execution_count": 28
  },
  {
   "metadata": {},
   "cell_type": "markdown",
   "source": "#### &emsp;Modifying Values in a Dictionary ",
   "id": "dae63214d7a78301"
  },
  {
   "metadata": {
    "ExecuteTime": {
     "end_time": "2024-06-30T09:21:54.756826Z",
     "start_time": "2024-06-30T09:21:54.751367Z"
    }
   },
   "cell_type": "code",
   "source": [
    "# Modifying Values in a Dictionary - alien.py\n",
    "alien_0 = {'color': 'green'}\n",
    "print(f\"The alien is {alien_0['color']}.\")\n",
    "\n",
    "alien_0['color'] = 'yellow'\n",
    "print(f\"The alien is now {alien_0['color']}.\\n\")\n",
    "\n",
    "alien_0 = {'x_position': 0, 'y_position': 25, 'speed': 'medium'}  # Complex Example\n",
    "print(f\"Original position: {alien_0['x_position']}\")\n",
    "\n",
    "if alien_0['speed'] == 'slow':\n",
    "    x_increment = 1\n",
    "elif alien_0['speed'] == 'medium':\n",
    "    x_increment = 2\n",
    "else:\n",
    "    x_increment = 3\n",
    "\n",
    "alien_0['x_position'] = alien_0['x_position'] + x_increment  # Modifying Position\n",
    "print(f\"New position: {alien_0['x_position']}\")"
   ],
   "id": "c6125e8e076e8319",
   "outputs": [
    {
     "name": "stdout",
     "output_type": "stream",
     "text": [
      "The alien is green.\n",
      "The alien is now yellow.\n",
      "\n",
      "Original position: 0\n",
      "New position: 2\n"
     ]
    }
   ],
   "execution_count": 29
  },
  {
   "metadata": {},
   "cell_type": "markdown",
   "source": "#### &emsp;Removing Key-Value Pairs ",
   "id": "59221fdc022f459a"
  },
  {
   "metadata": {
    "ExecuteTime": {
     "end_time": "2024-06-30T09:21:54.763486Z",
     "start_time": "2024-06-30T09:21:54.760828Z"
    }
   },
   "cell_type": "code",
   "source": [
    "# Removing Key-Value Pairs - alien.py\n",
    "alien_0 = {'color': 'green', 'points': 5}\n",
    "print(alien_0)\n",
    "\n",
    "del alien_0['points']  # Simply use DEL to remove the unwanted Key-value\n",
    "print(alien_0)"
   ],
   "id": "fda9469d1e051f20",
   "outputs": [
    {
     "name": "stdout",
     "output_type": "stream",
     "text": [
      "{'color': 'green', 'points': 5}\n",
      "{'color': 'green'}\n"
     ]
    }
   ],
   "execution_count": 30
  },
  {
   "metadata": {},
   "cell_type": "markdown",
   "source": "#### &emsp;A Dictionary of Similar Objects ",
   "id": "de41f2d84baf18cc"
  },
  {
   "metadata": {
    "ExecuteTime": {
     "end_time": "2024-06-30T09:21:54.820356Z",
     "start_time": "2024-06-30T09:21:54.817998Z"
    }
   },
   "cell_type": "code",
   "source": [
    "# A Dictionary of Similar Objects - favorite_languages.py\n",
    "favorite_languages = {\n",
    "    'jen': 'python',\n",
    "    'sarah': 'c',\n",
    "    'edward': 'ruby',\n",
    "    'phil': 'python',\n",
    "    }\n",
    "\n",
    "language = favorite_languages['sarah'].title()\n",
    "print(f\"Sarah's favorite language is {language}.\")"
   ],
   "id": "768aec16f3883489",
   "outputs": [
    {
     "name": "stdout",
     "output_type": "stream",
     "text": [
      "Sarah's favorite language is C.\n"
     ]
    }
   ],
   "execution_count": 31
  },
  {
   "metadata": {},
   "cell_type": "markdown",
   "source": "#### &emsp;Using get() to Access Values ",
   "id": "e187fcbfa291c95"
  },
  {
   "metadata": {
    "ExecuteTime": {
     "end_time": "2024-06-30T09:21:54.829383Z",
     "start_time": "2024-06-30T09:21:54.826359Z"
    }
   },
   "cell_type": "code",
   "source": [
    "# Using get() to Access Values - alien_no_points.py\n",
    "alien_0 = {'color': 'green', 'speed': 'slow'}\n",
    "#print(alien_0['points'])  # This returns ERROR as POINTS don't EXIST\n",
    "\n",
    "point_value = alien_0.get('points', 'No point value assigned.')  # Use get() method to set a default value that will \n",
    "print(point_value)                                               # be returned if the requested key doesn’t exist"
   ],
   "id": "99902cab4bd77bee",
   "outputs": [
    {
     "name": "stdout",
     "output_type": "stream",
     "text": [
      "No point value assigned.\n"
     ]
    }
   ],
   "execution_count": 32
  },
  {
   "metadata": {},
   "cell_type": "markdown",
   "source": "#### &emsp;Exercise 6-1: Person ",
   "id": "9c61e5155f4ee582"
  },
  {
   "metadata": {
    "ExecuteTime": {
     "end_time": "2024-06-30T09:21:54.836694Z",
     "start_time": "2024-06-30T09:21:54.830387Z"
    }
   },
   "cell_type": "code",
   "source": [
    "# 6-1 Person\n",
    "person = {\n",
    "    'first_name': 'Lucio',\n",
    "    'last_name': 'Seneca',\n",
    "    'age': '69',\n",
    "    'city': 'Cordoba',\n",
    "}\n",
    "print(person)\n",
    "print(f\"His name was {person['first_name']}.\")\n",
    "print(f\"His last name was {person['last_name']}.\")\n",
    "print(f\"he died at the age of {person['age']}.\")\n",
    "print(f\"The city he was born was {person['city']}.\")"
   ],
   "id": "b18eb6f91f596457",
   "outputs": [
    {
     "name": "stdout",
     "output_type": "stream",
     "text": [
      "{'first_name': 'Lucio', 'last_name': 'Seneca', 'age': '69', 'city': 'Cordoba'}\n",
      "His name was Lucio.\n",
      "His last name was Seneca.\n",
      "he died at the age of 69.\n",
      "The city he was born was Cordoba.\n"
     ]
    }
   ],
   "execution_count": 33
  },
  {
   "metadata": {},
   "cell_type": "markdown",
   "source": "#### &emsp;Exercise 6-2: Favorite Numbers ",
   "id": "cae3b10bd076af1e"
  },
  {
   "metadata": {
    "ExecuteTime": {
     "end_time": "2024-06-30T09:21:54.844284Z",
     "start_time": "2024-06-30T09:21:54.836694Z"
    }
   },
   "cell_type": "code",
   "source": [
    "# 6-2 Favorite Numbers\n",
    "fav_numbers = {\n",
    "    'seneca': '10',\n",
    "    'platon': '6',\n",
    "    'aristoteles': '1',\n",
    "    'zenon': '9',\n",
    "    'diogenes': '3'\n",
    "}\n",
    "\n",
    "for key, value in fav_numbers.items():\n",
    "    print(f\"{key.title()}'s favorite number is {value}!\")\n"
   ],
   "id": "4fa03000e29747ef",
   "outputs": [
    {
     "name": "stdout",
     "output_type": "stream",
     "text": [
      "Seneca's favorite number is 10!\n",
      "Platon's favorite number is 6!\n",
      "Aristoteles's favorite number is 1!\n",
      "Zenon's favorite number is 9!\n",
      "Diogenes's favorite number is 3!\n"
     ]
    }
   ],
   "execution_count": 34
  },
  {
   "metadata": {},
   "cell_type": "markdown",
   "source": "#### &emsp;Exercise 6-3: Glossary",
   "id": "ef59cfc072ccafe2"
  },
  {
   "metadata": {
    "ExecuteTime": {
     "end_time": "2024-06-30T09:21:54.881674Z",
     "start_time": "2024-06-30T09:21:54.879287Z"
    }
   },
   "cell_type": "code",
   "source": [
    "# 6-3 Glossary\n",
    "glossary = {\n",
    "    'variable': 'An item where you can store a value all the times you want.',\n",
    "    'list': 'A group of items, that can be modified.',\n",
    "    'tuple': 'A group of items, that can not be modified.',\n",
    "    'float': 'A type of variable used to store a floating point number.',\n",
    "    'string': 'A type of variable used to store text.'\n",
    "    }\n",
    "\n",
    "for key, value in glossary.items():\n",
    "    print(f'{key.title()}: {value}\\n')\n"
   ],
   "id": "3f1128faca33356b",
   "outputs": [
    {
     "name": "stdout",
     "output_type": "stream",
     "text": [
      "Variable: An item where you can store a value all the times you want.\n",
      "\n",
      "List: A group of items, that can be modified.\n",
      "\n",
      "Tuple: A group of items, that can not be modified.\n",
      "\n",
      "Float: A type of variable used to store a floating point number.\n",
      "\n",
      "String: A type of variable used to store text.\n",
      "\n"
     ]
    }
   ],
   "execution_count": 35
  },
  {
   "metadata": {},
   "cell_type": "markdown",
   "source": "### __Looping Through a Dictionary__",
   "id": "a3fbcc7616a78380"
  },
  {
   "metadata": {},
   "cell_type": "markdown",
   "source": "#### &emsp;Looping Through All Key-Value Pairs ",
   "id": "5909b4ae42caf39a"
  },
  {
   "metadata": {
    "ExecuteTime": {
     "end_time": "2024-06-30T09:21:54.892150Z",
     "start_time": "2024-06-30T09:21:54.889681Z"
    }
   },
   "cell_type": "code",
   "source": [
    "# Looping Through All Key-Value Pairs - user.py\n",
    "user_0 = {\n",
    "    'username': 'efermi',\n",
    "    'first': 'enrico',\n",
    "    'last': 'fermi',\n",
    "    }\n",
    "\n",
    "for key, value in user_0.items():\n",
    "    print(f'\\nKey: {key}')\n",
    "    print(f'Value: {value}')\n"
   ],
   "id": "ce5f72b09a125aaa",
   "outputs": [
    {
     "name": "stdout",
     "output_type": "stream",
     "text": [
      "\n",
      "Key: username\n",
      "Value: efermi\n",
      "\n",
      "Key: first\n",
      "Value: enrico\n",
      "\n",
      "Key: last\n",
      "Value: fermi\n"
     ]
    }
   ],
   "execution_count": 36
  },
  {
   "metadata": {
    "ExecuteTime": {
     "end_time": "2024-06-30T09:21:54.903431Z",
     "start_time": "2024-06-30T09:21:54.900658Z"
    }
   },
   "cell_type": "code",
   "source": [
    "# Looping Through All Key-Value Pairs - favorite_languages.py\n",
    "favorite_languages = {\n",
    "    'jen': 'python',\n",
    "    'sarah': 'c',\n",
    "    'edward': 'ruby',\n",
    "    'phil': 'python',\n",
    "    }\n",
    "\n",
    "for name, language in favorite_languages.items():\n",
    "    print(f\"{name.title()}'s favorite language is {language}.\")\n"
   ],
   "id": "4f4ed39d6f8e01ae",
   "outputs": [
    {
     "name": "stdout",
     "output_type": "stream",
     "text": [
      "Jen's favorite language is python.\n",
      "Sarah's favorite language is c.\n",
      "Edward's favorite language is ruby.\n",
      "Phil's favorite language is python.\n"
     ]
    }
   ],
   "execution_count": 37
  },
  {
   "metadata": {},
   "cell_type": "markdown",
   "source": "#### &emsp;Looping Through All the Keys in a Dictionary ",
   "id": "46e1463371b8036"
  },
  {
   "metadata": {
    "ExecuteTime": {
     "end_time": "2024-06-30T09:21:54.914525Z",
     "start_time": "2024-06-30T09:21:54.912433Z"
    }
   },
   "cell_type": "code",
   "source": [
    "# Looping Through All the Keys in a Dictionary - favorite_languages.py\n",
    "favorite_languages = {\n",
    "    'jen': 'python',\n",
    "    'sarah': 'c',\n",
    "    'edward': 'ruby',\n",
    "    'phil': 'python',\n",
    "    }\n",
    "\n",
    "for name in favorite_languages.keys():\n",
    "    print(name.title())"
   ],
   "id": "d11fcc2f1f52e08a",
   "outputs": [
    {
     "name": "stdout",
     "output_type": "stream",
     "text": [
      "Jen\n",
      "Sarah\n",
      "Edward\n",
      "Phil\n"
     ]
    }
   ],
   "execution_count": 38
  },
  {
   "metadata": {},
   "cell_type": "markdown",
   "source": [
    "Looping through the keys is actually the default behavior when looping\n",
    "through a dictionary.\n",
    "`for name in favorite_languages:`\n",
    "returns the same as\n",
    "`for name in favorite_languages.keys():`"
   ],
   "id": "fb8169730f9e561c"
  },
  {
   "metadata": {
    "ExecuteTime": {
     "end_time": "2024-06-30T09:21:54.921965Z",
     "start_time": "2024-06-30T09:21:54.915528Z"
    }
   },
   "cell_type": "code",
   "source": [
    "# Looping Through All the Keys in a Dictionary - favorite_languages.py\n",
    "friends = ['sarah', 'edward']\n",
    "for name in favorite_languages.keys():\n",
    "    print(name.title())\n",
    "    \n",
    "    if name in friends:\n",
    "        language = favorite_languages[name].title()\n",
    "        print(f\"\\t{name.title()}, I see you love {language}!\")"
   ],
   "id": "f2644120a8c18395",
   "outputs": [
    {
     "name": "stdout",
     "output_type": "stream",
     "text": [
      "Jen\n",
      "Sarah\n",
      "\tSarah, I see you love C!\n",
      "Edward\n",
      "\tEdward, I see you love Ruby!\n",
      "Phil\n"
     ]
    }
   ],
   "execution_count": 39
  },
  {
   "metadata": {},
   "cell_type": "markdown",
   "source": "You can also use the keys() method to find out if a particular person was polled.",
   "id": "6e0834d111791fbe"
  },
  {
   "metadata": {
    "ExecuteTime": {
     "end_time": "2024-06-30T09:21:54.958662Z",
     "start_time": "2024-06-30T09:21:54.955968Z"
    }
   },
   "cell_type": "code",
   "source": [
    "# Looping Through All the Keys in a Dictionary - favorite_languages.py\n",
    "if 'erin' not in favorite_languages.keys():\n",
    "    print(\"Erin, please take our poll!\")"
   ],
   "id": "6c96c4e9a24e4d1b",
   "outputs": [
    {
     "name": "stdout",
     "output_type": "stream",
     "text": [
      "Erin, please take our poll!\n"
     ]
    }
   ],
   "execution_count": 40
  },
  {
   "metadata": {},
   "cell_type": "markdown",
   "source": "#### &emsp;Looping Through a Dictionary’s Keys in a Particular Order ",
   "id": "477145ea23c3092a"
  },
  {
   "metadata": {
    "ExecuteTime": {
     "end_time": "2024-06-30T09:21:54.970913Z",
     "start_time": "2024-06-30T09:21:54.968665Z"
    }
   },
   "cell_type": "code",
   "source": [
    "# Looping Through a Dictionary’s Keys in a Particular Order - favorite_languages.py\n",
    "favorite_languages = {\n",
    "    'jen': 'python',\n",
    "    'sarah': 'c',\n",
    "    'edward': 'ruby',\n",
    "    'phil': 'python',\n",
    "    }\n",
    "\n",
    "for name in sorted(favorite_languages.keys()):\n",
    "    print(f\"{name.title()}, thank you for taking the poll.\")"
   ],
   "id": "38ab85a79e450cc5",
   "outputs": [
    {
     "name": "stdout",
     "output_type": "stream",
     "text": [
      "Edward, thank you for taking the poll.\n",
      "Jen, thank you for taking the poll.\n",
      "Phil, thank you for taking the poll.\n",
      "Sarah, thank you for taking the poll.\n"
     ]
    }
   ],
   "execution_count": 41
  },
  {
   "metadata": {},
   "cell_type": "markdown",
   "source": "#### &emsp;Looping Through All Values in a Dictionary ",
   "id": "365007350e0da8d4"
  },
  {
   "metadata": {
    "ExecuteTime": {
     "end_time": "2024-06-30T09:21:54.979759Z",
     "start_time": "2024-06-30T09:21:54.976916Z"
    }
   },
   "cell_type": "code",
   "source": [
    "# Looping Through All Values in a Dictionary - favorite_languages.py\n",
    "favorite_languages = {\n",
    "    'jen': 'python',\n",
    "    'sarah': 'c',\n",
    "    'edward': 'ruby',\n",
    "    'phil': 'python',\n",
    "    }\n",
    "\n",
    "print(\"The following languages have been mentioned:\")\n",
    "for language in favorite_languages.values():\n",
    "    print(language.title())"
   ],
   "id": "f9b278fb25d436ca",
   "outputs": [
    {
     "name": "stdout",
     "output_type": "stream",
     "text": [
      "The following languages have been mentioned:\n",
      "Python\n",
      "C\n",
      "Ruby\n",
      "Python\n"
     ]
    }
   ],
   "execution_count": 42
  },
  {
   "metadata": {},
   "cell_type": "markdown",
   "source": "A set is a collection in which each item must be unique.",
   "id": "a055b8e9c1111a93"
  },
  {
   "metadata": {
    "ExecuteTime": {
     "end_time": "2024-06-30T09:21:55.026472Z",
     "start_time": "2024-06-30T09:21:55.024273Z"
    }
   },
   "cell_type": "code",
   "source": [
    "favorite_languages = {  # set() example to remove duplicates\n",
    "    'jen': 'python',\n",
    "    'sarah': 'c',\n",
    "    'edward': 'ruby',\n",
    "    'phil': 'python',\n",
    "    }\n",
    "\n",
    "print(\"The following languages have been mentioned:\")\n",
    "for language in set(favorite_languages.values()):  # By using set(), now Python will only appear 1 time\n",
    "    print(language.title())"
   ],
   "id": "80db6aecad7303fe",
   "outputs": [
    {
     "name": "stdout",
     "output_type": "stream",
     "text": [
      "The following languages have been mentioned:\n",
      "C\n",
      "Ruby\n",
      "Python\n"
     ]
    }
   ],
   "execution_count": 43
  },
  {
   "metadata": {},
   "cell_type": "markdown",
   "source": "You can build a set directly using braces and separating the elements with commas:",
   "id": "8a7271a81e1bb9af"
  },
  {
   "metadata": {
    "ExecuteTime": {
     "end_time": "2024-06-30T09:21:55.043489Z",
     "start_time": "2024-06-30T09:21:55.040476Z"
    }
   },
   "cell_type": "code",
   "source": [
    "languages = {'python', 'ruby', 'python', 'c'}\n",
    "languages"
   ],
   "id": "5f9a12b84baca99b",
   "outputs": [
    {
     "data": {
      "text/plain": [
       "{'c', 'python', 'ruby'}"
      ]
     },
     "execution_count": 44,
     "metadata": {},
     "output_type": "execute_result"
    }
   ],
   "execution_count": 44
  },
  {
   "metadata": {},
   "cell_type": "markdown",
   "source": "#### &emsp;Exercise 6-4: Glossary 2 ",
   "id": "2d286c7a9186c062"
  },
  {
   "metadata": {
    "ExecuteTime": {
     "end_time": "2024-06-30T09:21:55.055508Z",
     "start_time": "2024-06-30T09:21:55.052491Z"
    }
   },
   "cell_type": "code",
   "source": [
    "# 6-4 Glossary 2\n",
    "glossary = {\n",
    "    'variable': 'An item where you can store a value all the times you want.',\n",
    "    'list': 'A group of items, that can be modified.',\n",
    "    'tuple': 'A group of items, that can not be modified.',\n",
    "    'float': 'A type of variable used to store a floating point number.',\n",
    "    'string': 'A type of variable used to store text.',\n",
    "    'integer': 'An item where you can store a whole number.',\n",
    "    'slice': 'The action of taking just a part of a list.',\n",
    "    'dictionary': 'A collection of key-value pairs.',\n",
    "    'set': 'The unique elements that dont repeat in a list of items.',\n",
    "    'boolean': 'A type of variable used to store a state.'\n",
    "    }\n",
    "\n",
    "for key, value in glossary.items():\n",
    "    print(f'{key.title()}: {value}\\n')\n"
   ],
   "id": "86a107edf6f6e5ac",
   "outputs": [
    {
     "name": "stdout",
     "output_type": "stream",
     "text": [
      "Variable: An item where you can store a value all the times you want.\n",
      "\n",
      "List: A group of items, that can be modified.\n",
      "\n",
      "Tuple: A group of items, that can not be modified.\n",
      "\n",
      "Float: A type of variable used to store a floating point number.\n",
      "\n",
      "String: A type of variable used to store text.\n",
      "\n",
      "Integer: An item where you can store a whole number.\n",
      "\n",
      "Slice: The action of taking just a part of a list.\n",
      "\n",
      "Dictionary: A collection of key-value pairs.\n",
      "\n",
      "Set: The unique elements that dont repeat in a list of items.\n",
      "\n",
      "Boolean: A type of variable used to store a state.\n",
      "\n"
     ]
    }
   ],
   "execution_count": 45
  },
  {
   "metadata": {},
   "cell_type": "markdown",
   "source": "#### &emsp;Exercise 6-5: Rivers",
   "id": "afc35576615dca1b"
  },
  {
   "metadata": {
    "ExecuteTime": {
     "end_time": "2024-06-30T09:21:55.064542Z",
     "start_time": "2024-06-30T09:21:55.061511Z"
    }
   },
   "cell_type": "code",
   "source": [
    "# 6-5 Rivers\n",
    "rivers = {\n",
    "    'senna': 'france',\n",
    "    'thames': 'england',\n",
    "    'ebro': 'spain'\n",
    "    }\n",
    "\n",
    "for river, country in rivers.items():\n",
    "    print(f\"The {river.title()} runs through {country.title()}.\")\n",
    "\n",
    "print(\"\\nThis is the list of all the rivers:\")\n",
    "for river in rivers.keys():  # The .keys() method can be omitted here as its the default\n",
    "    print(river.title())\n",
    "\n",
    "print(\"\\nThis is the list of all the countries:\")\n",
    "for country in rivers.values():\n",
    "    print(country.title())\n"
   ],
   "id": "2925e5cc332dd1d6",
   "outputs": [
    {
     "name": "stdout",
     "output_type": "stream",
     "text": [
      "The Senna runs through France.\n",
      "The Thames runs through England.\n",
      "The Ebro runs through Spain.\n",
      "\n",
      "This is the list of all the rivers:\n",
      "Senna\n",
      "Thames\n",
      "Ebro\n",
      "\n",
      "This is the list of all the countries:\n",
      "France\n",
      "England\n",
      "Spain\n"
     ]
    }
   ],
   "execution_count": 46
  },
  {
   "metadata": {},
   "cell_type": "markdown",
   "source": "#### &emsp;Exercise 6-6: Polling ",
   "id": "38b8406b100643d8"
  },
  {
   "metadata": {
    "ExecuteTime": {
     "end_time": "2024-06-30T09:21:55.096526Z",
     "start_time": "2024-06-30T09:21:55.093547Z"
    }
   },
   "cell_type": "code",
   "source": [
    "# 6-6 Polling\n",
    "favorite_languages = {\n",
    "    'jen': 'python',\n",
    "    'sarah': 'c',\n",
    "    'edward': 'ruby',\n",
    "    'phil': 'python',\n",
    "    }\n",
    "\n",
    "people = ['john', 'sarah', 'steve', 'edward', 'mathew']\n",
    "\n",
    "for name in people:\n",
    "    if name in favorite_languages.keys():\n",
    "        print(f\"{name.title()}, thanks for taking the poll.\")\n",
    "    if name not in favorite_languages.keys():\n",
    "        print(f\"{name.title()}, please take the poll.\")\n"
   ],
   "id": "f2d412dde2804313",
   "outputs": [
    {
     "name": "stdout",
     "output_type": "stream",
     "text": [
      "John, please take the poll.\n",
      "Sarah, thanks for taking the poll.\n",
      "Steve, please take the poll.\n",
      "Edward, thanks for taking the poll.\n",
      "Mathew, please take the poll.\n"
     ]
    }
   ],
   "execution_count": 47
  },
  {
   "metadata": {},
   "cell_type": "markdown",
   "source": "### __Nesting__",
   "id": "d832757b4405286d"
  },
  {
   "metadata": {},
   "cell_type": "markdown",
   "source": "#### &emsp;A List of Dictionaries",
   "id": "8bd7a577a748ca36"
  },
  {
   "metadata": {
    "ExecuteTime": {
     "end_time": "2024-06-30T09:21:55.111384Z",
     "start_time": "2024-06-30T09:21:55.109037Z"
    }
   },
   "cell_type": "code",
   "source": [
    "# A List of Dictionaries - aliens.py\n",
    "alien_0 = {'color': 'green', 'points': 5}\n",
    "alien_1 = {'color': 'yellow', 'points': 10}\n",
    "alien_2 = {'color': 'red', 'points': 15}\n",
    "\n",
    "aliens = [alien_0, alien_1, alien_2]\n",
    "\n",
    "for alien in aliens:\n",
    "    print(alien)"
   ],
   "id": "996b83db555ddc36",
   "outputs": [
    {
     "name": "stdout",
     "output_type": "stream",
     "text": [
      "{'color': 'green', 'points': 5}\n",
      "{'color': 'yellow', 'points': 10}\n",
      "{'color': 'red', 'points': 15}\n"
     ]
    }
   ],
   "execution_count": 48
  },
  {
   "metadata": {},
   "cell_type": "markdown",
   "source": "If we want to create a lot of Aliens we can use range() ",
   "id": "2b1ae90e983890e7"
  },
  {
   "metadata": {
    "ExecuteTime": {
     "end_time": "2024-06-30T09:21:55.121850Z",
     "start_time": "2024-06-30T09:21:55.119387Z"
    }
   },
   "cell_type": "code",
   "source": [
    "# A List of Dictionaries - aliens.py\n",
    "aliens = []  # Empty list of aliens\n",
    "\n",
    "for alien_number in range(30):  # We will create 30 aliens\n",
    "    new_alien = {'color': 'green', 'points': 5, 'speed': 'slow'}\n",
    "    aliens.append(new_alien)\n",
    "\n",
    "print(\"The first 5 aliens are:\")\n",
    "for alien in aliens[:5]:  # This will show the first 5 created\n",
    "    print(alien)\n",
    "\n",
    "print(f\"\\nTotal number of aliens: {len(aliens)}\")\n"
   ],
   "id": "28e839f21a61ba44",
   "outputs": [
    {
     "name": "stdout",
     "output_type": "stream",
     "text": [
      "The first 5 aliens are:\n",
      "{'color': 'green', 'points': 5, 'speed': 'slow'}\n",
      "{'color': 'green', 'points': 5, 'speed': 'slow'}\n",
      "{'color': 'green', 'points': 5, 'speed': 'slow'}\n",
      "{'color': 'green', 'points': 5, 'speed': 'slow'}\n",
      "{'color': 'green', 'points': 5, 'speed': 'slow'}\n",
      "\n",
      "Total number of aliens: 30\n"
     ]
    }
   ],
   "execution_count": 49
  },
  {
   "metadata": {},
   "cell_type": "markdown",
   "source": "We can now modify each of the 30 aliens created individually.",
   "id": "3d38293649df2f1b"
  },
  {
   "metadata": {
    "ExecuteTime": {
     "end_time": "2024-06-30T09:21:55.178426Z",
     "start_time": "2024-06-30T09:21:55.174853Z"
    }
   },
   "cell_type": "code",
   "source": [
    "# A List of Dictionaries - aliens.py\n",
    "aliens = []  # Empty list of aliens\n",
    "\n",
    "for alien_number in range(30):  # We will create 30 aliens\n",
    "    new_alien = {'color': 'green', 'points': 5, 'speed': 'slow'}\n",
    "    aliens.append(new_alien)\n",
    "    \n",
    "for alien in aliens[:3]:  # Modifying the 3 first aliens created\n",
    "    if alien['color'] == 'green':\n",
    "        alien['color'] = 'yellow'\n",
    "        alien['speed'] = 'medium'\n",
    "        alien['points'] = '10'\n",
    "\n",
    "print(\"The first 5 aliens are:\")\n",
    "for alien in aliens[:5]:  # This will show the first 5 created\n",
    "    print(alien)\n",
    "\n",
    "print(f\"\\nTotal number of aliens: {len(aliens)}\")"
   ],
   "id": "5c2e85a161087eac",
   "outputs": [
    {
     "name": "stdout",
     "output_type": "stream",
     "text": [
      "The first 5 aliens are:\n",
      "{'color': 'yellow', 'points': '10', 'speed': 'medium'}\n",
      "{'color': 'yellow', 'points': '10', 'speed': 'medium'}\n",
      "{'color': 'yellow', 'points': '10', 'speed': 'medium'}\n",
      "{'color': 'green', 'points': 5, 'speed': 'slow'}\n",
      "{'color': 'green', 'points': 5, 'speed': 'slow'}\n",
      "\n",
      "Total number of aliens: 30\n"
     ]
    }
   ],
   "execution_count": 50
  },
  {
   "metadata": {},
   "cell_type": "markdown",
   "source": "#### &emsp;A List in a Dictionary",
   "id": "998f6e0aae521d00"
  },
  {
   "metadata": {
    "ExecuteTime": {
     "end_time": "2024-06-30T09:21:55.188647Z",
     "start_time": "2024-06-30T09:21:55.186432Z"
    }
   },
   "cell_type": "code",
   "source": [
    "# A List in a Dictionary - pizza.py\n",
    "pizza = {\n",
    "    'crust': 'thick',\n",
    "    'toppings': ['mushrooms', 'extra cheese']  # We created a LIST inside the value of a Dictionary\n",
    "    }\n",
    "\n",
    "print(f\"You ordered a {pizza['crust']}-crust pizza with the following toppings:\")\n",
    "\n",
    "for topping in pizza['toppings']:\n",
    "    print(f\"- {topping}\")\n"
   ],
   "id": "1c5d9766d158a521",
   "outputs": [
    {
     "name": "stdout",
     "output_type": "stream",
     "text": [
      "You ordered a thick-crust pizza with the following toppings:\n",
      "- mushrooms\n",
      "- extra cheese\n"
     ]
    }
   ],
   "execution_count": 51
  },
  {
   "metadata": {
    "ExecuteTime": {
     "end_time": "2024-06-30T09:21:55.199023Z",
     "start_time": "2024-06-30T09:21:55.196651Z"
    }
   },
   "cell_type": "code",
   "source": [
    "# A List in a Dictionary - favorite_languages.py\n",
    "favorite_languages = {  # We added more than 1 favorite language turning each value into a LIST inside the Dictionary\n",
    "    'jen': ['python', 'ruby'],\n",
    "    'sarah': ['c'],\n",
    "    'edward': ['ruby', 'go'],\n",
    "    'phil': ['python', 'haskell']\n",
    "    }\n",
    "\n",
    "for name, languages in favorite_languages.items():\n",
    "    print(f\"{name.title()}'s favorite language are:\")\n",
    "    for language in languages:\n",
    "        print(f\"\\t{language.title()}\")"
   ],
   "id": "e6c626b92e6df9d1",
   "outputs": [
    {
     "name": "stdout",
     "output_type": "stream",
     "text": [
      "Jen's favorite language are:\n",
      "\tPython\n",
      "\tRuby\n",
      "Sarah's favorite language are:\n",
      "\tC\n",
      "Edward's favorite language are:\n",
      "\tRuby\n",
      "\tGo\n",
      "Phil's favorite language are:\n",
      "\tPython\n",
      "\tHaskell\n"
     ]
    }
   ],
   "execution_count": 52
  },
  {
   "metadata": {},
   "cell_type": "markdown",
   "source": "#### &emsp;A Dictionary in a Dictionary",
   "id": "20485ce571ae01c7"
  },
  {
   "metadata": {
    "ExecuteTime": {
     "end_time": "2024-06-30T09:21:55.236590Z",
     "start_time": "2024-06-30T09:21:55.225026Z"
    }
   },
   "cell_type": "code",
   "source": [
    "# A Dictionary in a Dictionary - many_users.py\n",
    "users = {  # We nest a Dictionary inside the value of each key from the first Dictionary\n",
    "    'aeinstein': {  \n",
    "        'first': 'albert',\n",
    "        'last': 'einstein',\n",
    "        'location': 'princeton'},\n",
    "    'mcurie': {\n",
    "        'first': 'marie',\n",
    "        'last': 'curie',\n",
    "        'location': 'paris'}\n",
    "    }\n",
    "\n",
    "for username, user_info in users.items():  # Nesting quickly adds complexity to the code\n",
    "    print(f\"\\nUsername: {username}\")\n",
    "    full_name = f\"{user_info['first']} {user_info['last']}\"\n",
    "    location = user_info['location']\n",
    "\n",
    "    print(f\"\\tFull name: {full_name.title()}\")\n",
    "    print(f\"\\tLocation: {location.title()}\")"
   ],
   "id": "ef03d3fe298f1e7b",
   "outputs": [
    {
     "name": "stdout",
     "output_type": "stream",
     "text": [
      "\n",
      "Username: aeinstein\n",
      "\tFull name: Albert Einstein\n",
      "\tLocation: Princeton\n",
      "\n",
      "Username: mcurie\n",
      "\tFull name: Marie Curie\n",
      "\tLocation: Paris\n"
     ]
    }
   ],
   "execution_count": 53
  },
  {
   "metadata": {},
   "cell_type": "markdown",
   "source": "#### &emsp;Exercise 6-7: People",
   "id": "49769e9c4c649145"
  },
  {
   "metadata": {
    "ExecuteTime": {
     "end_time": "2024-06-30T09:21:55.246959Z",
     "start_time": "2024-06-30T09:21:55.245593Z"
    }
   },
   "cell_type": "code",
   "source": "",
   "id": "88628d77b6762eaf",
   "outputs": [],
   "execution_count": 53
  },
  {
   "metadata": {},
   "cell_type": "markdown",
   "source": "#### &emsp;Exercise 6-8: Pets",
   "id": "3bcaff018e6fcb45"
  },
  {
   "metadata": {
    "ExecuteTime": {
     "end_time": "2024-06-30T09:21:55.256417Z",
     "start_time": "2024-06-30T09:21:55.254961Z"
    }
   },
   "cell_type": "code",
   "source": "",
   "id": "b9ecf575e734db3d",
   "outputs": [],
   "execution_count": 53
  },
  {
   "metadata": {},
   "cell_type": "markdown",
   "source": "#### &emsp;Exercise 6-9: Favorite Places",
   "id": "97edbb5b7f47df26"
  },
  {
   "metadata": {
    "ExecuteTime": {
     "end_time": "2024-06-30T09:21:55.265914Z",
     "start_time": "2024-06-30T09:21:55.264419Z"
    }
   },
   "cell_type": "code",
   "source": "",
   "id": "c727b6a33413ba56",
   "outputs": [],
   "execution_count": 53
  },
  {
   "metadata": {},
   "cell_type": "markdown",
   "source": "#### &emsp;Exercise 6-10: Favorite Numbers",
   "id": "b4efeae7b07a61c"
  },
  {
   "metadata": {
    "ExecuteTime": {
     "end_time": "2024-06-30T09:21:55.298424Z",
     "start_time": "2024-06-30T09:21:55.296919Z"
    }
   },
   "cell_type": "code",
   "source": "",
   "id": "3a63bf3fc12f0e83",
   "outputs": [],
   "execution_count": 53
  },
  {
   "metadata": {},
   "cell_type": "markdown",
   "source": "#### &emsp;Exercise 6-11: Cities",
   "id": "9140fcc1260d498b"
  },
  {
   "metadata": {
    "ExecuteTime": {
     "end_time": "2024-06-30T09:21:55.307138Z",
     "start_time": "2024-06-30T09:21:55.305427Z"
    }
   },
   "cell_type": "code",
   "source": "",
   "id": "3b47a870302516e0",
   "outputs": [],
   "execution_count": 53
  },
  {
   "metadata": {},
   "cell_type": "markdown",
   "source": "#### &emsp;Exercise 6-12: Extensions",
   "id": "d568c05906a50061"
  },
  {
   "metadata": {
    "ExecuteTime": {
     "end_time": "2024-06-30T09:21:55.316040Z",
     "start_time": "2024-06-30T09:21:55.314142Z"
    }
   },
   "cell_type": "code",
   "source": "",
   "id": "51a8a6b1e9036c89",
   "outputs": [],
   "execution_count": 53
  },
  {
   "metadata": {},
   "cell_type": "markdown",
   "source": "### __Summary__",
   "id": "ad12b18d8ce3e5d6"
  }
 ],
 "metadata": {
  "kernelspec": {
   "display_name": "Python 3",
   "language": "python",
   "name": "python3"
  },
  "language_info": {
   "codemirror_mode": {
    "name": "ipython",
    "version": 2
   },
   "file_extension": ".py",
   "mimetype": "text/x-python",
   "name": "python",
   "nbconvert_exporter": "python",
   "pygments_lexer": "ipython2",
   "version": "2.7.6"
  }
 },
 "nbformat": 4,
 "nbformat_minor": 5
}
