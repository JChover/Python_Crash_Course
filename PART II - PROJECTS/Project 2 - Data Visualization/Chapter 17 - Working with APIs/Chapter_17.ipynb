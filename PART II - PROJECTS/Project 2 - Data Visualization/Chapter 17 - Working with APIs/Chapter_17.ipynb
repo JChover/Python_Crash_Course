{
 "cells": [
  {
   "metadata": {},
   "cell_type": "markdown",
   "source": "# Chapter 17 - Working with APIs",
   "id": "cdea1e7f8718374"
  },
  {
   "metadata": {},
   "cell_type": "code",
   "outputs": [],
   "execution_count": null,
   "source": "from IPython.display import Code",
   "id": "a9d0a17ad2552ab9"
  },
  {
   "metadata": {},
   "cell_type": "markdown",
   "source": "### __Using a Web API__",
   "id": "b3785ffae802fbec"
  },
  {
   "metadata": {},
   "cell_type": "markdown",
   "source": "#### &emsp;Git and GitHub",
   "id": "fc8f7b97dbfc97ca"
  },
  {
   "metadata": {},
   "cell_type": "markdown",
   "source": "#### &emsp;Request Data Using an API Call",
   "id": "2d18bc246ff04882"
  },
  {
   "metadata": {},
   "cell_type": "code",
   "outputs": [],
   "execution_count": null,
   "source": "https://api.github.com/search/repositories?q=language:python&sort=stars",
   "id": "8c3684489937db5f"
  },
  {
   "metadata": {},
   "cell_type": "code",
   "outputs": [],
   "execution_count": null,
   "source": [
    "{\n",
    "  \"total_count\": 17586569,\n",
    "  \"incomplete_results\": true,\n",
    "  \"items\": [\n",
    "    {"
   ],
   "id": "9efbddd46f03ac1b"
  },
  {
   "metadata": {},
   "cell_type": "markdown",
   "source": "#### &emsp;Installing Requests",
   "id": "affe21017fbc803f"
  },
  {
   "metadata": {},
   "cell_type": "code",
   "outputs": [],
   "execution_count": null,
   "source": "$ python -m pip install --user requests",
   "id": "e359f28edb74c10"
  },
  {
   "metadata": {},
   "cell_type": "markdown",
   "source": "#### &emsp;Processing an API Response",
   "id": "803ee44fa56642c9"
  },
  {
   "metadata": {
    "ExecuteTime": {
     "end_time": "2025-04-03T10:51:35.414470Z",
     "start_time": "2025-04-03T10:51:33.904406Z"
    }
   },
   "cell_type": "code",
   "source": [
    "# Processing an API Response - python_repos.py\n",
    "import requests\n",
    "\n",
    "# Make an API call and store the response.\n",
    "url = 'https://api.github.com/search/repositories?q=language:python&sort=stars'\n",
    "headers = {'Accept': 'application/vnd.github.v3+json'}\n",
    "r = requests.get(url, headers=headers)\n",
    "print(f\"Status code: {r.status_code}\")\n",
    "\n",
    "# Store API response in a variable.\n",
    "response_dict = r.json()\n",
    "\n",
    "# Process results.\n",
    "print(response_dict.keys())\n"
   ],
   "id": "8db9f99002c9f2bb",
   "outputs": [
    {
     "name": "stdout",
     "output_type": "stream",
     "text": [
      "Status code: 200\n",
      "dict_keys(['total_count', 'incomplete_results', 'items'])\n"
     ]
    }
   ],
   "execution_count": 2
  },
  {
   "metadata": {},
   "cell_type": "markdown",
   "source": "#### &emsp;Working with the Response Dictionary",
   "id": "82ac2191803bd47a"
  },
  {
   "metadata": {},
   "cell_type": "code",
   "outputs": [],
   "execution_count": null,
   "source": "",
   "id": "eaff9f7caee7aba4"
  },
  {
   "metadata": {},
   "cell_type": "markdown",
   "source": "#### &emsp;Summarizing the Top Repositories",
   "id": "ae3e8c2513dd13ca"
  },
  {
   "metadata": {},
   "cell_type": "code",
   "outputs": [],
   "execution_count": null,
   "source": "",
   "id": "9079142cdafdfb44"
  },
  {
   "metadata": {},
   "cell_type": "markdown",
   "source": "#### &emsp;Monitoring API Rate Limits",
   "id": "beff2f9444d9b466"
  },
  {
   "metadata": {},
   "cell_type": "code",
   "outputs": [],
   "execution_count": null,
   "source": "",
   "id": "658df5c2100a5e82"
  },
  {
   "metadata": {},
   "cell_type": "markdown",
   "source": "### __Visualizing Repositories Using Plotly__",
   "id": "cfa4c82fc8c1f562"
  },
  {
   "metadata": {},
   "cell_type": "code",
   "outputs": [],
   "execution_count": null,
   "source": "",
   "id": "4d2446f3c47e7d4e"
  },
  {
   "metadata": {},
   "cell_type": "markdown",
   "source": "#### &emsp;Refining Plotly Charts",
   "id": "ba90d90929dd2cf3"
  },
  {
   "metadata": {},
   "cell_type": "code",
   "outputs": [],
   "execution_count": null,
   "source": "",
   "id": "9954131b27adb733"
  },
  {
   "metadata": {},
   "cell_type": "markdown",
   "source": "#### &emsp;Adding Custom Tooltips",
   "id": "b61f5c36796d5c81"
  },
  {
   "metadata": {},
   "cell_type": "code",
   "outputs": [],
   "execution_count": null,
   "source": "",
   "id": "1758d4b1db77fd22"
  },
  {
   "metadata": {},
   "cell_type": "markdown",
   "source": "#### &emsp;Adding Clickable Links to Our Graph",
   "id": "eaf7f526e45747c6"
  },
  {
   "metadata": {},
   "cell_type": "code",
   "outputs": [],
   "execution_count": null,
   "source": "",
   "id": "44f3445f77e1a138"
  },
  {
   "metadata": {},
   "cell_type": "markdown",
   "source": "#### &emsp;More About Plotly and the GitHub API",
   "id": "4ebadb8c3af374c8"
  },
  {
   "metadata": {},
   "cell_type": "code",
   "outputs": [],
   "execution_count": null,
   "source": "",
   "id": "84f81e4377fe7dc2"
  },
  {
   "metadata": {},
   "cell_type": "markdown",
   "source": "### __The Hacker News API__",
   "id": "5bf6669429ba6332"
  },
  {
   "metadata": {},
   "cell_type": "code",
   "outputs": [],
   "execution_count": null,
   "source": "",
   "id": "40a67f019b96b936"
  },
  {
   "metadata": {},
   "cell_type": "markdown",
   "source": "#### &emsp;Exercise 17-1: Other Languages",
   "id": "b31c0fbd350b5c7a"
  },
  {
   "metadata": {},
   "cell_type": "code",
   "outputs": [],
   "execution_count": null,
   "source": "",
   "id": "76f06ab9ebcfe739"
  },
  {
   "metadata": {},
   "cell_type": "markdown",
   "source": "#### &emsp;Exercise 17-2: Active Discussions",
   "id": "34f717c80874b080"
  },
  {
   "metadata": {},
   "cell_type": "code",
   "outputs": [],
   "execution_count": null,
   "source": "",
   "id": "90cc06f1334940f1"
  },
  {
   "metadata": {},
   "cell_type": "markdown",
   "source": "#### &emsp;Exercise 17-3: Testing python_repos.py",
   "id": "6fc5ec72e088197"
  },
  {
   "metadata": {},
   "cell_type": "code",
   "outputs": [],
   "execution_count": null,
   "source": "",
   "id": "cb50d7a25397eefc"
  },
  {
   "metadata": {},
   "cell_type": "markdown",
   "source": "#### &emsp;Exercise 17-4: Further Exploration",
   "id": "2e1436c48b65eb7b"
  },
  {
   "metadata": {},
   "cell_type": "code",
   "outputs": [],
   "execution_count": null,
   "source": "",
   "id": "ba360d9c5f585689"
  },
  {
   "metadata": {},
   "cell_type": "markdown",
   "source": "### __Summary__",
   "id": "c1cb0600ea88856a"
  }
 ],
 "metadata": {
  "kernelspec": {
   "display_name": "Python 3",
   "language": "python",
   "name": "python3"
  },
  "language_info": {
   "codemirror_mode": {
    "name": "ipython",
    "version": 2
   },
   "file_extension": ".py",
   "mimetype": "text/x-python",
   "name": "python",
   "nbconvert_exporter": "python",
   "pygments_lexer": "ipython2",
   "version": "2.7.6"
  }
 },
 "nbformat": 4,
 "nbformat_minor": 5
}
