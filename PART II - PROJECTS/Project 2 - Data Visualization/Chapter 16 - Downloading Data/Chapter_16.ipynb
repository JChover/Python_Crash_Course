{
 "cells": [
  {
   "metadata": {},
   "cell_type": "markdown",
   "source": "# Chapter 16 - Downloading Data",
   "id": "678dfa12179d79f4"
  },
  {
   "metadata": {},
   "cell_type": "code",
   "outputs": [],
   "execution_count": null,
   "source": "from IPython.display import Code\n",
   "id": "c287827a8555abe0"
  },
  {
   "metadata": {},
   "cell_type": "markdown",
   "source": "### __The CSV File Format__",
   "id": "a9b70cd946927263"
  },
  {
   "metadata": {},
   "cell_type": "code",
   "outputs": [],
   "execution_count": null,
   "source": "",
   "id": "8c3f5d554746e538"
  },
  {
   "metadata": {},
   "cell_type": "markdown",
   "source": "#### &emsp;Parsing the CSV File Headers",
   "id": "bccaa9a4b09d4ad7"
  },
  {
   "metadata": {},
   "cell_type": "code",
   "outputs": [],
   "execution_count": null,
   "source": "",
   "id": "edfce64c8067463d"
  },
  {
   "metadata": {},
   "cell_type": "markdown",
   "source": "#### &emsp;Printing the Header and Their Positions",
   "id": "9a5e589548d24fc6"
  },
  {
   "metadata": {},
   "cell_type": "code",
   "outputs": [],
   "execution_count": null,
   "source": "",
   "id": "ef6e83069bad6fe5"
  },
  {
   "metadata": {},
   "cell_type": "markdown",
   "source": "#### &emsp;Extracting and Reading Data",
   "id": "ab56633ac62f213e"
  },
  {
   "metadata": {},
   "cell_type": "code",
   "outputs": [],
   "execution_count": null,
   "source": "",
   "id": "44aa82d748bb95d1"
  },
  {
   "metadata": {},
   "cell_type": "markdown",
   "source": "#### &emsp;Plotting Data in a Temperature Chart",
   "id": "73f103eb5e59c6ce"
  },
  {
   "metadata": {},
   "cell_type": "code",
   "outputs": [],
   "execution_count": null,
   "source": "",
   "id": "9466e8005aeb6a75"
  },
  {
   "metadata": {},
   "cell_type": "markdown",
   "source": "#### &emsp;The datetime Module",
   "id": "188bec7f57313a83"
  },
  {
   "metadata": {},
   "cell_type": "code",
   "outputs": [],
   "execution_count": null,
   "source": "",
   "id": "b8a8b4125d5110e9"
  },
  {
   "metadata": {},
   "cell_type": "markdown",
   "source": "#### &emsp;Plotting Dates",
   "id": "877608b98ba5acd4"
  },
  {
   "metadata": {},
   "cell_type": "code",
   "outputs": [],
   "execution_count": null,
   "source": "",
   "id": "e4841f9f6323e47"
  },
  {
   "metadata": {},
   "cell_type": "markdown",
   "source": "#### &emsp;Plotting a Longer Timeframe",
   "id": "6a276865e1d95a1f"
  },
  {
   "metadata": {},
   "cell_type": "code",
   "outputs": [],
   "execution_count": null,
   "source": "",
   "id": "530b33d3fb052af1"
  },
  {
   "metadata": {},
   "cell_type": "markdown",
   "source": "#### &emsp;Plotting a Second Data Series",
   "id": "a9264b9dec0d4ac6"
  },
  {
   "metadata": {},
   "cell_type": "code",
   "outputs": [],
   "execution_count": null,
   "source": "",
   "id": "80770b32f988dc7d"
  },
  {
   "metadata": {},
   "cell_type": "markdown",
   "source": "#### &emsp;Shading an Area in the Chart",
   "id": "83533cafd5dcdb1e"
  },
  {
   "metadata": {},
   "cell_type": "code",
   "outputs": [],
   "execution_count": null,
   "source": "",
   "id": "6036b9382aecf0b2"
  },
  {
   "metadata": {},
   "cell_type": "markdown",
   "source": "#### &emsp;Error Checking",
   "id": "7664ff9aabce4390"
  },
  {
   "metadata": {},
   "cell_type": "code",
   "outputs": [],
   "execution_count": null,
   "source": "",
   "id": "d7d8c54308f0177d"
  },
  {
   "metadata": {},
   "cell_type": "markdown",
   "source": "#### &emsp;Downloading Your Own Data",
   "id": "cda78550ab356e06"
  },
  {
   "metadata": {},
   "cell_type": "code",
   "outputs": [],
   "execution_count": null,
   "source": "",
   "id": "b8c7e5b00a55b28c"
  },
  {
   "metadata": {},
   "cell_type": "markdown",
   "source": "#### &emsp;Exercise 16-1: Sitka Rainfall",
   "id": "5f67e76ca3dfa2ce"
  },
  {
   "metadata": {},
   "cell_type": "code",
   "outputs": [],
   "execution_count": null,
   "source": "",
   "id": "4f3989f7a5ea2088"
  },
  {
   "metadata": {},
   "cell_type": "markdown",
   "source": "#### &emsp;Exercise 16-2: Sitka–Death Valley Comparison",
   "id": "8b2a0e66f4f4c5d2"
  },
  {
   "metadata": {},
   "cell_type": "code",
   "outputs": [],
   "execution_count": null,
   "source": "",
   "id": "68484b96bbc046c7"
  },
  {
   "metadata": {},
   "cell_type": "markdown",
   "source": "#### &emsp;Exercise 16-3: San Francisco",
   "id": "e8527e2199fd4381"
  },
  {
   "metadata": {},
   "cell_type": "code",
   "outputs": [],
   "execution_count": null,
   "source": "",
   "id": "91b30ec5a8d49f5"
  },
  {
   "metadata": {},
   "cell_type": "markdown",
   "source": "#### &emsp;Exercise 16-4: Automatic Indexes",
   "id": "4e78227c22426670"
  },
  {
   "metadata": {},
   "cell_type": "code",
   "outputs": [],
   "execution_count": null,
   "source": "",
   "id": "d17686b08b303b7e"
  },
  {
   "metadata": {},
   "cell_type": "markdown",
   "source": "#### &emsp;Exercise 16-5: Explore",
   "id": "deabb69a82cb52b2"
  },
  {
   "metadata": {},
   "cell_type": "code",
   "outputs": [],
   "execution_count": null,
   "source": "",
   "id": "8bd2688b9d4eebf1"
  },
  {
   "metadata": {},
   "cell_type": "markdown",
   "source": "### __Mapping Global Data Sets: JSON Format__",
   "id": "805297cee9082b62"
  },
  {
   "metadata": {},
   "cell_type": "code",
   "outputs": [],
   "execution_count": null,
   "source": "",
   "id": "80ab7b72b38952b1"
  },
  {
   "metadata": {},
   "cell_type": "markdown",
   "source": "#### &emsp;Downloading Earthquake Data",
   "id": "50c32eaa5887ca95"
  },
  {
   "metadata": {},
   "cell_type": "code",
   "outputs": [],
   "execution_count": null,
   "source": "",
   "id": "6e0205888daa5217"
  },
  {
   "metadata": {},
   "cell_type": "markdown",
   "source": "#### &emsp;Examining JSON Data",
   "id": "5c8d809aaf468d8a"
  },
  {
   "metadata": {},
   "cell_type": "code",
   "outputs": [],
   "execution_count": null,
   "source": "",
   "id": "6bb1574fbba663b7"
  },
  {
   "metadata": {},
   "cell_type": "markdown",
   "source": "#### &emsp;Making a List of All Earthquake",
   "id": "66cd207a59a07326"
  },
  {
   "metadata": {},
   "cell_type": "code",
   "outputs": [],
   "execution_count": null,
   "source": "",
   "id": "36d56c38b3d3f8aa"
  },
  {
   "metadata": {},
   "cell_type": "markdown",
   "source": "#### &emsp;Extracting Magnitude",
   "id": "827d1cc35f79c74a"
  },
  {
   "metadata": {},
   "cell_type": "code",
   "outputs": [],
   "execution_count": null,
   "source": "",
   "id": "fb5fcbc5edefa352"
  },
  {
   "metadata": {},
   "cell_type": "markdown",
   "source": "#### &emsp;Extracting Location Data",
   "id": "d4cb78efd0d173f0"
  },
  {
   "metadata": {},
   "cell_type": "code",
   "outputs": [],
   "execution_count": null,
   "source": "",
   "id": "b4e11fccfd6c6a17"
  },
  {
   "metadata": {},
   "cell_type": "markdown",
   "source": "#### &emsp;Building a World Map",
   "id": "ff8e4ae3a70370bf"
  },
  {
   "metadata": {},
   "cell_type": "code",
   "outputs": [],
   "execution_count": null,
   "source": "",
   "id": "78044b1e0d4f5421"
  },
  {
   "metadata": {},
   "cell_type": "markdown",
   "source": "#### &emsp;A Different Way of Specifying Chart Data",
   "id": "1a4b3a44d36a1950"
  },
  {
   "metadata": {},
   "cell_type": "code",
   "outputs": [],
   "execution_count": null,
   "source": "",
   "id": "bc7c393430b39679"
  },
  {
   "metadata": {},
   "cell_type": "markdown",
   "source": "#### &emsp;Customizing Marker Size",
   "id": "d7c322ac856fa140"
  },
  {
   "metadata": {},
   "cell_type": "code",
   "outputs": [],
   "execution_count": null,
   "source": "",
   "id": "dbe93d02e7c228c9"
  },
  {
   "metadata": {},
   "cell_type": "markdown",
   "source": "#### &emsp;Customizing Marker Color",
   "id": "a6875dcfb1457681"
  },
  {
   "metadata": {},
   "cell_type": "code",
   "outputs": [],
   "execution_count": null,
   "source": "",
   "id": "2de719ed81ff32a7"
  },
  {
   "metadata": {},
   "cell_type": "markdown",
   "source": "#### &emsp;Other Colorscale",
   "id": "3aff08296deb8094"
  },
  {
   "metadata": {},
   "cell_type": "code",
   "outputs": [],
   "execution_count": null,
   "source": "",
   "id": "15a8568193961f3f"
  },
  {
   "metadata": {},
   "cell_type": "markdown",
   "source": "#### &emsp;Adding Hover Text",
   "id": "a21df86e7d3d296c"
  },
  {
   "metadata": {},
   "cell_type": "code",
   "outputs": [],
   "execution_count": null,
   "source": "",
   "id": "3f82b3482e9b0ef7"
  },
  {
   "metadata": {},
   "cell_type": "markdown",
   "source": "#### &emsp;Exercise 16-6: Refactoring",
   "id": "dd2fb864fa24c8c6"
  },
  {
   "metadata": {},
   "cell_type": "code",
   "outputs": [],
   "execution_count": null,
   "source": "",
   "id": "2d295b25390ebf4e"
  },
  {
   "metadata": {},
   "cell_type": "markdown",
   "source": "#### &emsp;Exercise 16-7: Automated Title",
   "id": "f9efd10858f0e8cf"
  },
  {
   "metadata": {},
   "cell_type": "code",
   "outputs": [],
   "execution_count": null,
   "source": "",
   "id": "1394a730bccabb75"
  },
  {
   "metadata": {},
   "cell_type": "markdown",
   "source": "#### &emsp;Exercise 16-8: Recent Earthquakes",
   "id": "562dbd7cd8b6e906"
  },
  {
   "metadata": {},
   "cell_type": "code",
   "outputs": [],
   "execution_count": null,
   "source": "",
   "id": "348dcd12eec0a879"
  },
  {
   "metadata": {},
   "cell_type": "markdown",
   "source": "#### &emsp;Exercise 16-9: World Fires",
   "id": "8fe3c171fc9dba5c"
  },
  {
   "metadata": {},
   "cell_type": "code",
   "outputs": [],
   "execution_count": null,
   "source": "",
   "id": "135de016ac6ef07e"
  },
  {
   "metadata": {},
   "cell_type": "markdown",
   "source": "### __Summary__",
   "id": "3bff4cc47ff24c6f"
  }
 ],
 "metadata": {
  "kernelspec": {
   "display_name": "Python 3",
   "language": "python",
   "name": "python3"
  },
  "language_info": {
   "codemirror_mode": {
    "name": "ipython",
    "version": 2
   },
   "file_extension": ".py",
   "mimetype": "text/x-python",
   "name": "python",
   "nbconvert_exporter": "python",
   "pygments_lexer": "ipython2",
   "version": "2.7.6"
  }
 },
 "nbformat": 4,
 "nbformat_minor": 5
}
