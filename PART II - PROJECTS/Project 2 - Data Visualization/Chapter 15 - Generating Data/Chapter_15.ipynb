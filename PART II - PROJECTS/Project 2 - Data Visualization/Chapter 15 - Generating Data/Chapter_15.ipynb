{
 "cells": [
  {
   "metadata": {},
   "cell_type": "markdown",
   "source": "# Chapter 15 - Generating Data",
   "id": "361acf444b69b1a3"
  },
  {
   "metadata": {},
   "cell_type": "code",
   "outputs": [],
   "execution_count": null,
   "source": "from IPython.display import Code",
   "id": "ab02040a492a50a4"
  },
  {
   "metadata": {},
   "cell_type": "markdown",
   "source": "### __Installing Matplotlib__",
   "id": "7ecf0999f94d44f1"
  },
  {
   "metadata": {},
   "cell_type": "markdown",
   "source": [
    "__Windows Install:__\n",
    "\n",
    "$ python -m pip install --user matplotlib\n",
    "\n",
    "__MacOS Install:__\n",
    "\n",
    "$ python3 -m pip install --user matplotlib"
   ],
   "id": "908bdee2a624055d"
  },
  {
   "metadata": {},
   "cell_type": "markdown",
   "source": "### __Plotting a Simple Line Graph__",
   "id": "3c66aec74bd09f1b"
  },
  {
   "metadata": {},
   "cell_type": "code",
   "outputs": [],
   "execution_count": null,
   "source": [
    "# Plotting a Simple Line Graph - mpl_squares.py\n",
    "import matplotlib.pyplot as plt\n",
    "\n",
    "squares = [1, 4, 9, 16, 25]\n",
    "\n",
    "fig, ax = plt.subplots()\n",
    "ax.plot(squares)\n",
    "plt.show()"
   ],
   "id": "8bdc0fe8afc0bb2f"
  },
  {
   "metadata": {},
   "cell_type": "markdown",
   "source": "#### &emsp;Changing the Label Type and Line Thickness",
   "id": "72df8df98aa30d4b"
  },
  {
   "metadata": {},
   "cell_type": "code",
   "outputs": [],
   "execution_count": null,
   "source": "",
   "id": "409adbbbca2e558c"
  },
  {
   "metadata": {},
   "cell_type": "markdown",
   "source": "#### &emsp;Correcting the Plot",
   "id": "4d0640270121fbb0"
  },
  {
   "metadata": {},
   "cell_type": "code",
   "outputs": [],
   "execution_count": null,
   "source": "",
   "id": "fce153b1f6e39795"
  },
  {
   "metadata": {},
   "cell_type": "markdown",
   "source": "#### &emsp;Using Built-in Styles",
   "id": "b6cb4fadaf730dc"
  },
  {
   "metadata": {},
   "cell_type": "code",
   "outputs": [],
   "execution_count": null,
   "source": "",
   "id": "9e75f6ecc9ff7707"
  },
  {
   "metadata": {},
   "cell_type": "markdown",
   "source": "#### &emsp;Plotting and Styling Individual Points with scatter()",
   "id": "9e89f98d1e0e223c"
  },
  {
   "metadata": {},
   "cell_type": "code",
   "outputs": [],
   "execution_count": null,
   "source": "",
   "id": "576a2e8706069744"
  },
  {
   "metadata": {},
   "cell_type": "markdown",
   "source": "#### &emsp;Plotting a Series of Points with scatter()",
   "id": "4121a975343ac63c"
  },
  {
   "metadata": {},
   "cell_type": "code",
   "outputs": [],
   "execution_count": null,
   "source": "",
   "id": "13b28b6d6b816291"
  },
  {
   "metadata": {},
   "cell_type": "markdown",
   "source": "#### &emsp;Calculating Data Automatically",
   "id": "daf815955023d1f7"
  },
  {
   "metadata": {},
   "cell_type": "code",
   "outputs": [],
   "execution_count": null,
   "source": "",
   "id": "4d18432c0e18bd83"
  },
  {
   "metadata": {},
   "cell_type": "markdown",
   "source": "#### &emsp;Defining Custom Colors",
   "id": "730c25fc65eede4"
  },
  {
   "metadata": {},
   "cell_type": "code",
   "outputs": [],
   "execution_count": null,
   "source": "",
   "id": "d7033edbbae5bd1d"
  },
  {
   "metadata": {},
   "cell_type": "markdown",
   "source": "#### &emsp;Using a Colormap",
   "id": "73b160b76833f459"
  },
  {
   "metadata": {},
   "cell_type": "code",
   "outputs": [],
   "execution_count": null,
   "source": "",
   "id": "11eba2189b0364fe"
  },
  {
   "metadata": {},
   "cell_type": "markdown",
   "source": "#### &emsp;Saving Your Plots Automatically",
   "id": "a270fe26a24ba431"
  },
  {
   "metadata": {},
   "cell_type": "code",
   "outputs": [],
   "execution_count": null,
   "source": "",
   "id": "db63431f56b16eb8"
  },
  {
   "metadata": {},
   "cell_type": "markdown",
   "source": "#### &emsp;Exercise 15-1: Cubes",
   "id": "80e2aae072a7e855"
  },
  {
   "metadata": {},
   "cell_type": "code",
   "outputs": [],
   "execution_count": null,
   "source": "",
   "id": "8e3cc27eed1a9509"
  },
  {
   "metadata": {},
   "cell_type": "markdown",
   "source": "#### &emsp;Exercise 15-2: Colored Cubes",
   "id": "2b023aa946b6ec2d"
  },
  {
   "metadata": {},
   "cell_type": "code",
   "outputs": [],
   "execution_count": null,
   "source": "",
   "id": "619cd993016533a5"
  },
  {
   "metadata": {},
   "cell_type": "markdown",
   "source": "### __Random Walks__",
   "id": "a545cb3bfcf8f63"
  },
  {
   "metadata": {},
   "cell_type": "code",
   "outputs": [],
   "execution_count": null,
   "source": "",
   "id": "96b066f4593a624"
  },
  {
   "metadata": {},
   "cell_type": "markdown",
   "source": "#### &emsp;Creating the RandomWalk() Class",
   "id": "cc48264f4d1f78c3"
  },
  {
   "metadata": {},
   "cell_type": "code",
   "outputs": [],
   "execution_count": null,
   "source": "",
   "id": "47b3cf1419fbd9a3"
  },
  {
   "metadata": {},
   "cell_type": "markdown",
   "source": "#### &emsp;Choosing Directions",
   "id": "6ac5d33259c0571c"
  },
  {
   "metadata": {},
   "cell_type": "code",
   "outputs": [],
   "execution_count": null,
   "source": "",
   "id": "48024084afadc95c"
  },
  {
   "metadata": {},
   "cell_type": "markdown",
   "source": "#### &emsp;Plotting Directions",
   "id": "1a24fdce35c1f17c"
  },
  {
   "metadata": {},
   "cell_type": "code",
   "outputs": [],
   "execution_count": null,
   "source": "",
   "id": "dbdf1cadf10f539b"
  },
  {
   "metadata": {},
   "cell_type": "markdown",
   "source": "#### &emsp;Generating Multiple Random Walks",
   "id": "40793fd71bf726d1"
  },
  {
   "metadata": {},
   "cell_type": "code",
   "outputs": [],
   "execution_count": null,
   "source": "",
   "id": "9d0f563b95b53d6d"
  },
  {
   "metadata": {},
   "cell_type": "markdown",
   "source": "#### &emsp;Styling the Walks",
   "id": "82664270fa081499"
  },
  {
   "metadata": {},
   "cell_type": "code",
   "outputs": [],
   "execution_count": null,
   "source": "",
   "id": "ea1ef2393d813884"
  },
  {
   "metadata": {},
   "cell_type": "markdown",
   "source": "#### &emsp;Exercise 15-3: Molecular Motion",
   "id": "c363e87bca2fee40"
  },
  {
   "metadata": {},
   "cell_type": "code",
   "outputs": [],
   "execution_count": null,
   "source": "",
   "id": "895dd5333c83ff7a"
  },
  {
   "metadata": {},
   "cell_type": "markdown",
   "source": "#### &emsp;Exercise 15-4: Modified Random Walks",
   "id": "86c72699189b073b"
  },
  {
   "metadata": {},
   "cell_type": "code",
   "outputs": [],
   "execution_count": null,
   "source": "",
   "id": "3807799e1550cbef"
  },
  {
   "metadata": {},
   "cell_type": "markdown",
   "source": "#### &emsp;Exercise 15-5: Refactoring",
   "id": "a98d1afe424c5de6"
  },
  {
   "metadata": {},
   "cell_type": "code",
   "outputs": [],
   "execution_count": null,
   "source": "",
   "id": "8df391e3a45f4b50"
  },
  {
   "metadata": {},
   "cell_type": "markdown",
   "source": "### __Rolling Dice with Plotly__",
   "id": "eb5159f00856b4da"
  },
  {
   "metadata": {},
   "cell_type": "code",
   "outputs": [],
   "execution_count": null,
   "source": "",
   "id": "824393dbc785d089"
  },
  {
   "metadata": {},
   "cell_type": "markdown",
   "source": "#### &emsp;Installing Plotly",
   "id": "7b52134765658142"
  },
  {
   "metadata": {},
   "cell_type": "code",
   "outputs": [],
   "execution_count": null,
   "source": "",
   "id": "90ba450c37daeee9"
  },
  {
   "metadata": {},
   "cell_type": "markdown",
   "source": "#### &emsp;Creating the Die Class",
   "id": "c907b4dea6218303"
  },
  {
   "metadata": {},
   "cell_type": "code",
   "outputs": [],
   "execution_count": null,
   "source": "",
   "id": "796c514892945560"
  },
  {
   "metadata": {},
   "cell_type": "markdown",
   "source": "#### &emsp;Rolling the Die",
   "id": "2d92e8a6c1ee9228"
  },
  {
   "metadata": {},
   "cell_type": "code",
   "outputs": [],
   "execution_count": null,
   "source": "",
   "id": "4560937d90e77865"
  },
  {
   "metadata": {},
   "cell_type": "markdown",
   "source": "#### &emsp;Analyzing the Results",
   "id": "115b6eeba7bbde99"
  },
  {
   "metadata": {},
   "cell_type": "code",
   "outputs": [],
   "execution_count": null,
   "source": "",
   "id": "e2b57a6b07c9372"
  },
  {
   "metadata": {},
   "cell_type": "markdown",
   "source": "#### &emsp;Making a Histogram",
   "id": "1db8e20e4029ae9d"
  },
  {
   "metadata": {},
   "cell_type": "code",
   "outputs": [],
   "execution_count": null,
   "source": "",
   "id": "84914f730545d877"
  },
  {
   "metadata": {},
   "cell_type": "markdown",
   "source": "#### &emsp;Rolling two Dice",
   "id": "8785d27211199f2a"
  },
  {
   "metadata": {},
   "cell_type": "code",
   "outputs": [],
   "execution_count": null,
   "source": "",
   "id": "cf38aa4cbe9ea93"
  },
  {
   "metadata": {},
   "cell_type": "markdown",
   "source": "#### &emsp;Rolling Dice of Different Sizes",
   "id": "34a05a2de58582d6"
  },
  {
   "metadata": {},
   "cell_type": "code",
   "outputs": [],
   "execution_count": null,
   "source": "",
   "id": "56ed9e259fdcd920"
  },
  {
   "metadata": {},
   "cell_type": "markdown",
   "source": "#### &emsp;Exercise 15-6: Two D8s",
   "id": "8b4929f9815a3be2"
  },
  {
   "metadata": {},
   "cell_type": "code",
   "outputs": [],
   "execution_count": null,
   "source": "",
   "id": "af14455e2484ad62"
  },
  {
   "metadata": {},
   "cell_type": "markdown",
   "source": "#### &emsp;Exercise 15-7: Three Dice",
   "id": "e39dc92f5bd21ca1"
  },
  {
   "metadata": {},
   "cell_type": "code",
   "outputs": [],
   "execution_count": null,
   "source": "",
   "id": "fa9bac35cbc7653a"
  },
  {
   "metadata": {},
   "cell_type": "markdown",
   "source": "#### &emsp;Exercise 15-8: Multiplication",
   "id": "b4e5774aa90e4168"
  },
  {
   "metadata": {},
   "cell_type": "code",
   "outputs": [],
   "execution_count": null,
   "source": "",
   "id": "dd1ed1fbfa48d29d"
  },
  {
   "metadata": {},
   "cell_type": "markdown",
   "source": "#### &emsp;Exercise 15-9: Die Comprehensions",
   "id": "e6d1f6ccb345ca7e"
  },
  {
   "metadata": {},
   "cell_type": "code",
   "outputs": [],
   "execution_count": null,
   "source": "",
   "id": "94af1349f107642"
  },
  {
   "metadata": {},
   "cell_type": "markdown",
   "source": "#### &emsp;Exercise 15-10: Practicing with Both Libraries",
   "id": "98733fb8b362d6f7"
  },
  {
   "metadata": {},
   "cell_type": "code",
   "outputs": [],
   "execution_count": null,
   "source": "",
   "id": "68bd9b56ede304d1"
  },
  {
   "metadata": {},
   "cell_type": "markdown",
   "source": "### __Summary__",
   "id": "96b1aff33893ef4d"
  }
 ],
 "metadata": {
  "kernelspec": {
   "display_name": "Python 3",
   "language": "python",
   "name": "python3"
  },
  "language_info": {
   "codemirror_mode": {
    "name": "ipython",
    "version": 2
   },
   "file_extension": ".py",
   "mimetype": "text/x-python",
   "name": "python",
   "nbconvert_exporter": "python",
   "pygments_lexer": "ipython2",
   "version": "2.7.6"
  }
 },
 "nbformat": 4,
 "nbformat_minor": 5
}
